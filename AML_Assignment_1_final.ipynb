{
 "cells": [
  {
   "cell_type": "markdown",
   "metadata": {},
   "source": [
\
   ]
  },
  {
   "cell_type": "markdown",
   "metadata": {},
   "source": [
    "# Importing dependencies"
   ]
  },
  {
   "cell_type": "code",
   "execution_count": 1,
   "metadata": {
    "id": "VIexUv4Ocfvc"
   },
   "outputs": [
    {
     "name": "stderr",
     "output_type": "stream",
     "text": [
      "C:\\Users\\Sucheta Jhunjhunwala\\anaconda3\\lib\\site-packages\\torchvision\\io\\image.py:13: UserWarning: Failed to load image Python extension: Could not find module 'C:\\Users\\Sucheta Jhunjhunwala\\anaconda3\\Lib\\site-packages\\torchvision\\image.pyd' (or one of its dependencies). Try using the full path with constructor syntax.\n",
      "  warn(f\"Failed to load image Python extension: {e}\")\n"
     ]
    }
   ],
   "source": [
    "import torch\n",
    "import torch.nn as nn\n",
    "import torch.nn.functional as F\n",
    "import torch.optim as optim\n",
    "from torchvision import datasets, transforms\n",
    "import matplotlib.pyplot as plt\n",
    "import numpy as np\n",
    "\n",
    "# this 'device' will be used for training our model\n",
    "device = torch.device(\"cpu\")\n"
   ]
  },
  {
   "cell_type": "markdown",
   "metadata": {},
   "source": [
    "# Loading the dataset"
   ]
  },
  {
   "cell_type": "code",
   "execution_count": 2,
   "metadata": {
    "colab": {
     "base_uri": "https://localhost:8080/",
     "height": 443,
     "referenced_widgets": [
      "0264d5386cc543c6a8517c74a685cb41",
      "70665105a5b741729bf796b5efde4087",
      "adab188eae71417182bda39bfc7cca0f",
      "1641e62d39c540e1b653b7eed0c3c81e",
      "dd431c1cc1704c50ad1ee48fb7f70131",
      "6613f08172274199a53bb638b7b6b30f",
      "2d3d18afcd094e6fb18959ba7175a4ea",
      "5d89bb2fb7f445b887a2fb7502b790dc",
      "804e6ab5f17e4f8699d1068c5f5c1590",
      "74783531182344ad8c6a8166a072dbb7",
      "35f6adf729a74bcc844339c899b42c48",
      "aac041a8118f43b4a0ff7d4e4646dc23",
      "71bf0e2dbefa4a208b93c0491f4c4791",
      "2a42e551ce16448fbde18268a0a38620",
      "0361e2700fef42c195660d34eeacd591",
      "7c5489b9aee141d1aef469e791144af2",
      "37fe6d5d6a5e4afcbfa458a47c19b64b",
      "56ccc8ca1f684bd69d428b2aebfbe06a",
      "f0ab105850f6412eaec5f1305f63de08",
      "e51e91b32d2f47ac8e41c8e4f7e53ad1",
      "4585114f65f54b829c54af950fb962cf",
      "6ef834a877b7450f8912b9ba1246492c",
      "75e6c0f1756d420ea2ebb962235a0424",
      "b9c112655c624c3c840e21a1ffdf5ed7",
      "7ad821623921425c8cd400673e42cc23",
      "1157636a525a4f71afd8f0e814fe7bbd",
      "a404c3ce1eaa4301a914e6dacca6c2b7",
      "a31f211cfdaa4b67be1c51cd24f39006",
      "9873c85dcb3b45039a2788390bbcb006",
      "d6a2be5f44804f00b24a1ab9fc1ed549",
      "d3241ed9486943149bf9386dafbed4fa",
      "7f3dabde89fa4e2fbda87db84e852046",
      "4fa9450ed11a407fa625694772ff2eb3",
      "80abc6f63104466dacfd11f31cd468cd",
      "daf4706e8e3c427c96552fe4ef6420ec",
      "0b7920d07fd8442e9d55b58c4a905ee1",
      "cdfd60038dd74f97964f3fd05f7677ba",
      "d42cd5dd7c774d2bbf658b732e8d0902",
      "400a1218b6344b1d868abb270dadda92",
      "6181def79c3042ee8bb731515ece986a",
      "2e27beecb2d34599bc661bac119ca18b",
      "131847510fbe4c4ca3f114650d83ebbe",
      "6347b56bdead429ea4a81d3965a68ca4",
      "a1dfbfe1e02541059c34e30010838be1"
     ]
    },
    "id": "mgVx8gTVck7V",
    "outputId": "c00654e5-a675-45aa-bb33-f9a00d6fa016"
   },
   "outputs": [],
   "source": [
    "# images are 28x28 pixels\n",
    "input_size  = 28*56 \n",
    "\n",
    "\n",
    "#There are 100 possible classes, from 00 to 99\n",
    "output_size = 100\n",
    "\n",
    "\n",
    "train_loader = torch.utils.data.DataLoader(\n",
    "    datasets.MNIST('../data', train=True, download=True,\n",
    "                   transform=transforms.Compose([\n",
    "                       transforms.ToTensor(),\n",
    "                       transforms.Normalize((0.1307,), (0.3081,))\n",
    "                   ])),\n",
    "    batch_size=64, shuffle=True)\n",
    "\n",
    "test_loader = torch.utils.data.DataLoader(\n",
    "    datasets.MNIST('../data',download=True, train=False, transform=transforms.Compose([\n",
    "                       transforms.ToTensor(),\n",
    "                       transforms.Normalize((0.1307,), (0.3081,))\n",
    "                   ])),\n",
    "    batch_size=10, shuffle=True)"
   ]
  },
  {
   "cell_type": "markdown",
   "metadata": {},
   "source": [
    "# Visualizing the dataset"
   ]
  },
  {
   "cell_type": "code",
   "execution_count": 3,
   "metadata": {
    "colab": {
     "base_uri": "https://localhost:8080/",
     "height": 70
    },
    "id": "Kmi0OvLxc2fM",
    "outputId": "00d983ad-4db0-4fc0-967c-e1d605f8b482"
   },
   "outputs": [
    {
     "data": {
      "image/png": "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\n",
      "text/plain": [
       "<Figure size 1080x504 with 9 Axes>"
      ]
     },
     "metadata": {
      "needs_background": "light"
     },
     "output_type": "display_data"
    }
   ],
   "source": [
    "plt.figure(figsize=(15,7))\n",
    "import numpy as np\n",
    "image_batch, label_batch = next(iter(train_loader))\n",
    "for i in range(10-1):\n",
    "    image1 = image_batch[i]\n",
    "    image2=image_batch[i+1]\n",
    "    label1 = label_batch[i].item()\n",
    "    label2 = label_batch[i+1].item()\n",
    "    label=int(str(label1)+str(label2))\n",
    "    plt.subplot(5, 10, i + 1)\n",
    "    image=torch.cat((image1[0],image2[0]),axis=1)\n",
    "    plt.imshow(image)\n",
    "    plt.axis('off')\n",
    "    plt.title(label)\n",
    "\n"
   ]
  },
  {
   "cell_type": "markdown",
   "metadata": {
    "id": "KoLJQlpzIayB"
   },
   "source": [
    "<b>To find the number of parameters in the network</b>"
   ]
  },
  {
   "cell_type": "code",
   "execution_count": 4,
   "metadata": {
    "id": "dosfH3beXFYt"
   },
   "outputs": [],
   "source": [
    "def get_n_params(model):\n",
    "  np=0\n",
    "  for p in list(model.parameters()):\n",
    "    np+=p.nelement()\n",
    "  return np"
   ]
  },
  {
   "cell_type": "markdown",
   "metadata": {
    "id": "OPE3cedPIspZ"
   },
   "source": [
    "<h1>Defining the train function</h1>"
   ]
  },
  {
   "cell_type": "code",
   "execution_count": 5,
   "metadata": {
    "id": "wjR0FWMRBwvL"
   },
   "outputs": [],
   "source": [
    "def train(epoch,model):\n",
    "    \n",
    "  model.train()\n",
    "  for batch_idx,(data,target) in enumerate(train_loader):\n",
    "    #Creating an empty tensor to store the concatenated images\n",
    "    images=torch.tensor([])\n",
    "\n",
    "\n",
    "    #Creating a tensor for storing the labels of the concatenated images\n",
    "    labels=torch.tensor([])\n",
    "\n",
    "\n",
    "    for i in range(20):\n",
    "      for j in range(20):\n",
    "\n",
    "\n",
    "        #Concatenating two numbers to form a double digit number\n",
    "        image=torch.cat((data[i],data[j]),axis=2)\n",
    "        image=torch.unsqueeze(image,axis=0)\n",
    "\n",
    "        #Creating the label of the corresponding image\n",
    "        label=target[i].item() * 10 + target[j].item()\n",
    "\n",
    "\n",
    "        #Adding the image to the tensor\n",
    "        images=torch.cat((images,image),axis=0)\n",
    "\n",
    "\n",
    "        #Adding the label to the tensor\n",
    "        labels=torch.cat((labels,torch.tensor([label])))\n",
    "\n",
    "    \n",
    "    #Converting the labels into a Long type tensor\n",
    "    labels = labels.type(torch.LongTensor)\n",
    "    \n",
    "    \n",
    "    #Keeping both the model and the data on the same device\n",
    "    images,labels=images.to(device),labels.to(device)\n",
    "\n",
    "\n",
    "    #Initializing zero gradient for our optimizer\n",
    "    optimizer.zero_grad()\n",
    "    \n",
    "    \n",
    "    #Calculating the output for the training batch\n",
    "    output=model(images)\n",
    "\n",
    "\n",
    "    #Specifying the loss function, here using Binary Cross-entropy\n",
    "    loss=F.nll_loss(output,labels)\n",
    "\n",
    "    #Initiating backpropagation\n",
    "    loss.backward()\n",
    "    \n",
    "    \n",
    "    #Using Gradient descent to update the parameters\n",
    "    optimizer.step()\n",
    "    \n",
    "    \n",
    "    if batch_idx % 50 == 0:\n",
    "            print('Train Epoch: {} [{}/{} ({:.0f}%)]\\tLoss: {:.6f}'.format(\n",
    "                epoch, batch_idx * 400, len(train_loader)*400,\n",
    "                100. * batch_idx / len(train_loader), loss.item()))\n"
   ]
  },
  {
   "cell_type": "markdown",
   "metadata": {
    "id": "ogqQQCIRKdWZ"
   },
   "source": [
    "<h1>Defining the testing function</h1>"
   ]
  },
  {
   "cell_type": "code",
   "execution_count": 6,
   "metadata": {
    "id": "WeiTunIkIW-g"
   },
   "outputs": [],
   "source": [
    "def test(model):\n",
    "\n",
    "    #Evaluating the model\n",
    "    model.eval()\n",
    "\n",
    "\n",
    "    #Initializing test loss\n",
    "    test_loss = 0\n",
    "\n",
    "\n",
    "    #Initializing the number of labels the model got right\n",
    "    correct = 0\n",
    "\n",
    "\n",
    "\n",
    "    for data, target in test_loader:\n",
    "      images=torch.tensor([])\n",
    "    \n",
    "      labels=torch.tensor([])\n",
    "        \n",
    "      for i in range(10):\n",
    "        \n",
    "        for j in range(10):\n",
    "            \n",
    "          image=torch.cat((data[i],data[j]),axis=2)\n",
    "        \n",
    "          image=torch.unsqueeze(image,axis=0)\n",
    "            \n",
    "          label=target[i].item()*10 + target[j].item()\n",
    "        \n",
    "          images=torch.cat((images,image),axis=0)\n",
    "            \n",
    "          labels=torch.cat((labels,torch.tensor([label])))\n",
    "    \n",
    "      labels = labels.type(torch.LongTensor)\n",
    "        \n",
    "      images, labels = images.to(device), labels.to(device)\n",
    "\n",
    "\n",
    "      #Calculating the output for the test data    \n",
    "      output = model(images)\n",
    "\n",
    "\n",
    "      #Calculating the loss for the testing data and summing up the loss for the entire batch\n",
    "      test_loss += F.nll_loss(output, labels, reduction='sum').item()\n",
    "\n",
    "\n",
    "      #Predicting the label\n",
    "      pred = output.data.max(1, keepdim=True)[1] # get the index of the max log-probability                                                                 \n",
    "      correct += pred.eq(labels.data.view_as(pred)).cpu().sum().item()\n",
    "\n",
    "\n",
    "    #Calculating the net test loss\n",
    "    test_loss /= len(test_loader.dataset)\n",
    "\n",
    "    #Calculating model accuracy\n",
    "    accuracy = 100. * correct / (len(test_loader)*100)\n",
    "    \n",
    "    print('\\nTest set: Average loss: {:.4f}, Accuracy: {}/{} ({:.0f}%)\\n'.format(\n",
    "          test_loss, correct, len(test_loader)*100,\n",
    "          accuracy))\n",
    "    return accuracy"
   ]
  },
  {
   "cell_type": "markdown",
   "metadata": {
    "id": "-DzBO9pzMEQ7"
   },
   "source": [
    "<h1>Creating a class for building the model</h1>"
   ]
  },
  {
   "cell_type": "code",
   "execution_count": 7,
   "metadata": {
    "id": "ied18IiSMH_w"
   },
   "outputs": [],
   "source": [
    "class FC2Layer(nn.Module):\n",
    "    def __init__(self, input_size, output_size):\n",
    "        super(FC2Layer, self).__init__()\n",
    "        self.input_size = input_size\n",
    "        self.network = nn.Sequential(\n",
    "            nn.Linear(input_size, 300), \n",
    "            nn.ReLU(), \n",
    "            nn.Linear(300,200), \n",
    "            nn.ReLU(), \n",
    "            nn.Linear(200, output_size), \n",
    "            nn.LogSoftmax(dim=1)\n",
    "        )\n",
    "\n",
    "    def forward(self, x):\n",
    "        x = x.view(-1, self.input_size)\n",
    "        return self.network(x)"
   ]
  },
  {
   "cell_type": "markdown",
   "metadata": {
    "id": "xkOLIkyOUUu9"
   },
   "source": [
    "<h1>Training the network</h1>"
   ]
  },
  {
   "cell_type": "code",
   "execution_count": 8,
   "metadata": {
    "id": "-7uIcCJGUXZo"
   },
   "outputs": [
    {
     "name": "stdout",
     "output_type": "stream",
     "text": [
      "Training on  cpu\n",
      "Number of parameters: 551000\n",
      "Train Epoch: 0 [0/375200 (0%)]\tLoss: 4.605380\n",
      "Train Epoch: 0 [20000/375200 (5%)]\tLoss: 4.587613\n",
      "Train Epoch: 0 [40000/375200 (11%)]\tLoss: 4.526497\n",
      "Train Epoch: 0 [60000/375200 (16%)]\tLoss: 4.521160\n",
      "Train Epoch: 0 [80000/375200 (21%)]\tLoss: 4.498975\n",
      "Train Epoch: 0 [100000/375200 (27%)]\tLoss: 4.361303\n",
      "Train Epoch: 0 [120000/375200 (32%)]\tLoss: 4.298258\n",
      "Train Epoch: 0 [140000/375200 (37%)]\tLoss: 4.302869\n",
      "Train Epoch: 0 [160000/375200 (43%)]\tLoss: 4.008816\n",
      "Train Epoch: 0 [180000/375200 (48%)]\tLoss: 3.793356\n",
      "Train Epoch: 0 [200000/375200 (53%)]\tLoss: 3.565116\n",
      "Train Epoch: 0 [220000/375200 (59%)]\tLoss: 3.187059\n",
      "Train Epoch: 0 [240000/375200 (64%)]\tLoss: 2.834565\n",
      "Train Epoch: 0 [260000/375200 (69%)]\tLoss: 2.486492\n",
      "Train Epoch: 0 [280000/375200 (75%)]\tLoss: 2.023928\n",
      "Train Epoch: 0 [300000/375200 (80%)]\tLoss: 2.387658\n",
      "Train Epoch: 0 [320000/375200 (85%)]\tLoss: 1.875590\n",
      "Train Epoch: 0 [340000/375200 (91%)]\tLoss: 2.163927\n",
      "Train Epoch: 0 [360000/375200 (96%)]\tLoss: 1.724026\n",
      "\n",
      "Test set: Average loss: 15.4782, Accuracy: 61756/100000 (62%)\n",
      "\n",
      "Train Epoch: 1 [0/375200 (0%)]\tLoss: 1.603579\n",
      "Train Epoch: 1 [20000/375200 (5%)]\tLoss: 1.599093\n",
      "Train Epoch: 1 [40000/375200 (11%)]\tLoss: 1.243927\n",
      "Train Epoch: 1 [60000/375200 (16%)]\tLoss: 1.341039\n",
      "Train Epoch: 1 [80000/375200 (21%)]\tLoss: 1.112057\n",
      "Train Epoch: 1 [100000/375200 (27%)]\tLoss: 0.892474\n",
      "Train Epoch: 1 [120000/375200 (32%)]\tLoss: 1.754361\n",
      "Train Epoch: 1 [140000/375200 (37%)]\tLoss: 0.948549\n",
      "Train Epoch: 1 [160000/375200 (43%)]\tLoss: 1.407351\n",
      "Train Epoch: 1 [180000/375200 (48%)]\tLoss: 1.064127\n",
      "Train Epoch: 1 [200000/375200 (53%)]\tLoss: 1.150062\n",
      "Train Epoch: 1 [220000/375200 (59%)]\tLoss: 0.962727\n",
      "Train Epoch: 1 [240000/375200 (64%)]\tLoss: 2.417639\n",
      "Train Epoch: 1 [260000/375200 (69%)]\tLoss: 0.673071\n",
      "Train Epoch: 1 [280000/375200 (75%)]\tLoss: 0.684959\n",
      "Train Epoch: 1 [300000/375200 (80%)]\tLoss: 1.036132\n",
      "Train Epoch: 1 [320000/375200 (85%)]\tLoss: 0.935073\n",
      "Train Epoch: 1 [340000/375200 (91%)]\tLoss: 0.923768\n",
      "Train Epoch: 1 [360000/375200 (96%)]\tLoss: 0.885873\n",
      "\n",
      "Test set: Average loss: 8.6923, Accuracy: 76533/100000 (77%)\n",
      "\n",
      "Train Epoch: 2 [0/375200 (0%)]\tLoss: 0.471547\n",
      "Train Epoch: 2 [20000/375200 (5%)]\tLoss: 0.633413\n",
      "Train Epoch: 2 [40000/375200 (11%)]\tLoss: 0.809030\n",
      "Train Epoch: 2 [60000/375200 (16%)]\tLoss: 0.799527\n",
      "Train Epoch: 2 [80000/375200 (21%)]\tLoss: 0.863593\n",
      "Train Epoch: 2 [100000/375200 (27%)]\tLoss: 1.032573\n",
      "Train Epoch: 2 [120000/375200 (32%)]\tLoss: 0.480694\n",
      "Train Epoch: 2 [140000/375200 (37%)]\tLoss: 0.995037\n",
      "Train Epoch: 2 [160000/375200 (43%)]\tLoss: 0.867067\n",
      "Train Epoch: 2 [180000/375200 (48%)]\tLoss: 0.448165\n",
      "Train Epoch: 2 [200000/375200 (53%)]\tLoss: 0.744332\n",
      "Train Epoch: 2 [220000/375200 (59%)]\tLoss: 0.942207\n",
      "Train Epoch: 2 [240000/375200 (64%)]\tLoss: 1.122552\n",
      "Train Epoch: 2 [260000/375200 (69%)]\tLoss: 0.127767\n",
      "Train Epoch: 2 [280000/375200 (75%)]\tLoss: 0.621584\n",
      "Train Epoch: 2 [300000/375200 (80%)]\tLoss: 1.362980\n",
      "Train Epoch: 2 [320000/375200 (85%)]\tLoss: 0.807324\n",
      "Train Epoch: 2 [340000/375200 (91%)]\tLoss: 1.042369\n",
      "Train Epoch: 2 [360000/375200 (96%)]\tLoss: 1.037887\n",
      "\n",
      "Test set: Average loss: 7.3840, Accuracy: 80193/100000 (80%)\n",
      "\n",
      "Train Epoch: 3 [0/375200 (0%)]\tLoss: 1.105836\n",
      "Train Epoch: 3 [20000/375200 (5%)]\tLoss: 0.676258\n",
      "Train Epoch: 3 [40000/375200 (11%)]\tLoss: 0.704102\n",
      "Train Epoch: 3 [60000/375200 (16%)]\tLoss: 0.641313\n",
      "Train Epoch: 3 [80000/375200 (21%)]\tLoss: 0.490773\n",
      "Train Epoch: 3 [100000/375200 (27%)]\tLoss: 0.472391\n",
      "Train Epoch: 3 [120000/375200 (32%)]\tLoss: 1.252991\n",
      "Train Epoch: 3 [140000/375200 (37%)]\tLoss: 0.971936\n",
      "Train Epoch: 3 [160000/375200 (43%)]\tLoss: 0.587976\n",
      "Train Epoch: 3 [180000/375200 (48%)]\tLoss: 0.831978\n",
      "Train Epoch: 3 [200000/375200 (53%)]\tLoss: 0.756609\n",
      "Train Epoch: 3 [220000/375200 (59%)]\tLoss: 0.493819\n",
      "Train Epoch: 3 [240000/375200 (64%)]\tLoss: 0.602699\n",
      "Train Epoch: 3 [260000/375200 (69%)]\tLoss: 1.188421\n",
      "Train Epoch: 3 [280000/375200 (75%)]\tLoss: 0.511662\n",
      "Train Epoch: 3 [300000/375200 (80%)]\tLoss: 1.005370\n",
      "Train Epoch: 3 [320000/375200 (85%)]\tLoss: 0.778207\n",
      "Train Epoch: 3 [340000/375200 (91%)]\tLoss: 1.355604\n",
      "Train Epoch: 3 [360000/375200 (96%)]\tLoss: 0.679925\n",
      "\n",
      "Test set: Average loss: 6.6359, Accuracy: 82009/100000 (82%)\n",
      "\n",
      "Train Epoch: 4 [0/375200 (0%)]\tLoss: 0.740799\n",
      "Train Epoch: 4 [20000/375200 (5%)]\tLoss: 1.228550\n",
      "Train Epoch: 4 [40000/375200 (11%)]\tLoss: 0.434901\n",
      "Train Epoch: 4 [60000/375200 (16%)]\tLoss: 1.114425\n",
      "Train Epoch: 4 [80000/375200 (21%)]\tLoss: 0.574250\n",
      "Train Epoch: 4 [100000/375200 (27%)]\tLoss: 0.560211\n",
      "Train Epoch: 4 [120000/375200 (32%)]\tLoss: 0.424367\n",
      "Train Epoch: 4 [140000/375200 (37%)]\tLoss: 1.003449\n",
      "Train Epoch: 4 [160000/375200 (43%)]\tLoss: 0.879156\n",
      "Train Epoch: 4 [180000/375200 (48%)]\tLoss: 0.625984\n",
      "Train Epoch: 4 [200000/375200 (53%)]\tLoss: 0.588985\n",
      "Train Epoch: 4 [220000/375200 (59%)]\tLoss: 0.287026\n",
      "Train Epoch: 4 [240000/375200 (64%)]\tLoss: 0.439004\n",
      "Train Epoch: 4 [260000/375200 (69%)]\tLoss: 0.625753\n",
      "Train Epoch: 4 [280000/375200 (75%)]\tLoss: 0.453338\n",
      "Train Epoch: 4 [300000/375200 (80%)]\tLoss: 0.500824\n",
      "Train Epoch: 4 [320000/375200 (85%)]\tLoss: 0.481851\n",
      "Train Epoch: 4 [340000/375200 (91%)]\tLoss: 0.721469\n",
      "Train Epoch: 4 [360000/375200 (96%)]\tLoss: 0.381757\n",
      "\n",
      "Test set: Average loss: 6.3582, Accuracy: 82657/100000 (83%)\n",
      "\n",
      "Train Epoch: 5 [0/375200 (0%)]\tLoss: 0.509420\n",
      "Train Epoch: 5 [20000/375200 (5%)]\tLoss: 0.225821\n",
      "Train Epoch: 5 [40000/375200 (11%)]\tLoss: 0.557707\n",
      "Train Epoch: 5 [60000/375200 (16%)]\tLoss: 2.080645\n",
      "Train Epoch: 5 [80000/375200 (21%)]\tLoss: 0.410659\n",
      "Train Epoch: 5 [100000/375200 (27%)]\tLoss: 0.835775\n",
      "Train Epoch: 5 [120000/375200 (32%)]\tLoss: 0.357158\n",
      "Train Epoch: 5 [140000/375200 (37%)]\tLoss: 0.401678\n",
      "Train Epoch: 5 [160000/375200 (43%)]\tLoss: 1.049918\n",
      "Train Epoch: 5 [180000/375200 (48%)]\tLoss: 0.171031\n",
      "Train Epoch: 5 [200000/375200 (53%)]\tLoss: 0.364288\n",
      "Train Epoch: 5 [220000/375200 (59%)]\tLoss: 0.697417\n",
      "Train Epoch: 5 [240000/375200 (64%)]\tLoss: 0.535635\n",
      "Train Epoch: 5 [260000/375200 (69%)]\tLoss: 0.768546\n",
      "Train Epoch: 5 [280000/375200 (75%)]\tLoss: 0.679691\n",
      "Train Epoch: 5 [300000/375200 (80%)]\tLoss: 0.425181\n",
      "Train Epoch: 5 [320000/375200 (85%)]\tLoss: 1.040086\n",
      "Train Epoch: 5 [340000/375200 (91%)]\tLoss: 0.656782\n",
      "Train Epoch: 5 [360000/375200 (96%)]\tLoss: 0.946959\n",
      "\n",
      "Test set: Average loss: 5.9605, Accuracy: 84274/100000 (84%)\n",
      "\n",
      "Train Epoch: 6 [0/375200 (0%)]\tLoss: 0.511368\n",
      "Train Epoch: 6 [20000/375200 (5%)]\tLoss: 0.819723\n",
      "Train Epoch: 6 [40000/375200 (11%)]\tLoss: 0.627306\n",
      "Train Epoch: 6 [60000/375200 (16%)]\tLoss: 0.232983\n",
      "Train Epoch: 6 [80000/375200 (21%)]\tLoss: 0.354438\n",
      "Train Epoch: 6 [100000/375200 (27%)]\tLoss: 0.846608\n",
      "Train Epoch: 6 [120000/375200 (32%)]\tLoss: 0.937411\n",
      "Train Epoch: 6 [140000/375200 (37%)]\tLoss: 0.519911\n",
      "Train Epoch: 6 [160000/375200 (43%)]\tLoss: 0.571111\n",
      "Train Epoch: 6 [180000/375200 (48%)]\tLoss: 0.602517\n",
      "Train Epoch: 6 [200000/375200 (53%)]\tLoss: 0.899745\n",
      "Train Epoch: 6 [220000/375200 (59%)]\tLoss: 0.370415\n",
      "Train Epoch: 6 [240000/375200 (64%)]\tLoss: 0.553227\n",
      "Train Epoch: 6 [260000/375200 (69%)]\tLoss: 0.488442\n",
      "Train Epoch: 6 [280000/375200 (75%)]\tLoss: 0.864789\n",
      "Train Epoch: 6 [300000/375200 (80%)]\tLoss: 0.776046\n",
      "Train Epoch: 6 [320000/375200 (85%)]\tLoss: 0.102868\n",
      "Train Epoch: 6 [340000/375200 (91%)]\tLoss: 0.196745\n",
      "Train Epoch: 6 [360000/375200 (96%)]\tLoss: 0.552152\n",
      "\n",
      "Test set: Average loss: 5.7124, Accuracy: 84198/100000 (84%)\n",
      "\n",
      "Train Epoch: 7 [0/375200 (0%)]\tLoss: 0.290108\n",
      "Train Epoch: 7 [20000/375200 (5%)]\tLoss: 0.206455\n",
      "Train Epoch: 7 [40000/375200 (11%)]\tLoss: 0.491528\n",
      "Train Epoch: 7 [60000/375200 (16%)]\tLoss: 1.026584\n",
      "Train Epoch: 7 [80000/375200 (21%)]\tLoss: 1.151989\n",
      "Train Epoch: 7 [100000/375200 (27%)]\tLoss: 0.650586\n",
      "Train Epoch: 7 [120000/375200 (32%)]\tLoss: 0.826132\n",
      "Train Epoch: 7 [140000/375200 (37%)]\tLoss: 1.385415\n",
      "Train Epoch: 7 [160000/375200 (43%)]\tLoss: 0.275588\n",
      "Train Epoch: 7 [180000/375200 (48%)]\tLoss: 0.891131\n",
      "Train Epoch: 7 [200000/375200 (53%)]\tLoss: 1.046472\n",
      "Train Epoch: 7 [220000/375200 (59%)]\tLoss: 0.192286\n",
      "Train Epoch: 7 [240000/375200 (64%)]\tLoss: 0.624923\n",
      "Train Epoch: 7 [260000/375200 (69%)]\tLoss: 0.359949\n",
      "Train Epoch: 7 [280000/375200 (75%)]\tLoss: 0.608751\n",
      "Train Epoch: 7 [300000/375200 (80%)]\tLoss: 0.475145\n",
      "Train Epoch: 7 [320000/375200 (85%)]\tLoss: 0.401374\n",
      "Train Epoch: 7 [340000/375200 (91%)]\tLoss: 1.128908\n",
      "Train Epoch: 7 [360000/375200 (96%)]\tLoss: 0.499747\n",
      "\n",
      "Test set: Average loss: 5.6571, Accuracy: 84344/100000 (84%)\n",
      "\n",
      "Train Epoch: 8 [0/375200 (0%)]\tLoss: 0.719882\n",
      "Train Epoch: 8 [20000/375200 (5%)]\tLoss: 0.205821\n",
      "Train Epoch: 8 [40000/375200 (11%)]\tLoss: 0.298179\n",
      "Train Epoch: 8 [60000/375200 (16%)]\tLoss: 0.884102\n",
      "Train Epoch: 8 [80000/375200 (21%)]\tLoss: 0.116636\n",
      "Train Epoch: 8 [100000/375200 (27%)]\tLoss: 0.153998\n",
      "Train Epoch: 8 [120000/375200 (32%)]\tLoss: 0.605921\n",
      "Train Epoch: 8 [140000/375200 (37%)]\tLoss: 0.452111\n",
      "Train Epoch: 8 [160000/375200 (43%)]\tLoss: 0.892767\n",
      "Train Epoch: 8 [180000/375200 (48%)]\tLoss: 0.586200\n",
      "Train Epoch: 8 [200000/375200 (53%)]\tLoss: 0.305466\n",
      "Train Epoch: 8 [220000/375200 (59%)]\tLoss: 1.255231\n",
      "Train Epoch: 8 [240000/375200 (64%)]\tLoss: 0.155454\n",
      "Train Epoch: 8 [260000/375200 (69%)]\tLoss: 0.387603\n",
      "Train Epoch: 8 [280000/375200 (75%)]\tLoss: 0.484074\n",
      "Train Epoch: 8 [300000/375200 (80%)]\tLoss: 0.373420\n",
      "Train Epoch: 8 [320000/375200 (85%)]\tLoss: 0.366104\n",
      "Train Epoch: 8 [340000/375200 (91%)]\tLoss: 0.165166\n",
      "Train Epoch: 8 [360000/375200 (96%)]\tLoss: 1.388893\n",
      "\n",
      "Test set: Average loss: 5.3860, Accuracy: 85365/100000 (85%)\n",
      "\n",
      "Train Epoch: 9 [0/375200 (0%)]\tLoss: 1.470390\n",
      "Train Epoch: 9 [20000/375200 (5%)]\tLoss: 1.519719\n",
      "Train Epoch: 9 [40000/375200 (11%)]\tLoss: 0.704061\n",
      "Train Epoch: 9 [60000/375200 (16%)]\tLoss: 0.288538\n",
      "Train Epoch: 9 [80000/375200 (21%)]\tLoss: 0.183992\n",
      "Train Epoch: 9 [100000/375200 (27%)]\tLoss: 0.320100\n",
      "Train Epoch: 9 [120000/375200 (32%)]\tLoss: 0.215511\n",
      "Train Epoch: 9 [140000/375200 (37%)]\tLoss: 0.915538\n",
      "Train Epoch: 9 [160000/375200 (43%)]\tLoss: 0.574998\n",
      "Train Epoch: 9 [180000/375200 (48%)]\tLoss: 0.768825\n",
      "Train Epoch: 9 [200000/375200 (53%)]\tLoss: 0.731583\n",
      "Train Epoch: 9 [220000/375200 (59%)]\tLoss: 0.396385\n",
      "Train Epoch: 9 [240000/375200 (64%)]\tLoss: 1.027673\n",
      "Train Epoch: 9 [260000/375200 (69%)]\tLoss: 0.418447\n",
      "Train Epoch: 9 [280000/375200 (75%)]\tLoss: 0.786721\n",
      "Train Epoch: 9 [300000/375200 (80%)]\tLoss: 0.812470\n",
      "Train Epoch: 9 [320000/375200 (85%)]\tLoss: 0.323460\n",
      "Train Epoch: 9 [340000/375200 (91%)]\tLoss: 0.212638\n",
      "Train Epoch: 9 [360000/375200 (96%)]\tLoss: 0.416980\n",
      "\n",
      "Test set: Average loss: 5.1324, Accuracy: 86037/100000 (86%)\n",
      "\n"
     ]
    }
   ],
   "source": [
    "accuracy_list_dnn=[]\n",
    "print(\"Training on \", device)\n",
    "model_fnn = FC2Layer(input_size, output_size)\n",
    "model_fnn.to(device)\n",
    "optimizer = optim.SGD(model_fnn.parameters(),lr=0.01)\n",
    "print('Number of parameters: {}'.format(get_n_params(model_fnn)))\n",
    "\n",
    "for epoch in range(0, 10):\n",
    "    train(epoch, model_fnn)\n",
    "    accuracy_list_dnn.append(test(model_fnn))"
   ]
  },
  {
   "cell_type": "markdown",
   "metadata": {},
   "source": [
    "<b>Function for viewing an image and it's predicted classes</b>"
   ]
  },
  {
   "cell_type": "code",
   "execution_count": 9,
   "metadata": {},
   "outputs": [],
   "source": [
    "import numpy\n",
    "def visualize_pred(img, pred_prob, real_label):\n",
    "    fig,ax = plt.subplots(figsize=(8,8))\n",
    "    ax.imshow(img.squeeze())\n",
    "    ax.axis('off')\n",
    "    pred_label = numpy.argmax(pred_prob)\n",
    "    ax.set_title([f\"True label :{real_label}\",f\"Predicted label :{pred_label}\"])"
   ]
  },
  {
   "cell_type": "code",
   "execution_count": 10,
   "metadata": {
    "scrolled": false
   },
   "outputs": [
    {
     "data": {
      "image/png": "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\n",
      "text/plain": [
       "<Figure size 576x576 with 1 Axes>"
      ]
     },
     "metadata": {
      "needs_background": "light"
     },
     "output_type": "display_data"
    },
    {
     "data": {
      "image/png": "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\n",
      "text/plain": [
       "<Figure size 576x576 with 1 Axes>"
      ]
     },
     "metadata": {
      "needs_background": "light"
     },
     "output_type": "display_data"
    },
    {
     "data": {
      "image/png": "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\n",
      "text/plain": [
       "<Figure size 576x576 with 1 Axes>"
      ]
     },
     "metadata": {
      "needs_background": "light"
     },
     "output_type": "display_data"
    },
    {
     "data": {
      "image/png": "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\n",
      "text/plain": [
       "<Figure size 576x576 with 1 Axes>"
      ]
     },
     "metadata": {
      "needs_background": "light"
     },
     "output_type": "display_data"
    },
    {
     "data": {
      "image/png": "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\n",
      "text/plain": [
       "<Figure size 576x576 with 1 Axes>"
      ]
     },
     "metadata": {
      "needs_background": "light"
     },
     "output_type": "display_data"
    },
    {
     "data": {
      "image/png": "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\n",
      "text/plain": [
       "<Figure size 576x576 with 1 Axes>"
      ]
     },
     "metadata": {
      "needs_background": "light"
     },
     "output_type": "display_data"
    },
    {
     "data": {
      "image/png": "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\n",
      "text/plain": [
       "<Figure size 576x576 with 1 Axes>"
      ]
     },
     "metadata": {
      "needs_background": "light"
     },
     "output_type": "display_data"
    },
    {
     "data": {
      "image/png": "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\n",
      "text/plain": [
       "<Figure size 576x576 with 1 Axes>"
      ]
     },
     "metadata": {
      "needs_background": "light"
     },
     "output_type": "display_data"
    },
    {
     "data": {
      "image/png": "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\n",
      "text/plain": [
       "<Figure size 576x576 with 1 Axes>"
      ]
     },
     "metadata": {
      "needs_background": "light"
     },
     "output_type": "display_data"
    }
   ],
   "source": [
    "model_fnn.to('cpu') \n",
    "\n",
    "# fetch a batch of test images\n",
    "image_batch, label_batch = next(iter(test_loader))\n",
    "images,labels=torch.tensor([]),torch.tensor([])\n",
    "for i in range(10-1):\n",
    "    im1=image_batch[i]\n",
    "    im2=image_batch[i+1]\n",
    "    image=torch.cat((im1[0],im2[0]),axis=1)\n",
    "    image=torch.unsqueeze(image,axis=0)\n",
    "    label=int(str(label_batch[i].item())+str(label_batch[i+1].item()))\n",
    "    images=torch.cat((images,image),axis=0)\n",
    "    labels=torch.cat((labels,torch.tensor([label])))\n",
    "with torch.no_grad():\n",
    "    log_pred_prob_batch = model_fnn(images)\n",
    "for i in range(10-1):\n",
    "    img = images[i]\n",
    "    real_label = int(labels[i].item())\n",
    "    log_pred_prob = log_pred_prob_batch[i]\n",
    "    pred_prob = torch.exp(log_pred_prob).data.numpy().squeeze()\n",
    "    visualize_pred(img, pred_prob, real_label)"
   ]
  },
  {
   "cell_type": "code",
   "execution_count": null,
   "metadata": {},
   "outputs": [],
   "source": []
  },
  {
   "cell_type": "markdown",
   "metadata": {},
   "source": [
    "# Using Momentum"
   ]
  },
  {
   "cell_type": "code",
   "execution_count": 11,
   "metadata": {},
   "outputs": [
    {
     "name": "stdout",
     "output_type": "stream",
     "text": [
      "Training on  cpu\n",
      "Number of parameters: 551000\n",
      "Train Epoch: 0 [0/375200 (0%)]\tLoss: 4.609932\n",
      "Train Epoch: 0 [20000/375200 (5%)]\tLoss: 4.355943\n",
      "Train Epoch: 0 [40000/375200 (11%)]\tLoss: 2.445547\n",
      "Train Epoch: 0 [60000/375200 (16%)]\tLoss: 1.398267\n",
      "Train Epoch: 0 [80000/375200 (21%)]\tLoss: 1.793593\n",
      "Train Epoch: 0 [100000/375200 (27%)]\tLoss: 1.539642\n",
      "Train Epoch: 0 [120000/375200 (32%)]\tLoss: 0.357552\n",
      "Train Epoch: 0 [140000/375200 (37%)]\tLoss: 1.297052\n",
      "Train Epoch: 0 [160000/375200 (43%)]\tLoss: 0.564561\n",
      "Train Epoch: 0 [180000/375200 (48%)]\tLoss: 1.476813\n",
      "Train Epoch: 0 [200000/375200 (53%)]\tLoss: 0.397399\n",
      "Train Epoch: 0 [220000/375200 (59%)]\tLoss: 1.412759\n",
      "Train Epoch: 0 [240000/375200 (64%)]\tLoss: 0.466601\n",
      "Train Epoch: 0 [260000/375200 (69%)]\tLoss: 1.471499\n",
      "Train Epoch: 0 [280000/375200 (75%)]\tLoss: 0.960275\n",
      "Train Epoch: 0 [300000/375200 (80%)]\tLoss: 1.276537\n",
      "Train Epoch: 0 [320000/375200 (85%)]\tLoss: 0.321123\n",
      "Train Epoch: 0 [340000/375200 (91%)]\tLoss: 0.125379\n",
      "Train Epoch: 0 [360000/375200 (96%)]\tLoss: 0.426338\n",
      "\n",
      "Test set: Average loss: 5.5396, Accuracy: 83785/100000 (84%)\n",
      "\n",
      "Train Epoch: 1 [0/375200 (0%)]\tLoss: 0.590479\n",
      "Train Epoch: 1 [20000/375200 (5%)]\tLoss: 0.394107\n",
      "Train Epoch: 1 [40000/375200 (11%)]\tLoss: 0.189634\n",
      "Train Epoch: 1 [60000/375200 (16%)]\tLoss: 1.167286\n",
      "Train Epoch: 1 [80000/375200 (21%)]\tLoss: 0.415841\n",
      "Train Epoch: 1 [100000/375200 (27%)]\tLoss: 1.040225\n",
      "Train Epoch: 1 [120000/375200 (32%)]\tLoss: 0.208523\n",
      "Train Epoch: 1 [140000/375200 (37%)]\tLoss: 0.285163\n",
      "Train Epoch: 1 [160000/375200 (43%)]\tLoss: 0.317977\n",
      "Train Epoch: 1 [180000/375200 (48%)]\tLoss: 0.373700\n",
      "Train Epoch: 1 [200000/375200 (53%)]\tLoss: 0.339809\n",
      "Train Epoch: 1 [220000/375200 (59%)]\tLoss: 0.806045\n",
      "Train Epoch: 1 [240000/375200 (64%)]\tLoss: 0.193934\n",
      "Train Epoch: 1 [260000/375200 (69%)]\tLoss: 0.373253\n",
      "Train Epoch: 1 [280000/375200 (75%)]\tLoss: 0.576501\n",
      "Train Epoch: 1 [300000/375200 (80%)]\tLoss: 0.623394\n",
      "Train Epoch: 1 [320000/375200 (85%)]\tLoss: 0.110089\n",
      "Train Epoch: 1 [340000/375200 (91%)]\tLoss: 0.169756\n",
      "Train Epoch: 1 [360000/375200 (96%)]\tLoss: 0.254621\n",
      "\n",
      "Test set: Average loss: 4.2718, Accuracy: 87670/100000 (88%)\n",
      "\n",
      "Train Epoch: 2 [0/375200 (0%)]\tLoss: 0.541597\n",
      "Train Epoch: 2 [20000/375200 (5%)]\tLoss: 0.781329\n",
      "Train Epoch: 2 [40000/375200 (11%)]\tLoss: 0.134487\n",
      "Train Epoch: 2 [60000/375200 (16%)]\tLoss: 1.115896\n",
      "Train Epoch: 2 [80000/375200 (21%)]\tLoss: 0.054703\n",
      "Train Epoch: 2 [100000/375200 (27%)]\tLoss: 0.565619\n",
      "Train Epoch: 2 [120000/375200 (32%)]\tLoss: 0.264750\n",
      "Train Epoch: 2 [140000/375200 (37%)]\tLoss: 0.365157\n",
      "Train Epoch: 2 [160000/375200 (43%)]\tLoss: 1.625854\n",
      "Train Epoch: 2 [180000/375200 (48%)]\tLoss: 0.479427\n",
      "Train Epoch: 2 [200000/375200 (53%)]\tLoss: 0.186291\n",
      "Train Epoch: 2 [220000/375200 (59%)]\tLoss: 0.030573\n",
      "Train Epoch: 2 [240000/375200 (64%)]\tLoss: 0.324200\n",
      "Train Epoch: 2 [260000/375200 (69%)]\tLoss: 0.136617\n",
      "Train Epoch: 2 [280000/375200 (75%)]\tLoss: 0.095191\n",
      "Train Epoch: 2 [300000/375200 (80%)]\tLoss: 0.094556\n",
      "Train Epoch: 2 [320000/375200 (85%)]\tLoss: 0.186139\n",
      "Train Epoch: 2 [340000/375200 (91%)]\tLoss: 0.483156\n",
      "Train Epoch: 2 [360000/375200 (96%)]\tLoss: 0.120476\n",
      "\n",
      "Test set: Average loss: 3.2172, Accuracy: 90348/100000 (90%)\n",
      "\n",
      "Train Epoch: 3 [0/375200 (0%)]\tLoss: 0.239132\n",
      "Train Epoch: 3 [20000/375200 (5%)]\tLoss: 0.403355\n",
      "Train Epoch: 3 [40000/375200 (11%)]\tLoss: 0.027257\n",
      "Train Epoch: 3 [60000/375200 (16%)]\tLoss: 0.174887\n",
      "Train Epoch: 3 [80000/375200 (21%)]\tLoss: 0.610271\n",
      "Train Epoch: 3 [100000/375200 (27%)]\tLoss: 0.024284\n",
      "Train Epoch: 3 [120000/375200 (32%)]\tLoss: 0.148030\n",
      "Train Epoch: 3 [140000/375200 (37%)]\tLoss: 0.176559\n",
      "Train Epoch: 3 [160000/375200 (43%)]\tLoss: 0.105007\n",
      "Train Epoch: 3 [180000/375200 (48%)]\tLoss: 1.136062\n",
      "Train Epoch: 3 [200000/375200 (53%)]\tLoss: 0.073437\n",
      "Train Epoch: 3 [220000/375200 (59%)]\tLoss: 0.319242\n",
      "Train Epoch: 3 [240000/375200 (64%)]\tLoss: 0.161274\n",
      "Train Epoch: 3 [260000/375200 (69%)]\tLoss: 0.368583\n",
      "Train Epoch: 3 [280000/375200 (75%)]\tLoss: 0.354144\n",
      "Train Epoch: 3 [300000/375200 (80%)]\tLoss: 0.066543\n",
      "Train Epoch: 3 [320000/375200 (85%)]\tLoss: 0.061985\n",
      "Train Epoch: 3 [340000/375200 (91%)]\tLoss: 0.090484\n",
      "Train Epoch: 3 [360000/375200 (96%)]\tLoss: 0.086597\n",
      "\n",
      "Test set: Average loss: 2.8277, Accuracy: 91642/100000 (92%)\n",
      "\n",
      "Train Epoch: 4 [0/375200 (0%)]\tLoss: 0.170389\n",
      "Train Epoch: 4 [20000/375200 (5%)]\tLoss: 0.104476\n",
      "Train Epoch: 4 [40000/375200 (11%)]\tLoss: 0.064873\n",
      "Train Epoch: 4 [60000/375200 (16%)]\tLoss: 0.377240\n",
      "Train Epoch: 4 [80000/375200 (21%)]\tLoss: 0.028174\n",
      "Train Epoch: 4 [100000/375200 (27%)]\tLoss: 0.198319\n",
      "Train Epoch: 4 [120000/375200 (32%)]\tLoss: 0.510260\n",
      "Train Epoch: 4 [140000/375200 (37%)]\tLoss: 0.049437\n",
      "Train Epoch: 4 [160000/375200 (43%)]\tLoss: 0.012084\n",
      "Train Epoch: 4 [180000/375200 (48%)]\tLoss: 0.166752\n",
      "Train Epoch: 4 [200000/375200 (53%)]\tLoss: 0.273316\n",
      "Train Epoch: 4 [220000/375200 (59%)]\tLoss: 0.253399\n",
      "Train Epoch: 4 [240000/375200 (64%)]\tLoss: 0.086017\n",
      "Train Epoch: 4 [260000/375200 (69%)]\tLoss: 0.121840\n",
      "Train Epoch: 4 [280000/375200 (75%)]\tLoss: 0.239109\n",
      "Train Epoch: 4 [300000/375200 (80%)]\tLoss: 0.037927\n",
      "Train Epoch: 4 [320000/375200 (85%)]\tLoss: 1.413313\n",
      "Train Epoch: 4 [340000/375200 (91%)]\tLoss: 0.016593\n",
      "Train Epoch: 4 [360000/375200 (96%)]\tLoss: 0.125212\n",
      "\n",
      "Test set: Average loss: 2.5197, Accuracy: 92384/100000 (92%)\n",
      "\n",
      "Train Epoch: 5 [0/375200 (0%)]\tLoss: 0.029739\n",
      "Train Epoch: 5 [20000/375200 (5%)]\tLoss: 0.355253\n",
      "Train Epoch: 5 [40000/375200 (11%)]\tLoss: 0.379498\n",
      "Train Epoch: 5 [60000/375200 (16%)]\tLoss: 0.091654\n",
      "Train Epoch: 5 [80000/375200 (21%)]\tLoss: 0.044113\n",
      "Train Epoch: 5 [100000/375200 (27%)]\tLoss: 0.452245\n",
      "Train Epoch: 5 [120000/375200 (32%)]\tLoss: 0.010476\n",
      "Train Epoch: 5 [140000/375200 (37%)]\tLoss: 0.347766\n",
      "Train Epoch: 5 [160000/375200 (43%)]\tLoss: 0.559741\n",
      "Train Epoch: 5 [180000/375200 (48%)]\tLoss: 1.925233\n",
      "Train Epoch: 5 [200000/375200 (53%)]\tLoss: 0.446158\n",
      "Train Epoch: 5 [220000/375200 (59%)]\tLoss: 0.627311\n",
      "Train Epoch: 5 [240000/375200 (64%)]\tLoss: 0.599790\n",
      "Train Epoch: 5 [260000/375200 (69%)]\tLoss: 0.110692\n",
      "Train Epoch: 5 [280000/375200 (75%)]\tLoss: 0.907841\n",
      "Train Epoch: 5 [300000/375200 (80%)]\tLoss: 0.102173\n",
      "Train Epoch: 5 [320000/375200 (85%)]\tLoss: 0.164421\n",
      "Train Epoch: 5 [340000/375200 (91%)]\tLoss: 0.033392\n",
      "Train Epoch: 5 [360000/375200 (96%)]\tLoss: 0.203775\n",
      "\n",
      "Test set: Average loss: 2.0171, Accuracy: 93930/100000 (94%)\n",
      "\n",
      "Train Epoch: 6 [0/375200 (0%)]\tLoss: 0.071431\n",
      "Train Epoch: 6 [20000/375200 (5%)]\tLoss: 0.032602\n",
      "Train Epoch: 6 [40000/375200 (11%)]\tLoss: 0.063743\n",
      "Train Epoch: 6 [60000/375200 (16%)]\tLoss: 0.648700\n",
      "Train Epoch: 6 [80000/375200 (21%)]\tLoss: 0.786236\n",
      "Train Epoch: 6 [100000/375200 (27%)]\tLoss: 0.361394\n",
      "Train Epoch: 6 [120000/375200 (32%)]\tLoss: 0.706554\n",
      "Train Epoch: 6 [140000/375200 (37%)]\tLoss: 0.288911\n",
      "Train Epoch: 6 [160000/375200 (43%)]\tLoss: 0.281341\n",
      "Train Epoch: 6 [180000/375200 (48%)]\tLoss: 0.042453\n",
      "Train Epoch: 6 [200000/375200 (53%)]\tLoss: 0.405609\n",
      "Train Epoch: 6 [220000/375200 (59%)]\tLoss: 0.344612\n",
      "Train Epoch: 6 [240000/375200 (64%)]\tLoss: 0.126992\n",
      "Train Epoch: 6 [260000/375200 (69%)]\tLoss: 0.315349\n",
      "Train Epoch: 6 [280000/375200 (75%)]\tLoss: 0.044794\n",
      "Train Epoch: 6 [300000/375200 (80%)]\tLoss: 0.092742\n",
      "Train Epoch: 6 [320000/375200 (85%)]\tLoss: 0.073314\n",
      "Train Epoch: 6 [340000/375200 (91%)]\tLoss: 0.011291\n",
      "Train Epoch: 6 [360000/375200 (96%)]\tLoss: 0.031144\n",
      "\n",
      "Test set: Average loss: 2.1712, Accuracy: 93401/100000 (93%)\n",
      "\n",
      "Train Epoch: 7 [0/375200 (0%)]\tLoss: 0.115854\n",
      "Train Epoch: 7 [20000/375200 (5%)]\tLoss: 0.020499\n",
      "Train Epoch: 7 [40000/375200 (11%)]\tLoss: 0.012158\n",
      "Train Epoch: 7 [60000/375200 (16%)]\tLoss: 0.127417\n",
      "Train Epoch: 7 [80000/375200 (21%)]\tLoss: 0.655176\n",
      "Train Epoch: 7 [100000/375200 (27%)]\tLoss: 0.245874\n",
      "Train Epoch: 7 [120000/375200 (32%)]\tLoss: 0.408529\n",
      "Train Epoch: 7 [140000/375200 (37%)]\tLoss: 0.110772\n",
      "Train Epoch: 7 [160000/375200 (43%)]\tLoss: 0.054524\n",
      "Train Epoch: 7 [180000/375200 (48%)]\tLoss: 0.127889\n",
      "Train Epoch: 7 [200000/375200 (53%)]\tLoss: 0.028285\n",
      "Train Epoch: 7 [220000/375200 (59%)]\tLoss: 0.074362\n",
      "Train Epoch: 7 [240000/375200 (64%)]\tLoss: 0.449532\n",
      "Train Epoch: 7 [260000/375200 (69%)]\tLoss: 0.123780\n",
      "Train Epoch: 7 [280000/375200 (75%)]\tLoss: 0.083504\n",
      "Train Epoch: 7 [300000/375200 (80%)]\tLoss: 0.449902\n",
      "Train Epoch: 7 [320000/375200 (85%)]\tLoss: 0.116073\n",
      "Train Epoch: 7 [340000/375200 (91%)]\tLoss: 0.094473\n",
      "Train Epoch: 7 [360000/375200 (96%)]\tLoss: 0.115423\n",
      "\n",
      "Test set: Average loss: 1.8188, Accuracy: 94543/100000 (95%)\n",
      "\n",
      "Train Epoch: 8 [0/375200 (0%)]\tLoss: 0.099090\n",
      "Train Epoch: 8 [20000/375200 (5%)]\tLoss: 0.353705\n",
      "Train Epoch: 8 [40000/375200 (11%)]\tLoss: 0.112612\n",
      "Train Epoch: 8 [60000/375200 (16%)]\tLoss: 0.304802\n",
      "Train Epoch: 8 [80000/375200 (21%)]\tLoss: 0.181893\n",
      "Train Epoch: 8 [100000/375200 (27%)]\tLoss: 0.004548\n",
      "Train Epoch: 8 [120000/375200 (32%)]\tLoss: 0.669385\n",
      "Train Epoch: 8 [140000/375200 (37%)]\tLoss: 0.216177\n",
      "Train Epoch: 8 [160000/375200 (43%)]\tLoss: 0.078201\n",
      "Train Epoch: 8 [180000/375200 (48%)]\tLoss: 0.146898\n",
      "Train Epoch: 8 [200000/375200 (53%)]\tLoss: 0.012044\n",
      "Train Epoch: 8 [220000/375200 (59%)]\tLoss: 0.058335\n",
      "Train Epoch: 8 [240000/375200 (64%)]\tLoss: 0.088095\n",
      "Train Epoch: 8 [260000/375200 (69%)]\tLoss: 0.042923\n",
      "Train Epoch: 8 [280000/375200 (75%)]\tLoss: 0.028885\n",
      "Train Epoch: 8 [300000/375200 (80%)]\tLoss: 0.082591\n",
      "Train Epoch: 8 [320000/375200 (85%)]\tLoss: 0.031645\n",
      "Train Epoch: 8 [340000/375200 (91%)]\tLoss: 0.028369\n",
      "Train Epoch: 8 [360000/375200 (96%)]\tLoss: 0.467216\n",
      "\n",
      "Test set: Average loss: 1.8453, Accuracy: 94393/100000 (94%)\n",
      "\n",
      "Train Epoch: 9 [0/375200 (0%)]\tLoss: 0.014543\n",
      "Train Epoch: 9 [20000/375200 (5%)]\tLoss: 0.050914\n",
      "Train Epoch: 9 [40000/375200 (11%)]\tLoss: 0.025504\n",
      "Train Epoch: 9 [60000/375200 (16%)]\tLoss: 0.175791\n",
      "Train Epoch: 9 [80000/375200 (21%)]\tLoss: 0.078892\n",
      "Train Epoch: 9 [100000/375200 (27%)]\tLoss: 0.009963\n",
      "Train Epoch: 9 [120000/375200 (32%)]\tLoss: 0.039791\n",
      "Train Epoch: 9 [140000/375200 (37%)]\tLoss: 0.235693\n",
      "Train Epoch: 9 [160000/375200 (43%)]\tLoss: 0.009858\n",
      "Train Epoch: 9 [180000/375200 (48%)]\tLoss: 0.056989\n",
      "Train Epoch: 9 [200000/375200 (53%)]\tLoss: 0.019737\n",
      "Train Epoch: 9 [220000/375200 (59%)]\tLoss: 0.565640\n",
      "Train Epoch: 9 [240000/375200 (64%)]\tLoss: 0.016765\n",
      "Train Epoch: 9 [260000/375200 (69%)]\tLoss: 0.552027\n",
      "Train Epoch: 9 [280000/375200 (75%)]\tLoss: 0.124287\n",
      "Train Epoch: 9 [300000/375200 (80%)]\tLoss: 0.383567\n",
      "Train Epoch: 9 [320000/375200 (85%)]\tLoss: 0.010090\n",
      "Train Epoch: 9 [340000/375200 (91%)]\tLoss: 0.245735\n",
      "Train Epoch: 9 [360000/375200 (96%)]\tLoss: 0.178980\n",
      "\n",
      "Test set: Average loss: 1.8722, Accuracy: 94321/100000 (94%)\n",
      "\n"
     ]
    }
   ],
   "source": [
    "accuracy_list_momentum=[]\n",
    "print(\"Training on \", device)\n",
    "model_fnn = FC2Layer(input_size, output_size)\n",
    "model_fnn.to(device)\n",
    "optimizer = optim.SGD(model_fnn.parameters(),momentum=0.9,lr=0.01)\n",
    "print('Number of parameters: {}'.format(get_n_params(model_fnn)))\n",
    "\n",
    "for epoch in range(0, 10):\n",
    "    train(epoch, model_fnn)\n",
    "    accuracy_list_momentum.append(test(model_fnn))"
   ]
  },
  {
   "cell_type": "code",
   "execution_count": 12,
   "metadata": {},
   "outputs": [
    {
     "data": {
      "image/png": "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\n",
      "text/plain": [
       "<Figure size 576x576 with 1 Axes>"
      ]
     },
     "metadata": {
      "needs_background": "light"
     },
     "output_type": "display_data"
    },
    {
     "data": {
      "image/png": "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\n",
      "text/plain": [
       "<Figure size 576x576 with 1 Axes>"
      ]
     },
     "metadata": {
      "needs_background": "light"
     },
     "output_type": "display_data"
    },
    {
     "data": {
      "image/png": "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\n",
      "text/plain": [
       "<Figure size 576x576 with 1 Axes>"
      ]
     },
     "metadata": {
      "needs_background": "light"
     },
     "output_type": "display_data"
    },
    {
     "data": {
      "image/png": "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\n",
      "text/plain": [
       "<Figure size 576x576 with 1 Axes>"
      ]
     },
     "metadata": {
      "needs_background": "light"
     },
     "output_type": "display_data"
    },
    {
     "data": {
      "image/png": "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\n",
      "text/plain": [
       "<Figure size 576x576 with 1 Axes>"
      ]
     },
     "metadata": {
      "needs_background": "light"
     },
     "output_type": "display_data"
    },
    {
     "data": {
      "image/png": "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\n",
      "text/plain": [
       "<Figure size 576x576 with 1 Axes>"
      ]
     },
     "metadata": {
      "needs_background": "light"
     },
     "output_type": "display_data"
    },
    {
     "data": {
      "image/png": "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\n",
      "text/plain": [
       "<Figure size 576x576 with 1 Axes>"
      ]
     },
     "metadata": {
      "needs_background": "light"
     },
     "output_type": "display_data"
    },
    {
     "data": {
      "image/png": "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\n",
      "text/plain": [
       "<Figure size 576x576 with 1 Axes>"
      ]
     },
     "metadata": {
      "needs_background": "light"
     },
     "output_type": "display_data"
    },
    {
     "data": {
      "image/png": "iVBORw0KGgoAAAANSUhEUgAAAcwAAAD9CAYAAAAxikc6AAAAOXRFWHRTb2Z0d2FyZQBNYXRwbG90bGliIHZlcnNpb24zLjQuMywgaHR0cHM6Ly9tYXRwbG90bGliLm9yZy/MnkTPAAAACXBIWXMAAAsTAAALEwEAmpwYAAAUeElEQVR4nO3de5hVdb3H8c93BgRE5BZGXAQFBlEEL0dJy7LM8FhamoiKh9DocvJuGl01E7NTFpaXMEsoLTOsY2Vh6uGxo3m/pyKCAnIXkIsIcZn5nT/WGs9imvnu78wAc3u/nmeeh5nP2mutvdbM/uzf3vvHspSSAACAr6ypdwAAgJaAwgQAIIDCBAAggMIEACCAwgQAIIDCBAAggMJsxcwsmdnbZnZVU+9LNTObYGYPBZf9lpnd1sDtNPi2rYGZTTezyfm/jzKzObtou8nMBteRPWBmE4PrWWBmH2ngPjT4tg1lZh3MbIOZba0+7mh9KMzWb2RK6euSZGYDzWxB/u8Nha8qM9tU+H5ck+7xLmZm7zWz+8zsTTNbaWYzzOw9hbyDmU01sxX5Mn8ys76FPDSZuXj88+8XFI77CjObZmZ77NA7Jyml9GBKaWhg/8JPZloLM7vUzF4ws7fMbL6ZXVojP8jMHjSzdWa22MwuK2QTzGy6JKWUNqeU9pD0q117D7ArUZhtVEppj+ovSa9LOqHws3f+6M2sXdPt5S7TXdJPJQ2UNEDSW5KmFfILJB0haYSkPpLWSrpuB237hPwcHCLpMEnfqLlAGzkHTcUkjVf2O3CcpHPN7LRC/mtJ/yuph6QPSvpPMztxl+8lmgUKE9sxs6PzZ9KTzGy5pGm1jTyKL73lI7BrzOz1fKQ01cw6Bbf3IzNbZGbrzewpMzuqxiIdzeyOfATwtJmNLNy2j5n9Lh8Vzjez8xtyn1NKM1NKM1JK61NKGyVdL+l9hUX2kfTXlNKKlNI/Jf1G0gEN2ZazD0skzZQ0XHrn+J5jZnMlzc1/9nEze9bM1prZw2Y2ovr2ZnZwfnzeMrM7JHUsZEeb2eLC9/3N7Pf5cVttZteb2TBJUyUdkY941+bLuuc2H6EtM7OlZnZ29P6a2SAzm5Vvf5WZ/crMutVY7DAze8nM1uSj7+J9qvNY1EdK6XsppadTSttSSnMk/UHbn/uBkn6VUqpMKb0q6SHt4HOPloPCbENSSgtSSgMDi/ZW9ox6gKTPBZb/L0kVkg6SNFhSX0mXeTcoeCK/XQ9lz+ZnFB8YJX1C0oxCfpeZtTezMkl/kvRcvr1jJF1oZqMjG80faN9fR/wBSS8Wvv+5pPflBb27pHHKyk2SlFKyyDa9429m/SUdL+mZwo8/KWmUpP3N7BBJt0j6vKSekm6S9Me80HaTdJekW5UdpxmSPlXHdsol3S1pobIy6CvpNyml2ZK+IOmR/FWGbvlN6jy3ZnacpEskHStpiKT6vG9okq5WNmIfJqm/pG/VWGacpNGSBuX78I18u3Uei5IbNTvDzJ6vIzNJR2n7c3+tpPH579xQZa803C9JKaXpKaUJpe8qWo2UEl+t9EtSkjQ4sNwCSR/J/320pC2SOhbyCZIeqm3dyh743pY0qJAdIWl+Hdv6l3XVyNcoe99Vyh5AHy1kZZKWKXtQGyXp9Rq3/aqkaYXb3taAYzZC0puSjir8bE9Jt+f3eZuyUuuxA87PAkkblL3Eu1DSjZI6FY7vhwvL/kTSlTVuP0fZy4QfkLRUkhWyhyVNLpzTxYVzs1JSu1LnptS5VVZa3y1kFd7vnKQHJE2sI/ukpGdqHJsvFL4/XtKrpY5Fzd/nep6PK5Q9AetQ+NmRkubl5z1JuqLEOqZXH3e+Wt8X742gNitT9tJjRC9Ju0t6KnuCLil7oC2P3NjMviRporKRRlJWTu8qLLKo+h8ppar8pcXqZftUv3SYK5f0YHC/a9uXwcpGjheklIrr+Ymylzh7KiuQL+fLjWrotgo+mVK6v45sUeHfAyR92szOK/xsN/3/sViS8kfs3MI61tlf0sKU0rbAvpU6t30kPRXY5r8ws70k/VjZk58uyp4MramxWPH+L8y3J/nHokHM7Fxl72UelVLanP+sh6R7JJ2r7NWN3pLuNLMVKaUbG7ottFy8JIva1PzU59vKHjglSWbWu5CtkrRJ0gEppW75V9eUfZDFlb9fOUnSqZK6p+xlwHXKHpSr9S8sXyapn7LR1CJlI51uha8uKaXj63NHC+seoOyltitTSrfWiEdKmp5SejN/ML1O0uFm9q6a69nBiudhkaSratzf3VNKtysbdfe1QqtJ2ruOdS6StHcdHySqed5LndtlKpwfZ5u1uTrf3oiU0p6SztT25121rHtp4T7UdSzqLX/v9SuSjkkpLS5E+0qqTCn9MmXvcS5W9v51g37H0PJRmIh4TtIBln3EvqMK7zWllKok3SxpSj5qkJn1Db6X2EXZS10rJbWz7CP7e9ZY5lAzOzl/gL9Q0mZJj0p6XNL6/MNJncys3MyGm9lh9b1zlk0RmSXphpTS1FoWeULZ+1hdzay9pC9KWppSWlXLur5lZg/Udx8Cbpb0BTMbZZnOZvYxM+si6RFlx/F8M2tnZidLOryO9TyurOi+m6+jo5lVf8hlhaR++XuikXP7W0kTzGz//L3dy+txf7oofzk6P/6X1rLMOWbWLx/pfU3SHYFjUS+WTaH6jqRjU0qv1YhfyRaxM8ysLH+iOFbZ3wPaIAoTJaWUXpH0bWUjsLnKPilYNEnZ+zyPmtn6fLmS8/4k/VXZS5uvKHvJ7Z/a/mU4KfvU4lhlL9f9h6STU0pbU0qVkk5Q9mGU+cpGQz+T1DVyn/JPglZ/IneistHE5VaYn1pY/JJ83+YqK/fjJZ1Ux6r7S/p7ZB/qI6X0pKTPKvsE7xplx3tCnm2RdHL+/Rplx+v3dayn+rgNVjadaHG+vJQ9aXhR0nIzq34yUOe5TSnNVPahmFn5MrPqcZeuUDaVZp2kP9exv7+WdK+k1/KvyaWORSlmNs7Mih/qmazspfYnCud+ar6d9cqO60X5dp6V9IKkZvMfgWDXsu3f9kBrYmb/VDYi+3FK6ZtNvT9tgZk9q+ylvdVNvS/YdfJP6K6Q1F7S91JKVzTxLmEnoDABAAjgJVkAAAIoTAAAAihMAAACKEwAAALc/+nn2LIxfCIIANCm3Fc1o9b/H5oRJgAAARQmAAABFCYAAAEUJgAAARQmAAABFCYAAAEUJgAAARQmAAABFCYAAAEUJgAAARQmAAABFCYAAAEUJgAAARQmAAABFCYAAAEUJgAAARQmAAABFCYAAAEUJgAAARQmAAABFCYAAAEUJgAAARQmAAABFCYAAAEUJgAAARQmAAABFCYAAAEUJgAAARQmAAABFCYAAAHtmnoH2rJ27+nt5hv+bW83/+qUX7j5MZ021nuf6qO9lbv5B/5xkpvvcaH/61c5e2699wkAdhZGmAAABFCYAAAEUJgAAARQmAAABFCYAAAEUJgAAARQmAAABDAPsxHKOnd28wWXjnTzi8be5eZn7flnN69SVYnc99jm9m5+z7oRbn7FXs+4+X3Df+vmB0w8z80HfYl5mGiY1Z89ws3PvHCmm1/YfYGbH/LkWDdfO7+7m1dMf8vN9dI8N06bN/u3x07BCBMAgAAKEwCAAAoTAIAAChMAgAAKEwCAAAoTAIAAChMAgABLKdUZHls2pu4QmjflvW7+0qnXNWr9P1u3r5tPmfkxN6/46Sp/A2vXu3HauMnNN35wmJvfe9MNbn732z3d/KcV/v1H29Wu97vd/Jj7/Tm853Vv3nN8b3/Lv3/X3Hyqm/eb/rKbV65Z5+9AVaWft3L3Vc2w2n7OCBMAgAAKEwCAAAoTAIAAChMAgAAKEwCAAAoTAIAAChMAgACuh+kodU29R065psQadnPTAx/8jJvvc9rzbj5Ij7r5zp5J1WF1467Jd2THpW5+/XH+NQd3u+eJRm0fLVfq2c3NGzvPcnPa6uZztvpjjX3bbXPzPco6uPnpXVb4+cUl5nhf7McH/vxcNx/4bf9vK23z719rxQgTAIAAChMAgAAKEwCAAAoTAIAAChMAgAAKEwCAAAoTAIAA5mE69jtrtpt3LfPnWU5a7s/jHHT2PDevctOmt2rk7o26/dJK//h1evI1N2/bV+xr45avdONLl49y8+/3fszNX9jS3s0vO/NsN1/84c5ufu2Em938sA7+9SpLzeMs5f4J33fzz9063s0r5/p/m60VI0wAAAIoTAAAAihMAAACKEwAAAIoTAAAAihMAAACKEwAAAKYh+lYsL6Hm5eVeL7x0NTD3LznxkfqvU/Nyenn3uvmpY7Pqf99jpsPXuVf7xNtV+XqN9386SsPd/OxF3d38zsG3ePmCy9Ibj74K0vc/DtPT3Dzq66/yc0P7+Bvf1nlJjf/1OWXunmPuS37sWlnYYQJAEAAhQkAQACFCQBAAIUJAEAAhQkAQACFCQBAAIUJAEAA8zAdXT+7xc33u3qin9+zyM231XuP6qess39NvjfGjXDztcP8uV53d7/Bzf+8saubD7n9bTf3tw7UrdNdj7v5hjdG+iuY4ccvvH+amz/yP+X+CkooNc/y9W3+PMux3/bnWfacxjzLhmCECQBAAIUJAEAAhQkAQACFCQBAAIUJAEAAhQkAQACFCQBAgKVU93yfY8vGMBWuBSvv5s+D/NBDi938/O4vu/nWVOnmx11wgZt3/t1jbg7sLOW9ern5vIsHu/mL46/fkbtTb8Me8OeADxr3zC7ak9bpvqoZVtvPGWECABBAYQIAEEBhAgAQQGECABBAYQIAEEBhAgAQQGECABDA9TBbscqKvd18aIcnGrX+8a+d4ObMs0RzVblypZsPvrbWaXjvuPy4g938ir0aNw/yG28c6uYVFy9xc3+GNBqKESYAAAEUJgAAARQmAAABFCYAAAEUJgAAARQmAAABFCYAAAHMw2zByg7a380n3vYHNx+9+zo3/8Hq4W6+eWy5mwMt1YYjBrr5x7res1O3f2LXp938+d7j/BWseGMH7g2qMcIEACCAwgQAIIDCBAAggMIEACCAwgQAIIDCBAAggMIEACCAeZjNWFnnzm4+/JbZbn5i5zVuPm39ADf/++h93HzbsuVuDjRXZcP3c/OrfzjVzQ/vkHbk7tR7/asP7ubm3Z/bgTuDdzDCBAAggMIEACCAwgQAIIDCBAAggMIEACCAwgQAIIDCBAAggHmYzdjwBze6+eR3P+7m167x55rdMeWjbt5z2SNuDrRUqw/t7ual5kG+snWLm58x5UtuPuYzs9x8Us8X3bz9aSvcXNP9GA3DCBMAgAAKEwCAAAoTAIAAChMAgAAKEwCAAAoTAIAAChMAgADmYe5EZR07uvmCLx/i5ne/+zo3ryqx/Zv/6M+z3OfnzLP0bDxplJsvOdrcfMgFj+7I3cEOVHnK6kbd/rQb/XmWfX70sJvPKPuwm0+6xJ+HecPQ2938qyM+7eZVz7/s5qgdI0wAAAIoTAAAAihMAAACKEwAAAIoTAAAAihMAAACKEwAAAKYh7kTLZ/oz7N89vM/KrEG//nMAb85z82HTH7OzUvN42zpyrt1dfPZPxji5hUDl7h5v+v61HufsGuU71/h5tMO/KWbz97qr3+vJzfXd5e20/fWOW7+w7P9a9le3MOfR7nmu9vcvMc4/3qglWvWuHlbxQgTAIAAChMAgAAKEwCAAAoTAIAAChMAgAAKEwCAAAoTAIAA5mE2wqZPHO7mv77kmhJraO+mx7xwiptXXDnbzSs3biyx/eatfMi+br5wTG83nzT+t24+tsv9bv6+y8538553cT3R5mrlqJ5uPqy9/7d3+RsHu3m7WU/Ve5+KKlf51+NctsWfQ1zKgyPvcPMTBo73V8A8zFoxwgQAIIDCBAAggMIEACCAwgQAIIDCBAAggMIEACCAwgQAIIB5mI3Q78tz3Xxw+w5u/uIW/5p1nUbPd/NKN2165b16ufmSM/3rUV70+TvdfFyXZW5+w9pBbn7S0WPdvOdc5lm2VJtOWN/Uu4BWiBEmAAABFCYAAAEUJgAAARQmAAABFCYAAAEUJgAAARQmAAABzMN0lA8d7Obf7PtLN68qcb3L039xkZvvrYfdvLHaDejv5stH93PzA8560c0P6vKqm5/T/S9u/thm//gd+czpbt7rIn+ea+Xc19wcbdehnRe4+bNDP+rmlXPmNWr7f7vFv9auvvaYG3/0pZPdvMNLjdu/tooRJgAAARQmAAABFCYAAAEUJgAAARQmAAABFCYAAAEUJgAAAczDdKz4oH89x33b+/ME79/Uxc03d69y83lT3uvmSn485KBFbn71vjPcfGj7cjcvK/F8q9T1Pj/+8iluXnXVXm7eY9ZTbt7crxeK5uvEzmvcfN6dz7n53z41ws0rX/HnKA85fY6bl7L00T5uPnDzwkatv61ihAkAQACFCQBAAIUJAEAAhQkAQACFCQBAAIUJAEAAhQkAQIClVPdkvmPLxpSY6de6lVcMcvMf3Hurm5eap1lKqXmOVfLncTZWqXmk5/9pgpvv98PFbr5tkZ8DDVU+bIibv37Vbm7+zCj/WrelXLumws1vuXO0m08+4zY3f6uqo5vP+Pcj3HzbfOZheu6rmmG1/ZwRJgAAARQmAAABFCYAAAEUJgAAARQmAAABFCYAAAEUJgAAAczDbIQV5x3p5ud98fdufuae/vUqS83D/NA/xrj50hXd3Lx8WQc3r7hpqZszlwstVbt9Brj5J/7yhJufVeJvd2c7usTf/h7HvbaL9qR1Yh4mAACNQGECABBAYQIAEEBhAgAQQGECABBAYQIAEEBhAgAQwDxMAKih1LVw53yxl5t36LfBzb9+4Ew3v2ymP89y6I0r3bzylVfdHD7mYQIA0AgUJgAAARQmAAABFCYAAAEUJgAAARQmAAABFCYAAAHMwwQAoIB5mAAANAKFCQBAAIUJAEAAhQkAQACFCQBAAIUJAEAAhQkAQACFCQBAAIUJAEAAhQkAQACFCQBAAIUJAEAAhQkAQACFCQBAAIUJAEAAhQkAQACFCQBAAIUJAEAAhQkAQACFCQBAAIUJAEAAhQkAQACFCQBAgKWUmnofAABo9hhhAgAQQGECABBAYQIAEEBhAgAQQGECABBAYQIAEPB/CrgN9MWEZLgAAAAASUVORK5CYII=\n",
      "text/plain": [
       "<Figure size 576x576 with 1 Axes>"
      ]
     },
     "metadata": {
      "needs_background": "light"
     },
     "output_type": "display_data"
    }
   ],
   "source": [
    "model_fnn.to('cpu') \n",
    "\n",
    "# fetch a batch of test images\n",
    "image_batch, label_batch = next(iter(test_loader))\n",
    "images,labels=torch.tensor([]),torch.tensor([])\n",
    "for i in range(10-1):\n",
    "    im1=image_batch[i]\n",
    "    im2=image_batch[i+1]\n",
    "    image=torch.cat((im1[0],im2[0]),axis=1)\n",
    "    image=torch.unsqueeze(image,axis=0)\n",
    "    label=int(str(label_batch[i].item())+str(label_batch[i+1].item()))\n",
    "    images=torch.cat((images,image),axis=0)\n",
    "    labels=torch.cat((labels,torch.tensor([label])))\n",
    "with torch.no_grad():\n",
    "    log_pred_prob_batch = model_fnn(images)\n",
    "for i in range(10-1):\n",
    "    img = images[i]\n",
    "    real_label = int(labels[i].item())\n",
    "    log_pred_prob = log_pred_prob_batch[i]\n",
    "    # Output of the network are log-probabilities, need to take exponential for probabilities\n",
    "    pred_prob = torch.exp(log_pred_prob).data.numpy().squeeze()\n",
    "    visualize_pred(img, pred_prob, real_label)"
   ]
  },
  {
   "cell_type": "code",
   "execution_count": null,
   "metadata": {},
   "outputs": [],
   "source": []
  },
  {
   "cell_type": "code",
   "execution_count": null,
   "metadata": {},
   "outputs": [],
   "source": []
  },
  {
   "cell_type": "markdown",
   "metadata": {},
   "source": [
    "# Using Adam"
   ]
  },
  {
   "cell_type": "code",
   "execution_count": 13,
   "metadata": {},
   "outputs": [
    {
     "name": "stdout",
     "output_type": "stream",
     "text": [
      "Training on  cpu\n",
      "Number of parameters: 551000\n",
      "Train Epoch: 0 [0/375200 (0%)]\tLoss: 4.615641\n",
      "Train Epoch: 0 [20000/375200 (5%)]\tLoss: 2.279880\n",
      "Train Epoch: 0 [40000/375200 (11%)]\tLoss: 2.023566\n",
      "Train Epoch: 0 [60000/375200 (16%)]\tLoss: 2.346462\n",
      "Train Epoch: 0 [80000/375200 (21%)]\tLoss: 1.821936\n",
      "Train Epoch: 0 [100000/375200 (27%)]\tLoss: 1.427788\n",
      "Train Epoch: 0 [120000/375200 (32%)]\tLoss: 1.365670\n",
      "Train Epoch: 0 [140000/375200 (37%)]\tLoss: 1.997380\n",
      "Train Epoch: 0 [160000/375200 (43%)]\tLoss: 1.376235\n",
      "Train Epoch: 0 [180000/375200 (48%)]\tLoss: 1.114411\n",
      "Train Epoch: 0 [200000/375200 (53%)]\tLoss: 0.760394\n",
      "Train Epoch: 0 [220000/375200 (59%)]\tLoss: 1.436409\n",
      "Train Epoch: 0 [240000/375200 (64%)]\tLoss: 0.600727\n",
      "Train Epoch: 0 [260000/375200 (69%)]\tLoss: 0.845070\n",
      "Train Epoch: 0 [280000/375200 (75%)]\tLoss: 1.007753\n",
      "Train Epoch: 0 [300000/375200 (80%)]\tLoss: 1.601651\n",
      "Train Epoch: 0 [320000/375200 (85%)]\tLoss: 1.564365\n",
      "Train Epoch: 0 [340000/375200 (91%)]\tLoss: 1.021742\n",
      "Train Epoch: 0 [360000/375200 (96%)]\tLoss: 0.448507\n",
      "\n",
      "Test set: Average loss: 8.4241, Accuracy: 79202/100000 (79%)\n",
      "\n",
      "Train Epoch: 1 [0/375200 (0%)]\tLoss: 1.249621\n",
      "Train Epoch: 1 [20000/375200 (5%)]\tLoss: 1.389844\n",
      "Train Epoch: 1 [40000/375200 (11%)]\tLoss: 1.336460\n",
      "Train Epoch: 1 [60000/375200 (16%)]\tLoss: 1.253919\n",
      "Train Epoch: 1 [80000/375200 (21%)]\tLoss: 0.492041\n",
      "Train Epoch: 1 [100000/375200 (27%)]\tLoss: 0.767011\n",
      "Train Epoch: 1 [120000/375200 (32%)]\tLoss: 0.835129\n",
      "Train Epoch: 1 [140000/375200 (37%)]\tLoss: 1.031412\n",
      "Train Epoch: 1 [160000/375200 (43%)]\tLoss: 0.359347\n",
      "Train Epoch: 1 [180000/375200 (48%)]\tLoss: 1.727079\n",
      "Train Epoch: 1 [200000/375200 (53%)]\tLoss: 1.890023\n",
      "Train Epoch: 1 [220000/375200 (59%)]\tLoss: 0.753604\n",
      "Train Epoch: 1 [240000/375200 (64%)]\tLoss: 0.595329\n",
      "Train Epoch: 1 [260000/375200 (69%)]\tLoss: 1.256919\n",
      "Train Epoch: 1 [280000/375200 (75%)]\tLoss: 0.544671\n",
      "Train Epoch: 1 [300000/375200 (80%)]\tLoss: 0.655664\n",
      "Train Epoch: 1 [320000/375200 (85%)]\tLoss: 0.299537\n",
      "Train Epoch: 1 [340000/375200 (91%)]\tLoss: 1.266625\n",
      "Train Epoch: 1 [360000/375200 (96%)]\tLoss: 1.071006\n",
      "\n",
      "Test set: Average loss: 8.1275, Accuracy: 80055/100000 (80%)\n",
      "\n",
      "Train Epoch: 2 [0/375200 (0%)]\tLoss: 1.080276\n",
      "Train Epoch: 2 [20000/375200 (5%)]\tLoss: 0.126305\n",
      "Train Epoch: 2 [40000/375200 (11%)]\tLoss: 0.571325\n",
      "Train Epoch: 2 [60000/375200 (16%)]\tLoss: 0.743723\n",
      "Train Epoch: 2 [80000/375200 (21%)]\tLoss: 0.185658\n",
      "Train Epoch: 2 [100000/375200 (27%)]\tLoss: 0.942392\n",
      "Train Epoch: 2 [120000/375200 (32%)]\tLoss: 0.748400\n",
      "Train Epoch: 2 [140000/375200 (37%)]\tLoss: 0.921776\n",
      "Train Epoch: 2 [160000/375200 (43%)]\tLoss: 0.436076\n",
      "Train Epoch: 2 [180000/375200 (48%)]\tLoss: 1.027232\n",
      "Train Epoch: 2 [200000/375200 (53%)]\tLoss: 0.299019\n",
      "Train Epoch: 2 [220000/375200 (59%)]\tLoss: 0.386942\n",
      "Train Epoch: 2 [240000/375200 (64%)]\tLoss: 0.996956\n",
      "Train Epoch: 2 [260000/375200 (69%)]\tLoss: 0.757683\n",
      "Train Epoch: 2 [280000/375200 (75%)]\tLoss: 0.808060\n",
      "Train Epoch: 2 [300000/375200 (80%)]\tLoss: 0.691068\n",
      "Train Epoch: 2 [320000/375200 (85%)]\tLoss: 0.574027\n",
      "Train Epoch: 2 [340000/375200 (91%)]\tLoss: 1.017235\n",
      "Train Epoch: 2 [360000/375200 (96%)]\tLoss: 2.084340\n",
      "\n",
      "Test set: Average loss: 8.1131, Accuracy: 80624/100000 (81%)\n",
      "\n",
      "Train Epoch: 3 [0/375200 (0%)]\tLoss: 1.478272\n",
      "Train Epoch: 3 [20000/375200 (5%)]\tLoss: 0.263477\n",
      "Train Epoch: 3 [40000/375200 (11%)]\tLoss: 0.912935\n",
      "Train Epoch: 3 [60000/375200 (16%)]\tLoss: 0.558262\n",
      "Train Epoch: 3 [80000/375200 (21%)]\tLoss: 1.026861\n",
      "Train Epoch: 3 [100000/375200 (27%)]\tLoss: 0.836774\n",
      "Train Epoch: 3 [120000/375200 (32%)]\tLoss: 0.453842\n",
      "Train Epoch: 3 [140000/375200 (37%)]\tLoss: 0.562692\n",
      "Train Epoch: 3 [160000/375200 (43%)]\tLoss: 0.085465\n",
      "Train Epoch: 3 [180000/375200 (48%)]\tLoss: 0.109867\n",
      "Train Epoch: 3 [200000/375200 (53%)]\tLoss: 0.360235\n",
      "Train Epoch: 3 [220000/375200 (59%)]\tLoss: 0.834293\n",
      "Train Epoch: 3 [240000/375200 (64%)]\tLoss: 0.901400\n",
      "Train Epoch: 3 [260000/375200 (69%)]\tLoss: 0.765580\n",
      "Train Epoch: 3 [280000/375200 (75%)]\tLoss: 0.591738\n",
      "Train Epoch: 3 [300000/375200 (80%)]\tLoss: 1.124183\n",
      "Train Epoch: 3 [320000/375200 (85%)]\tLoss: 0.994064\n",
      "Train Epoch: 3 [340000/375200 (91%)]\tLoss: 1.209646\n",
      "Train Epoch: 3 [360000/375200 (96%)]\tLoss: 0.760782\n",
      "\n",
      "Test set: Average loss: 7.6145, Accuracy: 81591/100000 (82%)\n",
      "\n",
      "Train Epoch: 4 [0/375200 (0%)]\tLoss: 0.139279\n",
      "Train Epoch: 4 [20000/375200 (5%)]\tLoss: 1.988487\n",
      "Train Epoch: 4 [40000/375200 (11%)]\tLoss: 0.870027\n",
      "Train Epoch: 4 [60000/375200 (16%)]\tLoss: 1.109964\n",
      "Train Epoch: 4 [80000/375200 (21%)]\tLoss: 0.847719\n",
      "Train Epoch: 4 [100000/375200 (27%)]\tLoss: 0.433944\n",
      "Train Epoch: 4 [120000/375200 (32%)]\tLoss: 0.432188\n",
      "Train Epoch: 4 [140000/375200 (37%)]\tLoss: 2.443132\n",
      "Train Epoch: 4 [160000/375200 (43%)]\tLoss: 0.422944\n",
      "Train Epoch: 4 [180000/375200 (48%)]\tLoss: 0.954267\n",
      "Train Epoch: 4 [200000/375200 (53%)]\tLoss: 1.178321\n",
      "Train Epoch: 4 [220000/375200 (59%)]\tLoss: 0.124211\n",
      "Train Epoch: 4 [240000/375200 (64%)]\tLoss: 1.773910\n",
      "Train Epoch: 4 [260000/375200 (69%)]\tLoss: 0.866340\n",
      "Train Epoch: 4 [280000/375200 (75%)]\tLoss: 0.225560\n",
      "Train Epoch: 4 [300000/375200 (80%)]\tLoss: 0.973064\n",
      "Train Epoch: 4 [320000/375200 (85%)]\tLoss: 1.368815\n",
      "Train Epoch: 4 [340000/375200 (91%)]\tLoss: 0.759998\n",
      "Train Epoch: 4 [360000/375200 (96%)]\tLoss: 1.137120\n",
      "\n",
      "Test set: Average loss: 7.4097, Accuracy: 82809/100000 (83%)\n",
      "\n",
      "Train Epoch: 5 [0/375200 (0%)]\tLoss: 1.148705\n",
      "Train Epoch: 5 [20000/375200 (5%)]\tLoss: 0.680131\n",
      "Train Epoch: 5 [40000/375200 (11%)]\tLoss: 0.304171\n",
      "Train Epoch: 5 [60000/375200 (16%)]\tLoss: 0.719209\n",
      "Train Epoch: 5 [80000/375200 (21%)]\tLoss: 0.422898\n",
      "Train Epoch: 5 [100000/375200 (27%)]\tLoss: 1.402243\n",
      "Train Epoch: 5 [120000/375200 (32%)]\tLoss: 0.831776\n",
      "Train Epoch: 5 [140000/375200 (37%)]\tLoss: 1.741068\n",
      "Train Epoch: 5 [160000/375200 (43%)]\tLoss: 1.909685\n",
      "Train Epoch: 5 [180000/375200 (48%)]\tLoss: 1.327749\n",
      "Train Epoch: 5 [200000/375200 (53%)]\tLoss: 1.317718\n",
      "Train Epoch: 5 [220000/375200 (59%)]\tLoss: 0.212228\n",
      "Train Epoch: 5 [240000/375200 (64%)]\tLoss: 0.914969\n",
      "Train Epoch: 5 [260000/375200 (69%)]\tLoss: 1.692361\n",
      "Train Epoch: 5 [280000/375200 (75%)]\tLoss: 0.398289\n",
      "Train Epoch: 5 [300000/375200 (80%)]\tLoss: 0.521669\n",
      "Train Epoch: 5 [320000/375200 (85%)]\tLoss: 1.188851\n",
      "Train Epoch: 5 [340000/375200 (91%)]\tLoss: 0.366619\n",
      "Train Epoch: 5 [360000/375200 (96%)]\tLoss: 0.787414\n",
      "\n",
      "Test set: Average loss: 6.4140, Accuracy: 84677/100000 (85%)\n",
      "\n",
      "Train Epoch: 6 [0/375200 (0%)]\tLoss: 0.782309\n",
      "Train Epoch: 6 [20000/375200 (5%)]\tLoss: 0.500358\n",
      "Train Epoch: 6 [40000/375200 (11%)]\tLoss: 0.975770\n",
      "Train Epoch: 6 [60000/375200 (16%)]\tLoss: 0.696532\n",
      "Train Epoch: 6 [80000/375200 (21%)]\tLoss: 1.815633\n",
      "Train Epoch: 6 [100000/375200 (27%)]\tLoss: 1.042314\n",
      "Train Epoch: 6 [120000/375200 (32%)]\tLoss: 1.081361\n",
      "Train Epoch: 6 [140000/375200 (37%)]\tLoss: 0.518609\n",
      "Train Epoch: 6 [160000/375200 (43%)]\tLoss: 0.787661\n",
      "Train Epoch: 6 [180000/375200 (48%)]\tLoss: 0.721285\n",
      "Train Epoch: 6 [200000/375200 (53%)]\tLoss: 1.481938\n",
      "Train Epoch: 6 [220000/375200 (59%)]\tLoss: 1.037366\n",
      "Train Epoch: 6 [240000/375200 (64%)]\tLoss: 0.298317\n",
      "Train Epoch: 6 [260000/375200 (69%)]\tLoss: 0.343829\n",
      "Train Epoch: 6 [280000/375200 (75%)]\tLoss: 0.179050\n",
      "Train Epoch: 6 [300000/375200 (80%)]\tLoss: 0.388803\n",
      "Train Epoch: 6 [320000/375200 (85%)]\tLoss: 0.374915\n",
      "Train Epoch: 6 [340000/375200 (91%)]\tLoss: 1.147832\n",
      "Train Epoch: 6 [360000/375200 (96%)]\tLoss: 1.010286\n",
      "\n",
      "Test set: Average loss: 7.8397, Accuracy: 81601/100000 (82%)\n",
      "\n",
      "Train Epoch: 7 [0/375200 (0%)]\tLoss: 0.853714\n",
      "Train Epoch: 7 [20000/375200 (5%)]\tLoss: 0.613902\n",
      "Train Epoch: 7 [40000/375200 (11%)]\tLoss: 0.969153\n",
      "Train Epoch: 7 [60000/375200 (16%)]\tLoss: 0.445178\n",
      "Train Epoch: 7 [80000/375200 (21%)]\tLoss: 0.325255\n",
      "Train Epoch: 7 [100000/375200 (27%)]\tLoss: 0.587183\n",
      "Train Epoch: 7 [120000/375200 (32%)]\tLoss: 0.362289\n",
      "Train Epoch: 7 [140000/375200 (37%)]\tLoss: 0.464672\n",
      "Train Epoch: 7 [160000/375200 (43%)]\tLoss: 1.788561\n",
      "Train Epoch: 7 [180000/375200 (48%)]\tLoss: 1.483725\n",
      "Train Epoch: 7 [200000/375200 (53%)]\tLoss: 0.690350\n",
      "Train Epoch: 7 [220000/375200 (59%)]\tLoss: 0.597180\n",
      "Train Epoch: 7 [240000/375200 (64%)]\tLoss: 1.024127\n",
      "Train Epoch: 7 [260000/375200 (69%)]\tLoss: 0.812288\n",
      "Train Epoch: 7 [280000/375200 (75%)]\tLoss: 2.697435\n",
      "Train Epoch: 7 [300000/375200 (80%)]\tLoss: 0.253481\n",
      "Train Epoch: 7 [320000/375200 (85%)]\tLoss: 1.409313\n",
      "Train Epoch: 7 [340000/375200 (91%)]\tLoss: 0.394489\n",
      "Train Epoch: 7 [360000/375200 (96%)]\tLoss: 0.931210\n",
      "\n",
      "Test set: Average loss: 7.5062, Accuracy: 82638/100000 (83%)\n",
      "\n",
      "Train Epoch: 8 [0/375200 (0%)]\tLoss: 0.813595\n",
      "Train Epoch: 8 [20000/375200 (5%)]\tLoss: 0.252544\n",
      "Train Epoch: 8 [40000/375200 (11%)]\tLoss: 0.167577\n",
      "Train Epoch: 8 [60000/375200 (16%)]\tLoss: 0.309681\n",
      "Train Epoch: 8 [80000/375200 (21%)]\tLoss: 0.727540\n",
      "Train Epoch: 8 [100000/375200 (27%)]\tLoss: 0.362493\n",
      "Train Epoch: 8 [120000/375200 (32%)]\tLoss: 0.552995\n",
      "Train Epoch: 8 [140000/375200 (37%)]\tLoss: 0.590850\n",
      "Train Epoch: 8 [160000/375200 (43%)]\tLoss: 0.571762\n",
      "Train Epoch: 8 [180000/375200 (48%)]\tLoss: 0.383645\n",
      "Train Epoch: 8 [200000/375200 (53%)]\tLoss: 1.946392\n",
      "Train Epoch: 8 [220000/375200 (59%)]\tLoss: 1.164292\n",
      "Train Epoch: 8 [240000/375200 (64%)]\tLoss: 1.132299\n",
      "Train Epoch: 8 [260000/375200 (69%)]\tLoss: 1.094687\n",
      "Train Epoch: 8 [280000/375200 (75%)]\tLoss: 0.637988\n",
      "Train Epoch: 8 [300000/375200 (80%)]\tLoss: 0.667298\n",
      "Train Epoch: 8 [320000/375200 (85%)]\tLoss: 1.018796\n",
      "Train Epoch: 8 [340000/375200 (91%)]\tLoss: 0.433342\n",
      "Train Epoch: 8 [360000/375200 (96%)]\tLoss: 1.495348\n",
      "\n",
      "Test set: Average loss: 7.9150, Accuracy: 81846/100000 (82%)\n",
      "\n",
      "Train Epoch: 9 [0/375200 (0%)]\tLoss: 1.220225\n",
      "Train Epoch: 9 [20000/375200 (5%)]\tLoss: 0.923212\n",
      "Train Epoch: 9 [40000/375200 (11%)]\tLoss: 0.200395\n",
      "Train Epoch: 9 [60000/375200 (16%)]\tLoss: 1.090060\n",
      "Train Epoch: 9 [80000/375200 (21%)]\tLoss: 0.098436\n",
      "Train Epoch: 9 [100000/375200 (27%)]\tLoss: 0.535071\n",
      "Train Epoch: 9 [120000/375200 (32%)]\tLoss: 0.455169\n",
      "Train Epoch: 9 [140000/375200 (37%)]\tLoss: 0.143396\n",
      "Train Epoch: 9 [160000/375200 (43%)]\tLoss: 0.583717\n",
      "Train Epoch: 9 [180000/375200 (48%)]\tLoss: 0.998708\n",
      "Train Epoch: 9 [200000/375200 (53%)]\tLoss: 1.554935\n",
      "Train Epoch: 9 [220000/375200 (59%)]\tLoss: 0.225351\n",
      "Train Epoch: 9 [240000/375200 (64%)]\tLoss: 1.664688\n",
      "Train Epoch: 9 [260000/375200 (69%)]\tLoss: 0.515087\n",
      "Train Epoch: 9 [280000/375200 (75%)]\tLoss: 0.943869\n",
      "Train Epoch: 9 [300000/375200 (80%)]\tLoss: 0.637539\n",
      "Train Epoch: 9 [320000/375200 (85%)]\tLoss: 0.715648\n",
      "Train Epoch: 9 [340000/375200 (91%)]\tLoss: 1.206633\n",
      "Train Epoch: 9 [360000/375200 (96%)]\tLoss: 0.935203\n",
      "\n",
      "Test set: Average loss: 7.2098, Accuracy: 83646/100000 (84%)\n",
      "\n"
     ]
    }
   ],
   "source": [
    "accuracy_list_adam=[]\n",
    "print(\"Training on \", device)\n",
    "model_fnn = FC2Layer(input_size, output_size)\n",
    "model_fnn.to(device)\n",
    "optimizer = optim.Adam(model_fnn.parameters(),lr=0.01,betas=(0.9,0.99))\n",
    "print('Number of parameters: {}'.format(get_n_params(model_fnn)))\n",
    "\n",
    "for epoch in range(0, 10):\n",
    "    train(epoch, model_fnn)\n",
    "    accuracy_list_adam.append(test(model_fnn))"
   ]
  },
  {
   "cell_type": "code",
   "execution_count": 14,
   "metadata": {},
   "outputs": [
    {
     "data": {
      "image/png": "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\n",
      "text/plain": [
       "<Figure size 576x576 with 1 Axes>"
      ]
     },
     "metadata": {
      "needs_background": "light"
     },
     "output_type": "display_data"
    },
    {
     "data": {
      "image/png": "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\n",
      "text/plain": [
       "<Figure size 576x576 with 1 Axes>"
      ]
     },
     "metadata": {
      "needs_background": "light"
     },
     "output_type": "display_data"
    },
    {
     "data": {
      "image/png": "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\n",
      "text/plain": [
       "<Figure size 576x576 with 1 Axes>"
      ]
     },
     "metadata": {
      "needs_background": "light"
     },
     "output_type": "display_data"
    },
    {
     "data": {
      "image/png": "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\n",
      "text/plain": [
       "<Figure size 576x576 with 1 Axes>"
      ]
     },
     "metadata": {
      "needs_background": "light"
     },
     "output_type": "display_data"
    },
    {
     "data": {
      "image/png": "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\n",
      "text/plain": [
       "<Figure size 576x576 with 1 Axes>"
      ]
     },
     "metadata": {
      "needs_background": "light"
     },
     "output_type": "display_data"
    },
    {
     "data": {
      "image/png": "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\n",
      "text/plain": [
       "<Figure size 576x576 with 1 Axes>"
      ]
     },
     "metadata": {
      "needs_background": "light"
     },
     "output_type": "display_data"
    },
    {
     "data": {
      "image/png": "iVBORw0KGgoAAAANSUhEUgAAAcwAAAD9CAYAAAAxikc6AAAAOXRFWHRTb2Z0d2FyZQBNYXRwbG90bGliIHZlcnNpb24zLjQuMywgaHR0cHM6Ly9tYXRwbG90bGliLm9yZy/MnkTPAAAACXBIWXMAAAsTAAALEwEAmpwYAAAPjklEQVR4nO3deZBmVXkH4N87M8DIJmFRBEGiggqKW+ESgzFRygSCsbSIMS5QKTWWGksqqFXRuMUlixA1WOUSAoiYKEoRSGJFUEmhoCBGoxhRIiiLICAwLDPAMCd/fLe1bbrvnKaH6Zme56nqovt773LuucP3+86993RXay0AwLhli90AANgcCEwA6CAwAaCDwASADgITADoITADoIDCXsKpqVXV7Vb1nsdsypaqOqqqvdC77jqr65H3cz31edymoqpOq6t3D9wdX1aUbab+tqh45R+3cqnpF53auqKrn3Mc23Od176uq2qaqbququ6f6naVHYC59j2+tvSVJqmqfqrpi+P62aV/rqmr1tJ9fsqgt3siq6iUz+uOO4Y3/yUP9t6vqy1V1y1T/zVi/azLz9P4ffr5iWr9fV1UnVtX2G+q4prTWzmutPaqjfd0fZpaKqvr8jHN/V1V9Z1r9r6rqO1W1tqreMWPdo6rqpCRprd3ZWts+yakb9QDYqATmFqq1tv3UV5KfJDl82mu/+J++qlYsXis3jtbaqTP64zVJfpTkm8Mityf5pyRvvB92f/iwzyclOSjJW2cusCWcg8XSWvu9Gef+/CSnTVvksiRvSvLvi9JANikCk19RVc+qqquq6s1VdW2SE2cbeUy/9DZcjnp/Vf1kGCl9pKoe0Lm/D1bVlVW1qqourqqDZyyysqo+XVW3VtU3q+rx09bdo6o+V1XXV9XlVfX6hR7/4Mgkn2jDr8FqrV3YWjslkxC9X7TWrk7y+SSPTX7Rv6+tqh8m+eHw2u9X1beq6uaqOr+qDpxav6qeOPTPrVX16SQrp9WeVVVXTft5r6o6fei3G6vq+Kp6TJKPJHn6MNK6eVh29NxW1Rur6qdVdU1V/Unv8VbVI6rqS8P+b6iqU6tqpxmLHVRV36uqm4bR9/RjmrMv7quq2ifJwUlOmXqttXZya+3zSW5d6PbZ/AnMLUhr7YrW2j4di+6eZOckD0vyqo7l/ybJfkmekOSRSfZM8rbOZl00rLdzkk8lOW36G2OSP8jkE/9U/Yyq2qqqliU5K8m3h/09O8kbquq5PTsd3mh/c5bXH5bkmUk+0dn+tNaqc7k5+7+q9kpyaJL/nvby85M8Ncn+VfWkTEa5f5pklyQfTXLmEGhbJzkjkzf6nTPprxfOsZ/lSf4tyY+T7JNJ3/1La+1/k7w6yQXDaGunYZU5z21V/W6SY5IckmTfJPO5b1hJ3pdkjySPSbJXknfMWOYlSZ6b5BFDG9467HfOvljvTqv+uKr+Z47yy5Oc11q7vOcAWmsntdaO6lmWpUFgMpt1Sd4+3JdZPbZgVVWSVyY5urX289barUnem+SPenbUWvtka+3G1tra1tqxSbZJMv1+28Wttc+21u5OclwmI6enZXL5crfW2rtaa3e11n6U5OPz2O9OrbXZ7tfN601zAzhjGM19Jcl/ZdJ3U9439OnqTPr4o621r7fW7mmtnZzkzkz64mlJtkrygdba3a21z2byQWQ2T8kkpN7YWru9tbZmjn7oObd/mOTE1tp3W2u3596BN6fW2mWttbOHf2PXZ3Juf2vGYse31q5srf08yXuSvHh4fawv1rffT7XW5hqNvjzJSb3HwJbHvRFmc31rbU3nsrsl2TbJxZP31yST0cPynpWr6s+TvCKTN/GWZMcku05b5Mqpb1pr64ZLi1PL7jF16XCwPMl5ne2ey8vzq6F1f3t+a+2cOWpXTvv+YUmOrKo/m/ba1vllX1w9dQl58OM5trlXkh+31tZ2tG1953aPJBd37PNequpBST6UySXQHTL58H7TjMWmH/+Ph/0l431xnwxXG3ZP8tn7ug2WPoHJbGY+9Xl7Jm+cSZKq2n1a7YYkq5McMNyH6zbcr3xzJpdTLxkC8aZM3pSn7DVt+WVJHprkmiRrk1zeWtt3PvtcT3uekcmb7qbypjn9PFyZ5D2ttXtNEaqq30qyZ1XVtNDcO8n/zbLNK5PsXVUrZgnNmed9fef2p5l2foZ99nrfsL8DW2s3VtXzkxw/Y5mZ275m+H7OvliAI5Oc3lq7bQNukyXGJVl6fDvJAVX1hOH+4jumCq21dZlcCv37YdSQqtqz817iDpkE3/VJVlTV2zIZYU735Kp6wfCk6BsyufT2tSQXJlk1PJz0gKpaXlWPraqDFnCcRyb53HDp8Reqatlw3FtNfqyVw33De6nJ/M9zF9CGuXw8yaur6qk1sV1VHVZVOyS5IJN+fH1VraiqF2Ry6XU2F2YSdH89bGPl8EEhSa5L8tCpY+s4t59JclRV7V9V2yZ5+zyOZ4cktyW5uar2zOxPIL+2qh5aVTsn+Yskn+7oi3kbHmI6IrNcjh3ul6/M5L1yxdBfXVdPWHoEJuvVWvtBknclOSeTJzZn3vN6cyaP33+tqlYNy6133l+S/8zkydAfZHLJbU1+9TJckvxrkhdlcrnuZUleMNynuyfJ4Zk8jHJ5JqOhf0zywJ5jGp4EPXjazyszuSd38iyLPzOTkdZ/ZDLSWZ3kC3Nseq8kX+1pw3y01r6Ryb274zPpi8uSHDXU7kryguHnmzLpr9Pn2M5Uvz0yk+lEVw3LJ8mXklyS5NqqumF4bc5zOzw9+oFhvcuG//Z6ZyZTaW7JZMrGbO39VCb9/KPh693r64v1qcmc20tmvPz8oR1fnmWVj2dyvl+c5C3D9y/r2RdLT/kD0ktXVa3JZET2odbaXy52e7YEVfWtJM9urd242G1h4xme0L0uk6sQf9tae+ciN4n7gcAEgA4uyQJAB4EJAB0EJgB0EJgA0GH0FxccsuwITwQBsEU5e91ps/5+aCNMAOggMAGgg8AEgA4CEwA6CEwA6CAwAaCDwASADgITADoITADoIDABoIPABIAOAhMAOghMAOggMAGgg8AEgA4CEwA6CEwA6CAwAaCDwASADgITADoITADoIDABoIPABIAOAhMAOghMAOggMAGgg8AEgA4CEwA6CEwA6CAwAaDDisVuAMDm5mev+43R+snHHDdaP3DrlaP1ww46dLS+9uprRuvcP4wwAaCDwASADgITADoITADoIDABoIPABIAOAhMAOpiHCTDD8h13HK2//+iPjtYP2Grr0fo9bd2828TiM8IEgA4CEwA6CEwA6CAwAaCDwASADgITADoITADoYB4mwAw/O+KA0fqzVp67cRrCJsUIEwA6CEwA6CAwAaCDwASADgITADoITADoIDABoIN5mJux5fs9YrR+3bHLR+sH7HrtaP3Evc8drT/2Y68bre/9zvNH6wCbEyNMAOggMAGgg8AEgA4CEwA6CEwA6CAwAaCDwASADuZhbsIuf9/TR+tff+mxo/VfW77taP2etm60fu6arUbr33rVB0frz7jq9aP1XU64YLQOsCkxwgSADgITADoITADoIDABoIPABIAOAhMAOghMAOhgHuYCXH/mo0br++1y/Wj90hseNFq/6MnHjda/e9fK0fpLz3rVaH3/9149Wl+9/0NG6585YXwe5ouO/sJo/ZwTdhitA2xKjDABoIPABIAOAhMAOghMAOggMAGgg8AEgA4CEwA6mIc5og563Gj9y0/62Gh9+9pmfAf7jJf3/eJrR+uPedP4PMr9rr1wtL52fPdZuXr1aP2yu8fngX7n1j3Xs4dV66kDbDqMMAGgg8AEgA4CEwA6CEwA6CAwAaCDwASADgITADqYhzli3VbjnyfWN8/y0O8/b7R+19+N/73JR59/6Wh97ar7dx7jjYeN/73Pg7Y5Z7R+wXkHjNYfngvm3SaAxWKECQAdBCYAdBCYANBBYAJAB4EJAB0EJgB0EJgA0ME8zBHL7hz/i5Gn3Lr7aL29bdfR+tZfvWi0fs9o9f53wyFrFrT+ittrA7UEYPEZYQJAB4EJAB0EJgB0EJgA0EFgAkAHgQkAHQQmAHQwD3NEu/iS0fo/P3qP0XrlWxuwNRveit0fPFp/z1POGK2vWjc+T/PXT7thtL7Y80xhsZx1x46j9XbH6o3UEubDCBMAOghMAOggMAGgg8AEgA4CEwA6CEwA6CAwAaCDeZhbsB/9w4NG60dsf+Nofd8zjh6vf+/r824TbAmuvfuB4wu0dRunIcyLESYAdBCYANBBYAJAB4EJAB0EJgB0EJgA0EFgAkAH8zCXsFoxfnrf+fgzR+t3trWj9Yefdve82wQkJ7z/eaP1nW++YCO1hPkwwgSADgITADoITADoIDABoIPABIAOAhMAOghMAOhgHuYSdumHnzhaf+F2F47Wn3DhUaP1Pc795nybBLDZMsIEgA4CEwA6CEwA6CAwAaCDwASADgITADoITADoYB7mEvbB3zl1Qevv/oFtNlBLYPNyy36L3QI2RUaYANBBYAJAB4EJAB0EJgB0EJgA0EFgAkAHgQkAHczD3IytePg+o/XDth3/e5XH3bTv+PYvunS0vm60CpuuZStXjtYPe85FG6klbE6MMAGgg8AEgA4CEwA6CEwA6CAwAaCDwASADgITADqYh7kZu/H4hZ2+k0957mh9zzvOX9D2YVO1bNddRuvH7n7WRmoJmxMjTADoIDABoIPABIAOAhMAOghMAOggMAGgg8AEgA7mYW7Clm233Wj9zMedPFr//t3jn4ce8tU75t0mWBKWGyswf/7VAEAHgQkAHQQmAHQQmADQQWACQAeBCQAdBCYAdDAPcxN26XsfN1rfZdl5o/Wnnf6a0fq+X/navNsES8Flr3zoYjeBzZARJgB0EJgA0EFgAkAHgQkAHQQmAHQQmADQQWACQAfzMDdhBz7h8gWtv9s3agO1BJiPK9aO/63ZXU/77mh93YZsDBuMESYAdBCYANBBYAJAB4EJAB0EJgB0EJgA0EFgAkAH8zAX07Llo+Udt169oM3vdMoFC1ofmN1Jq/YYrZ9yzOGj9W1uvWhDNoeNxAgTADoITADoIDABoIPABIAOAhMAOghMAOggMAGgg3mYi+iuQ544Wj9x74+N1letW7MhmwNbjH3eOj5H+dC3PmlB298m5lkuRUaYANBBYAJAB4EJAB0EJgB0EJgA0EFgAkAHgQkAHczDXES3v/6WBa1/8IePGa3vmfMXtH0AfskIEwA6CEwA6CAwAaCDwASADgITADoITADoIDABoIN5mItozRd3G62f/agHjNYffNGdG7I5AIwwwgSADgITADoITADoIDABoIPABIAOAhMAOghMAOhQrbU5i4csO2LuIgAsQWevO61me90IEwA6CEwA6CAwAaCDwASADgITADoITADoIDABoMPoPEwAYMIIEwA6CEwA6CAwAaCDwASADgITADoITADo8P/kxKFTjwaf0QAAAABJRU5ErkJggg==\n",
      "text/plain": [
       "<Figure size 576x576 with 1 Axes>"
      ]
     },
     "metadata": {
      "needs_background": "light"
     },
     "output_type": "display_data"
    },
    {
     "data": {
      "image/png": "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\n",
      "text/plain": [
       "<Figure size 576x576 with 1 Axes>"
      ]
     },
     "metadata": {
      "needs_background": "light"
     },
     "output_type": "display_data"
    },
    {
     "data": {
      "image/png": "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\n",
      "text/plain": [
       "<Figure size 576x576 with 1 Axes>"
      ]
     },
     "metadata": {
      "needs_background": "light"
     },
     "output_type": "display_data"
    }
   ],
   "source": [
    "model_fnn.to('cpu') \n",
    "\n",
    "# fetch a batch of test images\n",
    "image_batch, label_batch = next(iter(test_loader))\n",
    "images,labels=torch.tensor([]),torch.tensor([])\n",
    "for i in range(10-1):\n",
    "    im1=image_batch[i]\n",
    "    im2=image_batch[i+1]\n",
    "    image=torch.cat((im1[0],im2[0]),axis=1)\n",
    "    image=torch.unsqueeze(image,axis=0)\n",
    "    label=int(str(label_batch[i].item())+str(label_batch[i+1].item()))\n",
    "    images=torch.cat((images,image),axis=0)\n",
    "    labels=torch.cat((labels,torch.tensor([label])))\n",
    "with torch.no_grad():\n",
    "    log_pred_prob_batch = model_fnn(images)\n",
    "for i in range(10-1):\n",
    "    img = images[i]\n",
    "    real_label = int(labels[i].item())\n",
    "    log_pred_prob = log_pred_prob_batch[i]\n",
    "    # Output of the network are log-probabilities, need to take exponential for probabilities\n",
    "    pred_prob = torch.exp(log_pred_prob).data.numpy().squeeze()\n",
    "    visualize_pred(img, pred_prob, real_label)"
   ]
  },
  {
   "cell_type": "markdown",
   "metadata": {},
   "source": [
    "# Network with Dropout"
   ]
  },
  {
   "cell_type": "code",
   "execution_count": 15,
   "metadata": {},
   "outputs": [],
   "source": [
    "class FC2LayerDropout(nn.Module):\n",
    "    def __init__(self, input_size, output_size):\n",
    "        super(FC2LayerDropout, self).__init__()\n",
    "        self.input_size = input_size\n",
    "        self.output_size=output_size\n",
    "        self.network = nn.Sequential(\n",
    "            nn.Linear(input_size, 300),\n",
    "            nn.Dropout(0.25),\n",
    "            nn.ReLU(), \n",
    "            nn.Linear(300, 200),\n",
    "            nn.Dropout(0.25),\n",
    "            nn.ReLU(), \n",
    "            nn.Linear(200, output_size), \n",
    "            nn.LogSoftmax(dim=1)\n",
    "        )\n",
    "\n",
    "    def forward(self, x):\n",
    "        x = x.view(-1, self.input_size)\n",
    "        return self.network(x)"
   ]
  },
  {
   "cell_type": "code",
   "execution_count": 16,
   "metadata": {},
   "outputs": [
    {
     "name": "stdout",
     "output_type": "stream",
     "text": [
      "Training on  cpu\n",
      "Number of parameters: 551000\n",
      "Train Epoch: 0 [0/375200 (0%)]\tLoss: 4.621128\n",
      "Train Epoch: 0 [20000/375200 (5%)]\tLoss: 4.595937\n",
      "Train Epoch: 0 [40000/375200 (11%)]\tLoss: 4.588491\n",
      "Train Epoch: 0 [60000/375200 (16%)]\tLoss: 4.507156\n",
      "Train Epoch: 0 [80000/375200 (21%)]\tLoss: 4.474722\n",
      "Train Epoch: 0 [100000/375200 (27%)]\tLoss: 4.489663\n",
      "Train Epoch: 0 [120000/375200 (32%)]\tLoss: 4.380803\n",
      "Train Epoch: 0 [140000/375200 (37%)]\tLoss: 4.127745\n",
      "Train Epoch: 0 [160000/375200 (43%)]\tLoss: 4.192481\n",
      "Train Epoch: 0 [180000/375200 (48%)]\tLoss: 4.071924\n",
      "Train Epoch: 0 [200000/375200 (53%)]\tLoss: 3.897802\n",
      "Train Epoch: 0 [220000/375200 (59%)]\tLoss: 3.829326\n",
      "Train Epoch: 0 [240000/375200 (64%)]\tLoss: 3.425238\n",
      "Train Epoch: 0 [260000/375200 (69%)]\tLoss: 3.075119\n",
      "Train Epoch: 0 [280000/375200 (75%)]\tLoss: 2.914999\n",
      "Train Epoch: 0 [300000/375200 (80%)]\tLoss: 3.014721\n",
      "Train Epoch: 0 [320000/375200 (85%)]\tLoss: 2.526523\n",
      "Train Epoch: 0 [340000/375200 (91%)]\tLoss: 2.324956\n",
      "Train Epoch: 0 [360000/375200 (96%)]\tLoss: 2.198485\n",
      "\n",
      "Test set: Average loss: 19.0546, Accuracy: 56608/100000 (57%)\n",
      "\n",
      "Train Epoch: 1 [0/375200 (0%)]\tLoss: 1.891578\n",
      "Train Epoch: 1 [20000/375200 (5%)]\tLoss: 2.678783\n",
      "Train Epoch: 1 [40000/375200 (11%)]\tLoss: 1.758954\n",
      "Train Epoch: 1 [60000/375200 (16%)]\tLoss: 1.702805\n",
      "Train Epoch: 1 [80000/375200 (21%)]\tLoss: 1.759552\n",
      "Train Epoch: 1 [100000/375200 (27%)]\tLoss: 1.713778\n",
      "Train Epoch: 1 [120000/375200 (32%)]\tLoss: 1.793845\n",
      "Train Epoch: 1 [140000/375200 (37%)]\tLoss: 1.196930\n",
      "Train Epoch: 1 [160000/375200 (43%)]\tLoss: 1.828695\n",
      "Train Epoch: 1 [180000/375200 (48%)]\tLoss: 1.506641\n",
      "Train Epoch: 1 [200000/375200 (53%)]\tLoss: 1.590247\n",
      "Train Epoch: 1 [220000/375200 (59%)]\tLoss: 2.017982\n",
      "Train Epoch: 1 [240000/375200 (64%)]\tLoss: 1.543715\n",
      "Train Epoch: 1 [260000/375200 (69%)]\tLoss: 1.226312\n",
      "Train Epoch: 1 [280000/375200 (75%)]\tLoss: 1.127795\n",
      "Train Epoch: 1 [300000/375200 (80%)]\tLoss: 1.922385\n",
      "Train Epoch: 1 [320000/375200 (85%)]\tLoss: 0.890147\n",
      "Train Epoch: 1 [340000/375200 (91%)]\tLoss: 1.091567\n",
      "Train Epoch: 1 [360000/375200 (96%)]\tLoss: 1.200671\n",
      "\n",
      "Test set: Average loss: 9.8523, Accuracy: 75167/100000 (75%)\n",
      "\n",
      "Train Epoch: 2 [0/375200 (0%)]\tLoss: 1.375755\n",
      "Train Epoch: 2 [20000/375200 (5%)]\tLoss: 1.940630\n",
      "Train Epoch: 2 [40000/375200 (11%)]\tLoss: 1.266197\n",
      "Train Epoch: 2 [60000/375200 (16%)]\tLoss: 1.431198\n",
      "Train Epoch: 2 [80000/375200 (21%)]\tLoss: 1.105410\n",
      "Train Epoch: 2 [100000/375200 (27%)]\tLoss: 1.113774\n",
      "Train Epoch: 2 [120000/375200 (32%)]\tLoss: 1.289300\n",
      "Train Epoch: 2 [140000/375200 (37%)]\tLoss: 0.755160\n",
      "Train Epoch: 2 [160000/375200 (43%)]\tLoss: 1.574037\n",
      "Train Epoch: 2 [180000/375200 (48%)]\tLoss: 1.421999\n",
      "Train Epoch: 2 [200000/375200 (53%)]\tLoss: 1.060387\n",
      "Train Epoch: 2 [220000/375200 (59%)]\tLoss: 1.373946\n",
      "Train Epoch: 2 [240000/375200 (64%)]\tLoss: 1.229029\n",
      "Train Epoch: 2 [260000/375200 (69%)]\tLoss: 0.717844\n",
      "Train Epoch: 2 [280000/375200 (75%)]\tLoss: 0.885537\n",
      "Train Epoch: 2 [300000/375200 (80%)]\tLoss: 0.896755\n",
      "Train Epoch: 2 [320000/375200 (85%)]\tLoss: 1.203370\n",
      "Train Epoch: 2 [340000/375200 (91%)]\tLoss: 1.180215\n",
      "Train Epoch: 2 [360000/375200 (96%)]\tLoss: 1.060057\n",
      "\n",
      "Test set: Average loss: 7.7440, Accuracy: 80053/100000 (80%)\n",
      "\n",
      "Train Epoch: 3 [0/375200 (0%)]\tLoss: 1.020247\n",
      "Train Epoch: 3 [20000/375200 (5%)]\tLoss: 1.591935\n",
      "Train Epoch: 3 [40000/375200 (11%)]\tLoss: 0.753978\n",
      "Train Epoch: 3 [60000/375200 (16%)]\tLoss: 1.297050\n",
      "Train Epoch: 3 [80000/375200 (21%)]\tLoss: 0.618309\n",
      "Train Epoch: 3 [100000/375200 (27%)]\tLoss: 1.104735\n",
      "Train Epoch: 3 [120000/375200 (32%)]\tLoss: 1.257017\n",
      "Train Epoch: 3 [140000/375200 (37%)]\tLoss: 0.951768\n",
      "Train Epoch: 3 [160000/375200 (43%)]\tLoss: 1.064984\n",
      "Train Epoch: 3 [180000/375200 (48%)]\tLoss: 1.205505\n",
      "Train Epoch: 3 [200000/375200 (53%)]\tLoss: 1.116771\n",
      "Train Epoch: 3 [220000/375200 (59%)]\tLoss: 0.849402\n",
      "Train Epoch: 3 [240000/375200 (64%)]\tLoss: 1.700508\n",
      "Train Epoch: 3 [260000/375200 (69%)]\tLoss: 0.472128\n",
      "Train Epoch: 3 [280000/375200 (75%)]\tLoss: 1.126328\n",
      "Train Epoch: 3 [300000/375200 (80%)]\tLoss: 0.629490\n",
      "Train Epoch: 3 [320000/375200 (85%)]\tLoss: 1.089013\n",
      "Train Epoch: 3 [340000/375200 (91%)]\tLoss: 0.758557\n",
      "Train Epoch: 3 [360000/375200 (96%)]\tLoss: 0.952939\n",
      "\n",
      "Test set: Average loss: 6.8477, Accuracy: 81764/100000 (82%)\n",
      "\n",
      "Train Epoch: 4 [0/375200 (0%)]\tLoss: 1.049778\n",
      "Train Epoch: 4 [20000/375200 (5%)]\tLoss: 0.630291\n",
      "Train Epoch: 4 [40000/375200 (11%)]\tLoss: 0.966440\n",
      "Train Epoch: 4 [60000/375200 (16%)]\tLoss: 0.541457\n",
      "Train Epoch: 4 [80000/375200 (21%)]\tLoss: 0.565012\n",
      "Train Epoch: 4 [100000/375200 (27%)]\tLoss: 0.796955\n",
      "Train Epoch: 4 [120000/375200 (32%)]\tLoss: 0.616460\n",
      "Train Epoch: 4 [140000/375200 (37%)]\tLoss: 0.648518\n",
      "Train Epoch: 4 [160000/375200 (43%)]\tLoss: 2.099802\n",
      "Train Epoch: 4 [180000/375200 (48%)]\tLoss: 1.088873\n",
      "Train Epoch: 4 [200000/375200 (53%)]\tLoss: 0.592820\n",
      "Train Epoch: 4 [220000/375200 (59%)]\tLoss: 0.579402\n",
      "Train Epoch: 4 [240000/375200 (64%)]\tLoss: 0.497124\n",
      "Train Epoch: 4 [260000/375200 (69%)]\tLoss: 0.551357\n",
      "Train Epoch: 4 [280000/375200 (75%)]\tLoss: 0.313558\n",
      "Train Epoch: 4 [300000/375200 (80%)]\tLoss: 0.881153\n",
      "Train Epoch: 4 [320000/375200 (85%)]\tLoss: 0.927060\n",
      "Train Epoch: 4 [340000/375200 (91%)]\tLoss: 1.047850\n",
      "Train Epoch: 4 [360000/375200 (96%)]\tLoss: 1.125008\n",
      "\n",
      "Test set: Average loss: 6.3267, Accuracy: 82966/100000 (83%)\n",
      "\n",
      "Train Epoch: 5 [0/375200 (0%)]\tLoss: 1.689206\n",
      "Train Epoch: 5 [20000/375200 (5%)]\tLoss: 1.021502\n",
      "Train Epoch: 5 [40000/375200 (11%)]\tLoss: 1.153000\n",
      "Train Epoch: 5 [60000/375200 (16%)]\tLoss: 0.781079\n",
      "Train Epoch: 5 [80000/375200 (21%)]\tLoss: 1.120089\n",
      "Train Epoch: 5 [100000/375200 (27%)]\tLoss: 1.084234\n",
      "Train Epoch: 5 [120000/375200 (32%)]\tLoss: 0.693121\n",
      "Train Epoch: 5 [140000/375200 (37%)]\tLoss: 0.876534\n",
      "Train Epoch: 5 [160000/375200 (43%)]\tLoss: 0.537861\n",
      "Train Epoch: 5 [180000/375200 (48%)]\tLoss: 0.422659\n",
      "Train Epoch: 5 [200000/375200 (53%)]\tLoss: 0.779007\n",
      "Train Epoch: 5 [220000/375200 (59%)]\tLoss: 0.482759\n",
      "Train Epoch: 5 [240000/375200 (64%)]\tLoss: 1.154123\n",
      "Train Epoch: 5 [260000/375200 (69%)]\tLoss: 0.572605\n",
      "Train Epoch: 5 [280000/375200 (75%)]\tLoss: 1.640714\n",
      "Train Epoch: 5 [300000/375200 (80%)]\tLoss: 0.813583\n",
      "Train Epoch: 5 [320000/375200 (85%)]\tLoss: 1.460828\n",
      "Train Epoch: 5 [340000/375200 (91%)]\tLoss: 1.306823\n",
      "Train Epoch: 5 [360000/375200 (96%)]\tLoss: 1.070019\n",
      "\n",
      "Test set: Average loss: 5.9461, Accuracy: 83775/100000 (84%)\n",
      "\n",
      "Train Epoch: 6 [0/375200 (0%)]\tLoss: 0.667981\n",
      "Train Epoch: 6 [20000/375200 (5%)]\tLoss: 0.598995\n",
      "Train Epoch: 6 [40000/375200 (11%)]\tLoss: 0.860521\n",
      "Train Epoch: 6 [60000/375200 (16%)]\tLoss: 0.323922\n",
      "Train Epoch: 6 [80000/375200 (21%)]\tLoss: 0.735746\n",
      "Train Epoch: 6 [100000/375200 (27%)]\tLoss: 0.605536\n",
      "Train Epoch: 6 [120000/375200 (32%)]\tLoss: 0.920682\n",
      "Train Epoch: 6 [140000/375200 (37%)]\tLoss: 0.517038\n",
      "Train Epoch: 6 [160000/375200 (43%)]\tLoss: 0.669240\n",
      "Train Epoch: 6 [180000/375200 (48%)]\tLoss: 0.714153\n",
      "Train Epoch: 6 [200000/375200 (53%)]\tLoss: 0.827175\n",
      "Train Epoch: 6 [220000/375200 (59%)]\tLoss: 0.282116\n",
      "Train Epoch: 6 [240000/375200 (64%)]\tLoss: 0.446003\n",
      "Train Epoch: 6 [260000/375200 (69%)]\tLoss: 0.874042\n",
      "Train Epoch: 6 [280000/375200 (75%)]\tLoss: 1.153083\n",
      "Train Epoch: 6 [300000/375200 (80%)]\tLoss: 0.421856\n",
      "Train Epoch: 6 [320000/375200 (85%)]\tLoss: 0.503735\n",
      "Train Epoch: 6 [340000/375200 (91%)]\tLoss: 0.787660\n",
      "Train Epoch: 6 [360000/375200 (96%)]\tLoss: 0.371588\n",
      "\n",
      "Test set: Average loss: 5.4713, Accuracy: 84799/100000 (85%)\n",
      "\n",
      "Train Epoch: 7 [0/375200 (0%)]\tLoss: 0.337124\n",
      "Train Epoch: 7 [20000/375200 (5%)]\tLoss: 1.534039\n",
      "Train Epoch: 7 [40000/375200 (11%)]\tLoss: 0.479291\n",
      "Train Epoch: 7 [60000/375200 (16%)]\tLoss: 0.772590\n",
      "Train Epoch: 7 [80000/375200 (21%)]\tLoss: 0.724858\n",
      "Train Epoch: 7 [100000/375200 (27%)]\tLoss: 0.664886\n",
      "Train Epoch: 7 [120000/375200 (32%)]\tLoss: 0.676915\n",
      "Train Epoch: 7 [140000/375200 (37%)]\tLoss: 0.992545\n",
      "Train Epoch: 7 [160000/375200 (43%)]\tLoss: 0.637330\n",
      "Train Epoch: 7 [180000/375200 (48%)]\tLoss: 0.421794\n",
      "Train Epoch: 7 [200000/375200 (53%)]\tLoss: 0.713483\n",
      "Train Epoch: 7 [220000/375200 (59%)]\tLoss: 0.685481\n",
      "Train Epoch: 7 [240000/375200 (64%)]\tLoss: 0.462042\n",
      "Train Epoch: 7 [260000/375200 (69%)]\tLoss: 0.548517\n",
      "Train Epoch: 7 [280000/375200 (75%)]\tLoss: 1.252923\n",
      "Train Epoch: 7 [300000/375200 (80%)]\tLoss: 0.396185\n",
      "Train Epoch: 7 [320000/375200 (85%)]\tLoss: 0.361650\n",
      "Train Epoch: 7 [340000/375200 (91%)]\tLoss: 0.629877\n",
      "Train Epoch: 7 [360000/375200 (96%)]\tLoss: 0.975205\n",
      "\n",
      "Test set: Average loss: 5.2375, Accuracy: 85313/100000 (85%)\n",
      "\n",
      "Train Epoch: 8 [0/375200 (0%)]\tLoss: 0.845068\n",
      "Train Epoch: 8 [20000/375200 (5%)]\tLoss: 1.040498\n",
      "Train Epoch: 8 [40000/375200 (11%)]\tLoss: 0.274289\n",
      "Train Epoch: 8 [60000/375200 (16%)]\tLoss: 0.931152\n",
      "Train Epoch: 8 [80000/375200 (21%)]\tLoss: 0.234672\n",
      "Train Epoch: 8 [100000/375200 (27%)]\tLoss: 0.620197\n",
      "Train Epoch: 8 [120000/375200 (32%)]\tLoss: 1.023113\n",
      "Train Epoch: 8 [140000/375200 (37%)]\tLoss: 1.043756\n",
      "Train Epoch: 8 [160000/375200 (43%)]\tLoss: 0.826374\n",
      "Train Epoch: 8 [180000/375200 (48%)]\tLoss: 0.230353\n",
      "Train Epoch: 8 [200000/375200 (53%)]\tLoss: 1.574776\n",
      "Train Epoch: 8 [220000/375200 (59%)]\tLoss: 0.898457\n",
      "Train Epoch: 8 [240000/375200 (64%)]\tLoss: 0.569128\n",
      "Train Epoch: 8 [260000/375200 (69%)]\tLoss: 0.698686\n",
      "Train Epoch: 8 [280000/375200 (75%)]\tLoss: 0.462533\n",
      "Train Epoch: 8 [300000/375200 (80%)]\tLoss: 2.167445\n",
      "Train Epoch: 8 [320000/375200 (85%)]\tLoss: 0.409339\n",
      "Train Epoch: 8 [340000/375200 (91%)]\tLoss: 0.585962\n",
      "Train Epoch: 8 [360000/375200 (96%)]\tLoss: 1.109087\n",
      "\n",
      "Test set: Average loss: 4.8581, Accuracy: 86323/100000 (86%)\n",
      "\n",
      "Train Epoch: 9 [0/375200 (0%)]\tLoss: 1.272406\n",
      "Train Epoch: 9 [20000/375200 (5%)]\tLoss: 0.513199\n",
      "Train Epoch: 9 [40000/375200 (11%)]\tLoss: 1.014271\n",
      "Train Epoch: 9 [60000/375200 (16%)]\tLoss: 0.329777\n",
      "Train Epoch: 9 [80000/375200 (21%)]\tLoss: 0.760646\n",
      "Train Epoch: 9 [100000/375200 (27%)]\tLoss: 0.725386\n",
      "Train Epoch: 9 [120000/375200 (32%)]\tLoss: 0.384156\n",
      "Train Epoch: 9 [140000/375200 (37%)]\tLoss: 0.705898\n",
      "Train Epoch: 9 [160000/375200 (43%)]\tLoss: 0.284020\n",
      "Train Epoch: 9 [180000/375200 (48%)]\tLoss: 0.264375\n",
      "Train Epoch: 9 [200000/375200 (53%)]\tLoss: 0.448039\n",
      "Train Epoch: 9 [220000/375200 (59%)]\tLoss: 0.167377\n",
      "Train Epoch: 9 [240000/375200 (64%)]\tLoss: 0.695875\n",
      "Train Epoch: 9 [260000/375200 (69%)]\tLoss: 0.606511\n",
      "Train Epoch: 9 [280000/375200 (75%)]\tLoss: 0.417294\n",
      "Train Epoch: 9 [300000/375200 (80%)]\tLoss: 0.541726\n",
      "Train Epoch: 9 [320000/375200 (85%)]\tLoss: 0.584314\n",
      "Train Epoch: 9 [340000/375200 (91%)]\tLoss: 0.541440\n",
      "Train Epoch: 9 [360000/375200 (96%)]\tLoss: 0.440764\n",
      "\n",
      "Test set: Average loss: 4.6029, Accuracy: 87102/100000 (87%)\n",
      "\n"
     ]
    }
   ],
   "source": [
    "accuracy_list_drop=[]\n",
    "print(\"Training on \", device)\n",
    "model_fnn = FC2LayerDropout(input_size, output_size)\n",
    "model_fnn.to(device)\n",
    "optimizer = optim.SGD(model_fnn.parameters(),lr=0.01)\n",
    "print('Number of parameters: {}'.format(get_n_params(model_fnn)))\n",
    "\n",
    "for epoch in range(0, 10):\n",
    "    train(epoch, model_fnn)\n",
    "    accuracy_list_drop.append(test(model_fnn))"
   ]
  },
  {
   "cell_type": "code",
   "execution_count": 28,
   "metadata": {},
   "outputs": [
    {
     "data": {
      "image/png": "iVBORw0KGgoAAAANSUhEUgAAAcwAAAD9CAYAAAAxikc6AAAAOXRFWHRTb2Z0d2FyZQBNYXRwbG90bGliIHZlcnNpb24zLjQuMywgaHR0cHM6Ly9tYXRwbG90bGliLm9yZy/MnkTPAAAACXBIWXMAAAsTAAALEwEAmpwYAAAT7klEQVR4nO3de5zUdb3H8fdnl7uAKJC2CJoilKhgHCXzkKmYtzwmiqciBcuTqCe1qw8rS0vT1CytjPPwFFialkp16BxS0Ye3YJVQyQeZ4mUBuclVVu7sfs8fv9/aOO1+5rMMC3t5PR+PfbA779/M7zu/2Z33fGfmy1hKSQAAwFexuwcAAEBbQGECABBAYQIAEEBhAgAQQGECABBAYQIAEEBhtmNmlsxsg5ldt7vH0sDMJprZU8Ftrzazu3ZwPzt83vbAzKaa2bX596PN7KVdtN9kZoObyB4zswuCl1NjZmN2cAw7fN4dZWZdzextM9vWcNzR/lCY7d/wlNI3JMnMDjCzmvz7twu+6s1sU8HP43friHcxMxtfdDw25nf8I/O8q5lNNrMVZrbGzKab2YCC84cWMxce//znmoLjvsLMpphZz519/VJKT6aUhgbGF34w016YWR8zu9PM3sy/ri7KC2+jt83soYJsoplNlaSU0paUUk9Jd+/SK4BdisLsoFJKPRu+JC2SdHrBae/80ZtZp903yl0jpXR30fG4WNJrkp7NN7lM0tGSDpdUJWmdpB/vpN2fnu/zg5KOlPTN4g06wm2wG/1QUg9JB0g6StK5ZnZ+0TaFfxsf29UDROtBYeJdzOyjZvaGmV1hZsslTWls5lH41Fs+A7vZzBblM6XJZtY9uL9bzWyxma03s7lmNrpok25m9hszqzWzZ81seMF5q8zsATNbaWavm9ml5V7/3ARJv0z/+G+w3ifpwZTSipTSZkn3Shq2k/YlSUopLZE0Q9Kh0jvH9xIzWyBpQX7ax83seTNbZ2azzOzwhvOb2RH58ak1s99I6laQfdTM3ij4eaCZTcuP22oz+4mZfUDSZElH5zOpdfm27m1rZl81s2VmttTMPhu9vmZ2kJk9mu9/lZndbWZ9ijY70sz+ZmZr89l34XVq8lg00+mSbkwpbUwp1Uj6uaTw9UDHQmF2ICmlmpTSAYFN95W0t6T9JX0+sP33JQ2RNELSYEkDJH0rOKw5+fn2lvRrSfcV3jFKOkPSfQX5782ss5lVSJouaV6+vxMkXW5mJ0V2mt/R/msjp+8v6SOSfllw8s8lHZMXdA9J45WVmyQppWSRfXrH38wGSjpV0nMFJ39C0ihJh5jZByX9QtKFkvpK+i9J/5MXWhdJv5f0K2XH6T5JZzWxn0pJf5S0UNmsaoCke1NKL0qaJGl2PpPqk5+lydvWzE6W9BVJJ0o6WFJzXjc0Sdcrm7F/QNJASVcXbTNe0kmSDsrH8M18v00ei5I7Nfu0mf21kbEUfn9oUX53/uDiocIHbCmlqSmliaX2iXYkpcRXO/2SlCQNDmxXI2lM/v1HJW2V1K0gnyjpqcYuW9kdzAZJBxVkR0t6vYl9/dNlFeVrlb3uKmV3oNUFWYWkZZJGKyuSRUXnvVLSlILz3rUDx+wqSY8VndZb0j35dd6urNT23gm3T42kt5U9xbtQ0u2Suhcc3+MLtv2ZpO8Wnf8lSccqK/ilkqwgmyXp2oLb9I2C22alpE6lbptSt62y0rqhIBvi/c5JekzSBU1kn5D0XNGxmVTw86mSXi11LIp/nwO3wV2Spknqlf8+vyppS0F+jKTuyp62vVLSckl9nMub2nDc+Wp/X7w2gsasTNlTjxH9ld2ZzDV754G6SaqMnNnMvizpAmUzjaSsnPoVbLK44ZuUUn3+1GLDtlUNTx3mKiU9GRx3U86T9L2i036m7CnOvsoK5GvKZpijytyXJH0ipTSziWxxwff7S5pgZl8oOK2L/nEslqT8Hju3sInLHChpYUppe2BspW7bKklzA/v8J2b2Hkm3KXvw00vZg6G1RZsVXv+F+f4k/1g016XKXo9eIGm1sgdGn2oIU0p/Ltj2ejObkI95+g7sC20cT8miMcXv+tyg7I5TkmRm+xZkqyRtkjQspdQn/9ozZW9kceWvV14h6RxJe6XsacC39O6nyAYWbF8haT9ls6nFymY6fQq+eqWUTm3OFS0azzHK7nTvL4qGS5qaUlqTUtqi7A72KDPrV3wZO1nh7bBY0nVF17dHSukeZbPuAVbQapIGNXGZiyUNauKNRMW3e6nbdpkKbh9nn425Pt/f4Sml3pI+o3ff7mrkspcWXIemjkWz5Lfp+JTSvimlYcruE5/xztLIONFBUJiImCdpmJmNyF9fvLohSCnVS7pD0g/zWYPMbEDwtcReyp7iXCmpk5l9S9kMs9BIMxub38FfLmmLpGpld2rr8zcndTezSjM71MyOLON6TpD0QEqptuj0OZLOM7M9zayzsnfRLk0prSq+AMvWfz5WxhiacoekSWY2yjJ7mNlpZtZL0mxlx/FSM+tkZmOVveOzMc8oK7ob8svolj9QkKQVkvbLXxON3La/lTTRzA7JX9v9djOuTy/lT0dbtkTnq41sc4mZ7Wdme0v6uqTfBI5Fs+RvPuqb//6couw1+4b1q4PM7Bgz65Ifp68qe/bjz95lov2iMFFSSullSd+RNFPZU1fFa/WukPSKpGozW59vV3Ldn6QHlT21+bKyp9w2691Pw0nSHyT9u7Kn686VNDaltC2lVKfsHY4jJL2ubDb035L2jFyn/J2gowt+7qZspntnI5t/JR/bAmXlfqqkM5u46IFqgTvUlNJfJP2HpJ8oOxavKHvNUSmlrZLG5j+vVXa8pjVxOQ3HbbCy5URv5NtL0qOS5ktabmYNDwaavG1TSjMk/Sg/3yv5v1HXKFtK85ak/21ivL+W9JCyJT6vKS8y71iUYtma2/kFJ42U9IKkWmWz3vEppYa8l7Kn49dKWiLpZEmnpJRWR68k2hd798seaE/MbLOyGdltKaWrdvd4OgIze17SCdypdiz5O3RXSOqsbJnKNbt5SGgBFCYAAAE8JQsAQACFCQBAAIUJAEAAhQkAQID7P/2cWDGOdwQBADqUh+vva/Q/p2CGCQBAAIUJAEAAhQkAQACFCQBAAIUJAEAAhQkAQACFCQBAAIUJAEAAhQkAQACFCQBAAIUJAEAAhQkAQACFCQBAAIUJAEAAhQkAQACFCQBAAIUJAEAAhQkAQACFCQBAAIUJAEAAhQkAQACFCQBAAIUJAEAAhQkAQACFCQBAAIUJAEAAhQkAQACFCQBAAIUJAEAAhQkAQACFCQBAAIUJAEAAhQkAQACFCQBAAIUJAEAAhQkAQACFCQBAAIUJAEBAp909AADY1SoHv8/NX//Me938uNOedfMfV83y92/+XKUu1bv5uFdPcvO3rhnk5p0emevmaBwzTAAAAihMAAACKEwAAAIoTAAAAihMAAACKEwAAAIoTAAAAliHCaDV6TSgys0XfeoAN9+6Z3Lz6efd7OaPbhji5rfMG+PmQ54a4eb9/+LGenOUP/4bTr7XzQfd8Sc3/+6Ys9x8+2s1bt5RMcMEACCAwgQAIIDCBAAggMIEACCAwgQAIIDCBAAggMIEACDAUmp6vc+JFeP8xUBo1dacf7Sbbz1jnZt/8f2PuPlPb/TXcu39i9lujo6r1DrLsTP9z5s8r/cSN5+yfqCbT771DDfvP7l1/+6u//SH3PyJm37q5kPvv8TND76sutljak8err/PGjudGSYAAAEUJgAAARQmAAABFCYAAAEUJgAAARQmAAABFCYAAAF8HmYrZp38m2f92f/i5tXX+muxynXIVbe5+ef6XebmVTfO2pnDQRtS6vMsz+s93c2Pe2Gcm/cat9LN+9e27nWWpfSZPt/Np1zlr0PFjmGGCQBAAIUJAEAAhQkAQACFCQBAAIUJAEAAhQkAQACFCQBAAOswW7FVE45086e/07LrLEsZ2aXSzR+45CY3v3z6RDeve3FBc4eENmLYmX8v6/zdbujj5vW1r5V1+a3d8gmHufn5vR9z8xt24lg6EmaYAAAEUJgAAARQmAAABFCYAAAEUJgAAARQmAAABFCYAAAEsA6zBVV06+bmC64b4ebV59xcYg/d3XTwg593865vdHbzmRP9dZTvrezh5vtU+o/H6vfo6uZAR7Xh7FFu/skLH3bz2Vv8NdL9nrNmjwnMMAEACKEwAQAIoDABAAigMAEACKAwAQAIoDABAAigMAEACGAdpqNijz3cfMW5h7v56Rc94eZ/7Hd7iRH46yxLGfLZv7i5HTHMzbucX95arXlb/fFXrljn5tvL2jtas/m/e7+/wRf9dYZbr1zr5j2XHuTmdS+/6u+/TDbS/9ta852tbj7tsB+4+VObBrr5N7/kr8He6/ez3RyNY4YJAEAAhQkAQACFCQBAAIUJAEAAhQkAQACFCQBAAIUJAEAA6zAddcMHu/mcq37aovufv81fqzX+9i+5eZVmufmqkb3dvC4lN7/37f5uPvnKs928x+Kn3Rzt16B7atz8l58b4OaPHHq/my96eJOb/6HWX0P90sZ93Pycvs+4+dDOT7l5/0r/s2APe/JiNz/o+m1u3n2ePz7sGGaYAAAEUJgAAARQmAAABFCYAAAEUJgAAARQmAAABFCYAAAEsA7TsWZYjxa9/NX1/lqxSy+63M2rZvjrLEtZO8xfZ/nopv3dfP5Gf61cr0f/7uZ1bor2bPuSpW4+7fgRbn7tt//NzY8f8Tc3nzzwcTfXXgvcePaWSjc/5cdfc/NN7/H/9ioGbnDzFR/u4+b957kxdhAzTAAAAihMAAACKEwAAAIoTAAAAihMAAACKEwAAAIoTAAAAliH6VhzWH2LXv733xzt5l1nzGnR/R//4Rfc/JM9V7r5wdVnuPnQOn8tG9CU7cuWu/mQSX6+8LgP+ju4y1+Hee0q//MyZ17n/+1W/dZfI13RrZubv3LNEW5++qQn3LzrRdvd/FcPnODmg64pb413e8UMEwCAAAoTAIAAChMAgAAKEwCAAAoTAIAAChMAgAAKEwCAANZh7kbT/uqvtRqiuS26/+uqHiqxRXc3PXCqf+762tpmjQeIquzf382/fMev3HzuFv/yqy8c6eY9q6v9CyihfvNmNz/witluXn1FZ//yjz3Kze+cequb//y0j7j54tN6unndSn8Nd1vFDBMAgAAKEwCAAAoTAIAAChMAgAAKEwCAAAoTAIAAChMAgADWYTp6LKks6/zL6ja6+dDbt7p5Kmvv5asusVat64tL3Nz/RD5gxy284GA3P677n9x86LSL3fzg6qebPabWpOLx59z8wpsuc/Mnv36Lmx924yVuPuR81mECANBhUZgAAARQmAAABFCYAAAEUJgAAARQmAAABFCYAAAEsA6zBa2q8z+zrnLpajcvdx3jmvOPdvO+Fc+6+QnzPuPmVcv/1uwxARGV/fq6+fWfnermU9YPdPOhX/d/d+vdtO17z+2z3PzMs8a5+R+P+4mbf2HMf7p555kt+1m/LYUZJgAAARQmAAABFCYAAAEUJgAAARQmAAABFCYAAAEUJgAAAazDdAz801o3X3Sx/3mXFVbi8HZu2cO/emR5q8m2vbDnThoJ0Ex993LjD3fzP2/xyBnj3XxI7ZxmD6kjWX3/fm6+3zf88y85roubHzCzuSNqHZhhAgAQQGECABBAYQIAEEBhAgAQQGECABBAYQIAEEBhAgAQwDpMR/28F938kjHnuXnq6q9Fqq/5e7PH1BzfGvO7ss5/0O2vuXm5n9cJNKneX0O8OSU377SOu7Zy9P/ZbDefcXmVmw8/9mU3f6vZI2odmGECABBAYQIAEEBhAgAQQGECABBAYQIAEEBhAgAQQGECABDAYqUy1C3w1ynubuf2Wu7mj23u7OZp8+adORwgbNHYfd18n8ruu2gkHdSHDnfjk3rMcvNba493895a3ewhtQbMMAEACKAwAQAIoDABAAigMAEACKAwAQAIoDABAAigMAEACGAdJoBWp3eN/3mYpWzvw6e1ejZ//Cg3P+fGGW7+4MYBbr73pK1u3lZvHWaYAAAEUJgAAARQmAAABFCYAAAEUJgAAARQmAAABFCYAAAEsA6zA3vi7fe7+bbhB7p5xePP7czhAO/Ya47/Wa6vb/c/q/XZU25186Ov+Yqbv+/7z7t5/caNbl4u69rVzdedfYSb7/v519383gN/5OY3rfqQm99/5clu3mXhHDdvq5hhAgAQQGECABBAYQIAEEBhAgAQQGECABBAYQIAEEBhAgAQYCmlJsMTK8Y1HaLV+78lz5Z1/mMvvcjN93jg6bIuH9hRG84a5eZ33vIDNx/Uqbub3137Xjf/3vP+OsRSLj7sCTc/cY8X3XxI5y5ufk/tPm7+7cfPdPNDrl3m5tsXv+Hmbd3D9fdZY6czwwQAIIDCBAAggMIEACCAwgQAIIDCBAAggMIEACCAwgQAIIDPw2zDKnr0cPNK8x8P1aV6N9/zzzVuvt1NgZZTag3wpXM/7eYLb+nl5l875EE3nz96ipuX8uVl/udNnnX/qW7ec5G/RL7fXf4a7CFb/M+r5G+7ccwwAQAIoDABAAigMAEACKAwAQAIoDABAAigMAEACKAwAQAIYB1mG7ZiwnA3r0tPufnDm/zPBEybNzd7TEBrsL1mkZsPGOuf/27tV1Ze2jY33V+zyrp0Psi4ZTDDBAAggMIEACCAwgQAIIDCBAAggMIEACCAwgQAIIDCBAAggHWYbdi+j7zp5pMmjnbzl64f5ubd1z3T7DEBQHvFDBMAgAAKEwCAAAoTAIAAChMAgAAKEwCAAAoTAIAAChMAgADWYbZhdS+/6uaLRvnn7y7WWQJAFDNMAAACKEwAAAIoTAAAAihMAAACKEwAAAIoTAAAAihMAAACLKW0u8cAAECrxwwTAIAAChMAgAAKEwCAAAoTAIAAChMAgAAKEwCAgP8Hcl/BFIOOSwsAAAAASUVORK5CYII=\n",
      "text/plain": [
       "<Figure size 576x576 with 1 Axes>"
      ]
     },
     "metadata": {
      "needs_background": "light"
     },
     "output_type": "display_data"
    },
    {
     "data": {
      "image/png": "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\n",
      "text/plain": [
       "<Figure size 576x576 with 1 Axes>"
      ]
     },
     "metadata": {
      "needs_background": "light"
     },
     "output_type": "display_data"
    },
    {
     "data": {
      "image/png": "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\n",
      "text/plain": [
       "<Figure size 576x576 with 1 Axes>"
      ]
     },
     "metadata": {
      "needs_background": "light"
     },
     "output_type": "display_data"
    },
    {
     "data": {
      "image/png": "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\n",
      "text/plain": [
       "<Figure size 576x576 with 1 Axes>"
      ]
     },
     "metadata": {
      "needs_background": "light"
     },
     "output_type": "display_data"
    },
    {
     "data": {
      "image/png": "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\n",
      "text/plain": [
       "<Figure size 576x576 with 1 Axes>"
      ]
     },
     "metadata": {
      "needs_background": "light"
     },
     "output_type": "display_data"
    },
    {
     "data": {
      "image/png": "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\n",
      "text/plain": [
       "<Figure size 576x576 with 1 Axes>"
      ]
     },
     "metadata": {
      "needs_background": "light"
     },
     "output_type": "display_data"
    },
    {
     "data": {
      "image/png": "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\n",
      "text/plain": [
       "<Figure size 576x576 with 1 Axes>"
      ]
     },
     "metadata": {
      "needs_background": "light"
     },
     "output_type": "display_data"
    },
    {
     "data": {
      "image/png": "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\n",
      "text/plain": [
       "<Figure size 576x576 with 1 Axes>"
      ]
     },
     "metadata": {
      "needs_background": "light"
     },
     "output_type": "display_data"
    },
    {
     "data": {
      "image/png": "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\n",
      "text/plain": [
       "<Figure size 576x576 with 1 Axes>"
      ]
     },
     "metadata": {
      "needs_background": "light"
     },
     "output_type": "display_data"
    }
   ],
   "source": [
    "model_fnn.to('cpu') \n",
    "\n",
    "# fetch a batch of test images\n",
    "image_batch, label_batch = next(iter(test_loader))\n",
    "images,labels=torch.tensor([]),torch.tensor([])\n",
    "for i in range(10-1):\n",
    "    im1=image_batch[i]\n",
    "    im2=image_batch[i+1]\n",
    "    image=torch.cat((im1[0],im2[0]),axis=1)\n",
    "    image=torch.unsqueeze(image,axis=0)\n",
    "    label=int(str(label_batch[i].item())+str(label_batch[i+1].item()))\n",
    "    images=torch.cat((images,image),axis=0)\n",
    "    labels=torch.cat((labels,torch.tensor([label])))\n",
    "with torch.no_grad():\n",
    "    log_pred_prob_batch = model_fnn(images)\n",
    "for i in range(10-1):\n",
    "    img = images[i]\n",
    "    real_label = int(labels[i].item())\n",
    "    log_pred_prob = log_pred_prob_batch[i]\n",
    "    # Output of the network are log-probabilities, need to take exponential for probabilities\n",
    "    pred_prob = torch.exp(log_pred_prob).data.numpy().squeeze()\n",
    "    visualize_pred(img, pred_prob, real_label)"
   ]
  },
  {
   "cell_type": "markdown",
   "metadata": {},
   "source": [
    "# Visualising accuracies of different models"
   ]
  },
  {
   "cell_type": "code",
   "execution_count": 29,
   "metadata": {},
   "outputs": [
    {
     "data": {
      "image/png": "iVBORw0KGgoAAAANSUhEUgAAAtoAAALJCAYAAACKrIQGAAAAOXRFWHRTb2Z0d2FyZQBNYXRwbG90bGliIHZlcnNpb24zLjQuMywgaHR0cHM6Ly9tYXRwbG90bGliLm9yZy/MnkTPAAAACXBIWXMAAAsTAAALEwEAmpwYAAB/20lEQVR4nOzdd5zU1b3/8feZ2d47HelNkAURogKKJrEEERWiEXsMMddKrhqTe43md829BksSEyOWREw0tmAnGg2KHXWRRVQ6rrSF7b3vnN8f39lhtsGC+93Z8no+HvOY+db5fGcX9r1nz/ccY60VAAAAgM7lCXUBAAAAQG9E0AYAAABcQNAGAAAAXEDQBgAAAFxA0AYAAABcQNAGAAAAXEDQBoBDMMbMMsZsduG8PzHG7DfGVBhjUl04/3JjzB3+182uwRgz1hizzhhTboy5zhgTbYx52RhTaox5trNr6SuMMauNMVeGug4A3QNBG0CX8geRYmNMZKhr6Shr7bvW2rGdeU5jTLikeyV911obZ60t7Mzzt9TGNdwsabW1Nt5ae5+kBZL6SUq11i50s5aWjDEnG2N2u3j+wC8cANCVCNoAuowxZpikWZKspHld/N5hXfl+HdBPUpSkLw73QOP4pv9/H9XivY+StMVa23AE9XS3z7bLddLXBEAvw38KALrSJZLWSFou6dLgDcaYIcaY54wx+caYQmPMH4O2/cgYs9HfzeFLY8xU/3prjBkVtF9wV4mTjTG7jTE/M8bsk/SoMSbZGPOK/z2K/a8HBx2fYox51Biz17/9heBzBe030Bizwn+er4wx1wVtm26MyTLGlPm7hdzb8kMwxoyR1NSNo8QY86Z//QnGmE/83Tc+McacEHTMamPMr40x70uqkjSijfNOMcZ86v+cnpYT5Ju2Ba7B/35zJP3R323lSUm/lHS+f/mH/v2u8H/uxcaYfxljjgo6nzXGXG2M2Sppq3/dXGNMtjGmxBjzgTHmmKD9c4wxNxpjPvNf39PGmChjTKykVyUN9L93hTFmYBvXttwYc78xZqX/+j4yxowM2j7OGPOGMabIGLPZGPN9//rFkhZJutl/7peNMZcbY14OOnabMeaZoOVdxpjMb/o1McYM8F/vjf7ly4wxO/z1f2WMWdTyOgH0MtZaHjx48OiSh6Rtkv5D0rGS6iX186/3Slov6beSYuUExJn+bQsl7ZF0nCQjaZSko/zbrKRRQedfLukO/+uTJTVI+o2kSEnRklIlnScpRlK8pGclvRB0/EpJT0tKlhQu6aSgc+32v/ZIWisnmEbICVc7JJ3m3/6hpIv9r+Mkfaudz2KYv/4w/3KKpGJJF0sKk/QD/3Kqf/tqSTslHe3fHt7ifBGSvpa0xF/7Av9nfEfLawg635VBy7dLejxoeb7/6zXe/37/LemDoO1W0hv+uqMlTZWUJ2mG/+t5qaQcSZH+/XMkfSxpoP+YjZKuaqu2dj6v5ZKKJE331/OEpKf822Il7ZJ0uX/bVEkFko5u+X3hXx4hqcT/tRzg/9z2BG0r9m877K9J0+fq//pukbQ4qMYySWP9ywOa6uPBg0fvfdCiDaBLGGNmyume8Iy1dq2k7ZIu9G+eLieA3WStrbTW1lhr3/Nvu1LSUmvtJ9axzVr7dQff1ifpNmttrbW22lpbaK1dYa2tstaWS/q1pJP89Q2QdIac8Fdsra231r7dxjmPk5Rurf1/1to6a+0OSQ9LusC/vV7SKGNMmrW2wlq7poO1fk/SVmvt36y1DdbaJyVtknRW0D7LrbVf+LfXtzj+W3KC3u/8tf9D0icdfO+2/FjS/1lrN1qnO8n/SsoMbtX2by+y1lZL+pGkB621H1lrG621j0mq9dfV5D5r7V5rbZGklyVlHmZNz1lrP/bX80TQ8XMl5VhrH/V/Np9KWiHnl41W/F+zcv/xJ0n6l6Q9xphx/uV3rbU+HfnXZIKcwH2btfahoH19kiYaY6KttbnW2sPuNgSgZyFoA+gql0p63Vpb4F/+uw50Hxki6Wvbdv/gIXJC+ZHIt9bWNC0YY2KMMQ8aY742xpRJekdSkjHG63+fImtt8SHOeZScbg4lTQ9Jv5DT51qSfihpjKRN/q4GcztY60A5LavBvpY0KGh51yGO32OttS2OP1JHSfp90DUWyfmLQnv1HCXpP1t8LkP8dTXZF/S6Sk6L/+Fo7/ijJM1o8d6LJPU/yLneltOSPtv/erWckH2Sf1k68q/JIjl/hflH0wprbaWk8yVdJSnX3wVm3EHqA9ALELQBuM4YEy3p+5JOMsbsM06f6SWSJhtjJssJK0NN2zfV7ZI0so31khO2YoKWWwYr22L5PyWNlTTDWpsgJ2RJToDcJSnFGJN0iMvZJekra21S0CPeWnumJFlrt1prfyApQ063lX/4+yEfyl45gTHYUDmBrb3rCZYraZAxxrQ4/kjtkvTjFtcZba39oJ16dkn6dYv9Y/ytwIdysOvqaK1vt3jvOGvtTw5y/qagPcv/+m21DtpH+jW5XU7Xlb/7f4lzdrT2X9ba78jpNrJJzl9CAPRiBG0AXWG+pEY5f1LP9D/GS3pXzg2SH8sJincaY2L9N8md6D/2EUk3GmOONY5RQd0XsiVdaIzxGmNOl78byEHES6qWcwNiiqTbmjZYa3Pl3JT3J+PcNBlujJndxjk+llRmnJsso/3vPdEYc5wkGWMuMsak+7selPiPaezAZ/RPSWOMMRcaY8KMMef7P69XOnCs5PQNb5B0nf/4c+V0yTlSyyT93BhztCQZYxKNMQcb9u9hSVcZY2b4v06xxpjvGWPiO/Be+yWlGmMSj7DWV+R8dhf7v27hxpjjjDHjg87f8ubRt+XcEBptrd0t53vxdDn9+Nf59znSr0m9nHsLYiX9zRjjMcb0M8bM8//SVSupQh37vgDQgxG0AXSFSyU9aq3daa3d1/SQ9Ec5f2Y3cvq9jpJzc9luOX9ml7X2WTl9qf8up1/tC3JuUpOk6/3HlfjP88Ih6vidnBv3CuSMfvJai+0XywlJm+Tc2HdDyxNYaxv975kp6Sv/uR6R1BQST5f0hTGmQtLvJV0Q3H2lPdYZR3uunFb3QjnjXM8N6mpzqOPrJJ0r6TI5N+ydL+m5jhzbzvmel9Mi/5S/m83ncvqwt7d/lpx+2n/0v/82fy0dea9Nkp6UtMPf9aPVqCOHOL5c0nfl9JPfK6eLSdNNsJL0Z0kT/Od+wX/MFjlh913/cpmcm1rf93+Nv9HXJOjrkSHpL3JulvxPf31Fcn4p/I/DuU4APY9p3p0PAAAAQGegRRsAAABwgWtB2xjzF2NMnjHm86B1KcaZUGCr/zk5aNvP/ZMGbDbGnOZWXQAAAEBXcLNFe7mcvorBbpG0ylo7WtIq/7KMMRPk9K072n/Mn4Lv1AYAAAB6GteCtrX2HTk3fAQ7W9Jj/tePyRmJoGn9U/5JJb6ScxPNN7lbHgAAAAiptsasdVM//xBastbmGmMy/OsHyRkBoMluNZ8QIMAYs1jSYkmKjY09dtw4xvsHAACAu9auXVtgrU0/nGO6Omi3x7Sxrs3hUPzT2T4kSdOmTbNZWVlu1gUAAADIGHPYs+129agj+40xAyTJ/5znX79bzlS9TQbLGWsUAAAA6JG6Omi/JGfiCvmfXwxaf4ExJtIYM1zSaDmzrwEAAAA9kmtdR4wxT0o6WVKaMWa3nKmO75T0jDHmh3Jmf1soSdbaL4wxz0j6Us4Uwlc3zcwFAAAA9ESuBW1r7Q/a2XRqO/v/Ws40ywAAAECPx8yQAAAAgAsI2gAAAIALCNoAAACACwjaAAAAgAsI2gAAAIALCNoAAACACwjaAAAAgAsI2gAAAIALCNoAAACACwjaAAAAgAsI2gAAAIALCNoAAACACwjaAAAAgAsI2gAAAIALCNoAAACACwjaAAAAgAsI2gAAAIALCNoAAACACwjaAAAAgAsI2gAAAIALCNoAAACACwjaAAAAgAsI2gAAAIALCNoAAACACwjaAAAAgAsI2gAAAIALCNoAAACACwjaAAAAgAsI2gAAAIALwkJdAAAA6CLWSjWlUtkeqWyvVLrbeS7bI9VVSJ4wyXidZ0/LZ/9r02K52fYwyXhabA96/ibnNi3fy3vg/YwJ9ScLtImgDQBAbxAI0f7gXLZHKvUH6jJ/oC7dI9VXNj/OeKS4/lJkvGQbJV+D5PP5n/0P2yj5Gpuv606ahfgwyeM5SPhva7u3efg33gMBvtlz0EPB69p7Hbxvy/XfZD+1XnfE+5kW19Jiv+hkKX1saL6uvQBBGwCA7q4jIbpsr9Mq3YyR4vtLCYOk9HHSqG9LCQOd5YRBUuIgKa6f5A0//JqCw3ggoLcRyG2L0H7QEB98bGPQeTt67qB9bMtzHuLcDbWSr1Ly1TvntfI/Bz1kW6yz/sfB9rMtntvYrzsb9W3pohWhrqLHImgDABBK1kq1ZW23PjeF6oOG6IFOiB55qhOcEwZKCYOd5/j+RxaiO8LjkTwRkiLcOX9fYtsK5m0F9xDsF50c2s+mhyNoA0Bv1tggle6UCrZJhVulwm1SdYkUGSdFxPuf45znyIQDryPinK4EkfHO6/Bo+sEeiUOG6KD+0c2EOESjaxnjdFeRN9SVoJMRtAGgp7NWqixwQnRTmC7Y5jwX7XD+FN4kKkmKSZXqKp1w1yrgtcN4DgTzpvAdHMgDwbxlgI9ve39PLwkUTd05mrU+B3fraCdEx/VzgnP6GGnkKU5wThx0oEsHIRroFQjaANBT1FU5wblw64Eg3RSsa0oP7OeNkFJGSGmjpXFnSqmjpNTRznNsavNz+nzOzXG1FVJtuVRX7ryuq/CvKzvwuq11FXnN13X0JrnwmPZbzw83wIdFutPaHtwnus0W6b3O59WMP0QnDPSH6Dn+8DxQSmxqiR5AiAb6CII2AHQnvkapdFfzVunCrVLhdmd9sITBUupIadLCoDA9Ukoa2vEWY4/nQGjVgG9Wu7XODWV1/tBeWx4U0suDwnxF821Nr5v6ITeta6ju4DWEHTysHyzA++o7N0TH9ZfC6LMMwEHQBoBQqCryh+mtzcN04XapsfbAfpEJTog+6gR/mG56jJQiYkNXf1uMkcKjnEds2jc/X2PDge4tHW5x9wf8mlInMAcH/YOO7mCkuAwnOKeN9ofolqNzEKIBHB6CNgC4pb5GKv4qKEwHBevqogP7ecKk5OFOwBv1bSdIpzV19UjvuzchesOk6CTn8U1ZK9VXtQ7kHq+/T/QAQjSATkfQBoBvwudz+vA2BengMF2yU85gvH5x/Z0APeHs5mE66SgnVMI9xjh/AYiIldQv1NUA6CP4nx0AOqK6xN+1Y2tQmN7uvA7uSxwR53TrGHycNPkH/jA90gnUkfEhKx8A0PUI2gDQpKFOKs5pEab9rdSV+Qf2M14p+Sjn5sPhs6W0UQduRozv33e7egAAmiFoA+hbrJXKc1u0SvsDdfHXzrTMTWLTnfA85nR/y7S/q0fyMPrzAgAOiaANoOezVqqvdm4wrC52RvSoLm6+XJ57IFjXVx44NizaCc8DJksTzzsQplNHds5NeACAPougDaB7aahtOyi3Wi5pvhw8JF5L4TFO63Ta6ObD5KWNluIHOmNJAwDQyQjaANzRWO8Px+0F5eDl4gPL9VXtn9MbIUWnSNHJUkyKM/thdPKB5ehkZ3vw6+gkKTy6yy4bAIAmBG0AB+dr9LceH6qFuUVwbjWrXhBP2IGAHJ3izKo34JigdS2Cc9NyeAw3GgIAegyCNtBX+HxSbWnrFuRDBeea0vbPaTxSVNKBIBzXT0of3yIotxGcI+MJzACAXo+gDfQGdZVSyS5ngpSSr/2PnVLZ3gPBuabk4FNQRyU2b0FOHdm6RTm4O0ZMihSZSP9mAADaQdAGeoL66raDdMlOZ0i6qoLm+3sjpaShUsJAKXFI+10xmpajEpmZEACATsZPVqA7aKj1B+mvg8L0zgOPiv3N9/dGOAE6aag0fq7znHTUgefYdFqaAQAIMYI20BUa6qSy3U7rcyBAB70uz22+vyfcuUEwaag0+rvOLITBQTquH0EaAIBujqANdIbGeqlsT4sgvbN5X2nZA/sb74EgPfJUf5AeeuARP0DyeEN2OQAA4JsjaAMd0dggle890Ce6ZZgu29P8RkPjkRIGOa3Pw09ywnNwmI4fSJ9oAAB6OX7SA5IzVnR5bvMbDJu1SO+RfA1BBxjnRsOko6SjTjwQoJvCdMIgyRsesssBAAChR9BG3+DzSRX7mrdCB7dMl+6WfPXNj4kf4ITmITOad+tIPkpKGCyFRYTmWgAAQI9A0EbvYa1UtEPau+5AS3RTmC7dJTXWNd8/rp8TnAdNlY4+JyhID3NapMOjQnIZAACgdyBoo2cry5W+elv66h1px9vOyB5NYtOd4DzgGP8QeMEjdwyRwqNDVzcAAOj1CNroWaqLpa/edYL1V29LBVuc9dHJ0rBZ0qwl0tDjnVbpiNiQlgoAAPo2gja6t7oqaeeHTqje8baUu16SlcJjpKNOkKZcLI04Seo3iXGlAQBAt0LQRvfSWC/tWeuE6q/elnZ97Nyk6AmXBh8nnXyLM1zeoGO5GREAAHRrBG2Els8n7f/8QIv11x9I9ZWSjNO3+ls/cYL1UcfTFQQAAPQoBG10raaRQXas9t/E+K5UXeRsSx0tZf5AGj7b6W8dkxLSUgEAAL4JgjbcV5Z74ObF4JFB4gdKY05zWqyHz5YSB4W2TgAAgE5E0Ebnqy6Wct470M+6rZFBhp8spY6UjAllpQAAAK4haOObY2QQAACAVgjaOHyMDAIAAHBIBG0cGiODAAAAHDaCNlpjZBAAAIBvjKANByODAAAAdCqCdl/FyCAAAACuImj3FYwMAgAA0KUI2r0VI4MAAACEFEG7twgeGeSrd5yRQeoqxMggAAAAoUHQ7smslXZnSdmPSxtflqoKnfWpo6XJFzAyCAAAQAgRtHui8n3S+qek7L9LBZudftbjvieNPJWRQQAAALoJgnZP0VArbX7VCdfb/i3ZRmnIt6R5f5COPkeKjA91hQAAAAhC0O7uctdL656QNjzrTBoTP1CaeYM0+UIpbVSoqwMAAL2Qr65OjcUlkvUpvH//UJfTYxG0u6PKQmnDM07A3r9B8kY6XUOmLJJGzJE83lBXCAAAeghfdbUai4vVWFKiBv9zY3GJ81xSEtgW2KekRLaqSpIUe9JsDX3wwRBfQc9F0O4uGhukbW9I2U9Im19zhuIbOEU6825p0gJnIhkAANBnWWvlq6xsOxw3LQeHaP86W1vb7jk9CQnyJiU5j/Q0RY4eJW9SsrzJSfImJSti2FFdeIW9D0E71PI2OaOGrH9aqsyTYtOlGT+WMhdJ/SaEujoAAOAC6/PJV1YWCMdOUC5tFaCdR7EaSkrUWFIq1de3fUJj5E1MlDc5Wd6kJIUPGKCoCROcAJ2cFAjTYf7t3uRkeRMTZcKIgm7i0w2F6hLp8xVO6/WetZInTBpzuhOuR39H8oaHukIAANBBtqFBjWVlzcNxq5bmFiG6tNSZA6MtXq8/MCfKm5SkiGHDFJ3ktDAHQnJTK3RTiE5IkPHStbS7IWh3FV+jM5nMuiekTa9IDTVSxtHSaf8rTfq+FJce6goBAOjzbH39QbthBIfphhKnFdpXWtru+Ux4+IFgnJysyNGjA+E4rFlgPrCPJy5OxpguvGq4haDttsLtzpB865+SynZLUUnSlIudGxsHZEr8QwIAwHW+2lo15BeoIT9PDfn5asjLd56DH3l5aiwudiaEa4OJjj4QkpOSFD1oUKuQfKCLhvNsYmIIzX0YQdsNtRXSly84rdc7P5CMRxp5ivTd/5HGnimFR4W6QgAAegVfVVWzoNwyPNfn5akhv6DtVmevV2GpqQpLT1d4//6KPuYYhaWny5ua0rwvsz88e6L6xs/vmvpGlVXXq6ymXl6PR8PTYkNdUo9F0O4s1kpff+D0u/7iBam+UkodJZ16mzMdesLAUFcIAECPYK2Vr6KiectzyxDtX/ZVVrY+QXi4wtLTFJaerohhwxQ7fbrC0tObPzIy5E1O7pX9mq21qqprVGl1fbNHWcvnmoY2t9c2HOg7fvLYdC2/fHoIr6ZnI2h/UyW7pPVPOgG7OEeKiJcmnSdlXiQNmU7XEAAA/Ky1Tt/mQFhuo/uGP0TbmppWx5uoqEBQjhw3TrGzZrUIz86zNympx3fX8PmsyoOCcFlN26G5NCg0BwfpBl/b3V8kJ5rER4YpMSZcidHhSogK1+iMOCVG+5f9j8TocA1Jju7Cq+59CNpHor5a2viKMyzfjrclWWnYLOnkn0vjz5Ii+BMLAKDvsD6fGouK2u/CkZev+vw8NeYXyLYxPJ0nNjYQlqMnTWoVnMMyMhSWnt7jbhKsb/QdMhSXVrUO0aXV9aqobWivq7gkKcxjWoXioSkxSogKCwTmxKBtwcvxkWHyeHrO59iTEbQ7ylpnKL51j0ufPyfVlkqJQ6WTfiZl/kBKHhbqCgEA6FS2oUENhYXtd99oWldYKDU2tjrek5iosPQ0hWdkKHbYca26bjS99sTEhODqDs1aq5p6X/Mg3EYwLqtuaNElw3muqmv9mQSLDPM0C8H9EqI0pl/8gQDdIjQnxjitz4nR4YqJ8PaoXzr6KoL2oZTvc0YMyf67VLBZCouWJpztjBpy1EzJ4wl1hQAAtMtaK1tTI19l5YFHVVXgdWPTc3CXjvwCZwSOoqI2R+DwpqQEwnLkmDFtdN/IUFh6mjyRkSG44oOz1qqspkF5ZTXKK6/V/hbP+WW1KqysVWm10+pc19jOWNd+cZFOGI73h+KjUmPabEl21oUFhehwRYX3vv7haI6g3ZaGOmnLq86oIdv+LdlGacgM6az7pKPPkaISQl0hAKCXahWMg0JxUzC2VVWBgOw8qlrtF3x8uxOjBPN4nBE4MjIU3q+foidObLP7Rlhqqkx495tYzVqrsuoG7S+vUV5Z8wCd3yJQB9/s1yQ2wquMhChlxEdqbP/4ZmG5qRW5ZReMhKgwhXlpcEP7CNrBcj9zbmr87BmpukiKHyCdeJ0zY2Pa6FBXBwDohgLB+CBBN7jl+MC6qnZbmTsUjCWZyEh5YmPliYlxnmNjnem3Bw0KWhe0LTZWJiZGXv9y4BET4/R/7oYjcFhrVVJV36r1uWV4ziuvVV0bATouMkwZCZHKiI/UlKFJyoiPVL+EKKX7nzPiI5WREKW4SCIROh/fVZWF0oZnnRsb922QvBHOWNdTLnLGvvZ0v/90AADfTNPwcY3FxYfRclzV9r5VVW32T26LiYxsFooDwXjgwKB1Ma3Dc8tQ7H/uji3LHWWtVXFVfSAk5wU97y+rVV6585xfXttm9434qLBAaJ52VHKr8NwvIUoZCZGKiSDqIHT65ndfY4PTJST7cWnza5Kv3pml8cy7pYnnSTEpoa4QADpdVX2VtpZslbVWE9MmKszT+34EWGvlKy8/cNOe/7k+L6/VmMxtDR/XkomIaN7yGxsrb2Ji62Ac07rluGWg7unBuKN8PqviqrpAWM4LCs3B4TmvvEb1ja37fydEhQVC8ozhKUpPiFS/+Ch/q3SU+vmfoyNoCEP31/v+lz2Y/M3OqCGfPS1V7Jdi0qTpi50bG/sdHerqAKBTWGu1t3KvNhdt1ubizdpavFWbizZrV/kuWTnBJjEyUTMHzdTJg0/WiYNOVHxEfIirPjhrrXxlZYcMzw35+W0GaE9MTKCPcWD4OP+EJZ44JwS31Z2iLwTjjvL5rAor69oMz3lltdpfXqt8f6t0W2M4J8WEB1qaR6THHui2ERSeMxIiuUEQvUrvD9rVJdIXzzk3Nu7JkoxXGnOa0+969HelsIhQVwgAR6yqvkrbSrZpc/FmbS5yQvWW4i2qqK8I7DMkfojGJo/V3JFzNSZ5jOp99Xpn1zt6d8+7WrljpcJMmKb2m6qTBp+kk4ecrKEJQ7us/kCAPlh4bgrQtbWtjg+Mv5yR4UyfnZFx4Ka9ppv40jPkjeu78xv4fFYNPiufdZ4bG60arVWDz6dGnw08ymsaDoTmZq3PznNBRdsBOjkmPNBtY3RGmj88H+i6kRHvbCNAoy8y9mCjoXdz06ZNs1lZWa03+HzSV6udcL3pFamhRsqY4ITrY74vxWV0ea0A8E00tVJvKdqizcWbtaV4i7YUb9HOsp2BVurY8FiNSR7T7DEqcbSKK4225Vdoe16FtudXqqCiVh4jGVlVmO0qstkqtNmqsnskSTFmgDK8U9QvbKpSvGPk9YTJYySPMc5xxsgELXuMkQl67ZxbiqiuUFRZsaLLihRZWqyosmJFlhYpsrRIEaVFiigtVkRJoTwNrScwaYyKUUNyihqS09SQnKLG5FQ1JKfKl5wqX0qafCmp8iWnycREO+/p8delphoO1OoxkscTvHxgP0lq8PmcENroD50tAmljU1Bt8dzoD6oNvgPHtXdMU5g9cJycZ+s8NzQGBWFf+8c7633yWafu4PdrbHPfI/8Znxob0eKGweY3D2bERyo9PlKRYQRo9A3GmLXW2mmHdUyvCtpFO5zxrrOflMp2S1GJ0qSFTsAeOIXp0AH0CE2t1FuKt2hz0YFQ3VYr9ZjkMRqTMkZHxY9SbXWiduRXaXu+E6i35VXoq4IK1dQfuJEsJTZCGfHO2MY+a+WzzrO1Ur3JV13EF6qP3KCGiO2SaZR8MfLUjJOn6mipepxsY6RiaiqVVF2mpOpS51FVquSaMiVXO4+UmlKl1JQrwtfQ6toqw6JUGJWgoqh4FUUlqigqXoVRiSqOivevdx41Yd1v/OXD4TFSmMcjj8d59nrMgYdxnsO8B143PcI8LZc98vjXe4x/u/+41vuaA/sGzuVx9vW2fm9Pi3PERISpnz9Mp8VFKiKMYeuAYH0zaL+/WvryRWdYvq/fl2Sc0UKmLJLGfk8Kjwp1mQDQJmutcitzA2G6qaU6uJU6JixGY5LHaGyKE6r7R4+Q6vprT5HP30JdoW35FdpdXB2YV8QYaUhyjEamx2pURpxGpsdppP85Jbbt7nLWWmfCEn+Xjcrcndqx/VPt2/mlKnN3K66sTikVUnKlUVhD658bnvj4VrP9ef3LnrQ0edLT5UlNk6KjD4R7n/9ZTaHfCfyBXwB8wcvOfjbolwOfTy2OcbZJB4732RbHBO1vrWSlQNhsHlCbh12vR/J6PM3DbIvgGxyUmbEP6H36XtAelWGzLg+T6iullJFS5oXS5B9IiYNCXRoANFNVX6XtJdsDYbqpP3V5fXlgnyHxQzQmeYxGJ41RavgweRsGqrg0TjsKnFbqbXkVKq460M0iKtyjEWlOiB6VHqeRGbEamR6n4Wmxigr3yvp8aiwtVWNxiRpLitVY7DwaCgpbjcrRkJ8vW9+6C0dTgK5Jita+6DptCyvUjrASFcdJkf0GaPyYE3Tc0d/VlKO+1StHMQGAJn0vaA+KsFl/WuyMeT1kBl1DAIRcUyt1U5huGvXj67KvW7VSj0gcreSwo+RtHKiq8gztLGzU9rwKfVVQ2WzmurS4CI1Ii9XYxHCNjW7UsLA6DTK1Sqqvkq+k2AnSxcVqLC5SQ3HQcklJuxOfeBISmt0wGB64gTCjWau0Jzq61bG7y3fr7d1v6+1db+uT/Z+owdeg+Ij4ZqOYJEYmuvL5AnBXva9eOaU52lq8VVtLtio9Ol0Xjr8w1GV1C30vaB871Wat/TTUZQDoo6obqrWteFuzbh9bireovO5AK/XguMEanjBaSWFDFd44WNUVGdpXFKOv95WpIq9A8bWVSqxzHsPD6jXEW6f+qlFqQ7XiaysUWVkulTrB2dbVtV2I1ytvcrLCkpPkTUqWN9n/SElWWNNr//qw5CR5U1LaDNBHorK+Uh/s/UCrd63Wu7vfVXFtsbzGqykZU3TykJN10uCTNCxxWKe8F4DO09Qo0BSom56/Kv1KDf77K8JMmL4z7DtaOntpiKvtHvpe0G5v1BEA6ETWWu2r3Nes28eW4i2BVmpjrdLqozVWQ9S/Lk3x5XHyFkXIVyA1FpUqsrJcCXWVSqirVFJdlRLrKxVd1/5kKZ6EhAMBOfBI8q9LabGcLE98vIwn9DeuNfoataFgg97e/bZW71qtbSXbJEnDEoZp9uDZOnnIycrMyFS4h7Gpga5UWlvaPFAXb9W2km3NbrAeEDtAo5NHa3TSaI1OHq1RSaM0InGEwr38e21C0AaAb6iqvko7cr/Qjpxs7dmzSfm521Wat0vh5TVKqLKKr5bSaqOUXB2u2EopurJe0dU18rTzf2lDeKQa4xPkSU5WVHqqYtJSFRbc0pyc0iw0exMTe80kKXsq9ujtXW/r7d1v65N9n6jeVx/oYnLS4JM0c9BMupgAnai2sVY7SnY0a6HeWrxVeVV5gX3iI+IDYXpM8phAqO7uk1Z1BwRtAGjBWuvcAJiXd+BmwOJiNRQVqTxvj8ry96i6cL98xaUKK6tUTGWjwhvbPleD8agsIkalkXEqi4hVeWSsfAlJCk9JUWxGqpIGpKvf4H4aPGygEgeky5uU1GldNHq6yvpKfbj3Q6eLyZ53VVRTFOhictLgk3TSkJM0PHF4qMsEegSf9WlP+R5tKdkSaKHeWrJVO8t2qtE6/4FFeCI0ImlEIFQ3tVZnxGQwKs4RImgD6HN8tbVqyM1VfW6u6vf6n3P3Ouv8y23NKChJ5VFSeYxUFi1Vx0apOjpeZRGJyleK8pWuUm+6yiLiVRcbr9RB/TR4cHpgmLxRGXEamhrDZB1HwGd9TheTXW9r9e7V2lq8VZJ0VMJRTugefJKm9JtCFxNAUmF1YbMuH1uLt2p76XZVN1RLkoyMBscPPtDlI3mUxiSN0dCEoYwE1MkI2gB6FevzqbGoKChENw/Q9bm5aiwsbH6MkWoSo1WaFK78eKs9sXXKjatXUbxUFmNUFROp+ugBKjWDVFKeofrq/mqs7S/5nJnuAuNOp8c6w+ZlxKl/QhQtQC7aW7E3MIrJx/s+PtDFZOBMnTSELiZdoSkL8H0eOk1DgLbs9lFUUxTYJyUqpVUL9cikkYoJjwlh5X0HQRtAj+KrrlZ97r42A7Szbl+rkTbqI8JUkhypgniP9sc3al98rfITrAoSjQoSpKJ4yWdipYZkNdQlqrEuUb76ZNn6FDXW9JenMVVHpTaNO32gdXpEeqwSomhBDbXK+kqt2btGq3ev1ju73wl0McnMyNTJg0/W7CGzNTxhOIGwg6y1qqivUH5VvvKr85VXlaf86nzlVx14nVeVp4LqAjX6GpUYmajkqGQlRSY5j6gkJUcmB14nRfqX/a/jwuP4WhymBl+DdpbvbNZCvbVkq3aX7w4MARodFq2RiSMPBGp/qE6NTg1x9X0bQRtAt2F9PjXkF6hmzx6Vf71blbv2qHavE6iVt1/egjyFlZc2O8ZnjEriIlQQH6b8eKv8xAYVJjWoIEEqSHCCdEWkR7YxUb76JNn6JJmGZEWZNMV4U5UYnqHkyAwlR8UrITpcidHhSogKV0J0mFJjndbqoSkxTC3dQ/isT58XfK7Vu1br7d1va0vxFknS0PihOmmI08Vkar+pfbaLSVV9VbOw3BSm86vylVd9YLmpi0Gw2PBYpUenKz0mXenR6cqIyVCYJ0wltSUqqSlRcW2xSmtLVVxTrJLakkC/35bCTFggdCdFJjUP6UHLyVHJToiPTFZseGyfCOfWWuVV5bUa6WN7yXbV+ZwGBI/x6KiEozQqaZRzc2KSc3Pi4PjB8hj+n+puCNoAOl2jz6q8pl5l1Q0qq6lXWXW9SqvrVVFSpto9uWrclyuTt0/egjxFFuYrpqRA8WWFSqosVpiv+Q/nqnCv8uMjVJDgUUGiTwWJ9SpM9AVao4vjJOuJUpRJU5w3XQnh6UqJ7KeM6H7qHztAQxIGaXB8P6XERvkDdLgiwzx94oc2pNyKXGfowN2r9XGuv4tJeLxOHHSi08Vk4EwlRSWFusxvrLqhWgVVBYGw3LLluWm5sr6y1bFR3ihlxGQoPSZdGdEZSotJU0a0fzkmIxCuY8NjO1yPtVbl9eUqrSlVca0TvJsCeMvXwSG93XDuCVNyZHKz1vNWy1HJzdbFhMV063/n5XXl2l6yXVuKtzTr9lFWVxbYJyM6o1UL9YikEYr0RoawchwOgjaAVnw+q4q6BpVW1fuD8oHAXFbToNLqptcHtpVX1spbXKiIonzFlxYovbpE6VXFyqguUXpViTKqixVf37yVrNEYFcdHqighXIUJUn5ivfYn1DVrja6J8igxIlUZ0f00IG6ghsQP1JCEgRoYN1ADYgeof2x/JUQkdOsfqOgequqr9GHuh3p719t6Z/c7KqwplMd4lJme6UyUM+SkbtfFpLaxtlmrc3BLdKAFuipf5fXlrY6N8EQ0C8tNYbopODeF6e7SlcNnfaqorwgE75KakjaDebOQXlsin217JtNwT7gTvKMSA11ZglvJW3ZxSY5MVnRYdKd/FvWN9fqq7KtmXT62Fm9VbmVuYJ/Y8Nhm/ahHJY3SmOQx3GfQCxC0gT7KWqv8ilpt3leuzfvKtTG3XJv3l2lnYZXKaxvU8p95TH2N0quLlVFVovTqYg2uK9OA2lKlV5cotbJICeXF8rT4gVcTE6GypCgVJ3qVl+DTnthq7YtvCITokjgpIjxa/WP7a0DsAA2MG9jqdf+Y/kx+gE7nsz59UfCFVu9erbd3va3NxZslSUPih+ikwSfp5CEnu9rFpL6x3mlpbtEC3bJfdGltaatjwzxhgZAcCM1BLc9N2/rCL6A+61N5XXkggJfWlgZCesuuLE3LBwvnEZ6I5v3M2+viEhTSm8K5tVZ7K/e2CtQ5pTlqsAdmTRyWOOzAeNT+cD0gdkCv/1r1VQRtoA+ormvUlv3l2rSvTJv8wXrTvnIVVR64aXBwlHRCWJnGNpQotbJYCeWFii0pVFRRvsIK8+SprGh2Tuv1qDolVqXJESpIkPbE1mlXTJXy4p2bDAvjpZpIo5SoFA2IHeA84ga0ep0cmcwPGIRcbkWu3tn9TqCLSZ2vTnHhcU4Xk8EnadagWR3qYtLga1BhdWGbLc951XkqqCpQfnV+s1EhmniNV2nRac1Dc9DrplbpxMhE+uJ+A03h/GCt5C27tpTUlgRuOmwpwhOhpKgkVdZXNuuaMzB2YLMuH6OTR2tYwjAaDvoYgjbQizT6rL4urAwE6U37yrR5X7m+LqoKtFAnmwadEF6uzIYiDa/MU0bhHkXu2Slf7t5m56qPj1ZFitMavS++Ubuja7QnrvZAa3Ss5A0LV/+Y/oHW5+DuHANjnXVRYVEh+CSAI1dVX6U1uWsCwwcGdzFp6l5SUFPQqiU6rypPRTVFrQKZx3iUGpXarLU5+HVGTIbSotOUEpVCgO6mGn2NgZbzVl1Z/C3okd7IQEv1qKRRiouIC3XZ6AYI2kAPVeDv9rEx1wnTm/eXa8v+ctXUO38SjWms1XRPqY5pzNWwyj1KK9ir+Nx9iiooCZyjIcwoLz1cO1Otvkpp1O50aW+KE6RrI4wSIhKatT4PjB2o/nH9A69To1MJBujVfNanLwu/DIxisqloU2CbkfMXm5Z9n4P7Q2dEZyglKkVeD5MUAX0RQRvo5qrrGrU1rzzQ5WPjvlJt3l+gopoiecLKFW2LNKZuv8ZVF2lIabH6F5QqI69SKSX1gXPUeaW9qdLuNKNdaUb5/SJVNSRVZuAApcSlKS3aeaRHpystOi0Qrg9nlAGgL9hXuU/5VflKj0lXanRqnx0mEEDHHEnQZm5OwAW19XXasG+P1u3dqY15e/RV8T7trchTaV2h5C1XjK9MQ8pKNLS4UgsL6zWkQBpcYJURdK9UfZhUmBGlglEp2j0kXb5hgxUxcoTih49S//j+mhiVptToVGYEA45Q/9j+6h/bP9RlAOjFCNpAB1lrVVpbqoLqAhXUFKigukCF1YXaXbY/EKSLawpV5SuWzzg30UTWWQ32h+gZBVZHFXg1pFBKLWkInNcX7lX94AyZY4fKjB6lxLETlTzuGEUOHSoTxj9RAAB6Kn6Ko8+rbqgOhOaC6oJmj6Z1+dX5KqwpVIOvodXx1hemyKo4DcyL0LSiMI0qTdKw4lgNLCxXXNGB8XBNRIQiRoxQ5IkjFTl6lCJHjVLEyJGKGDKEQA0AQC/ET3f0So2+RhXXFjshuSrfCc01hW2G6Ir6ilbHGxnFhSUp3CTKNsSrunqYqirHK6IqSoMLGzWstFZH19RpVHmZ+hXtU1Rh3oFjmwL18VMI1AAA9GH81Ee30+hrVGVDpSrrKlVeX67K+kpV1FU4z/UVqqirUEX9geWm7RX1zqOstkzFtcVtTmIQFx6ntGinb/PYlLE6Nuxb8tXHq6o6RsXlkdpbGK6v8zzylRvFlRdoaNl+TWwo1OiqfPUv3qKYovzAuUx4uBOov3WcIkc7YTpy1CgCNQAAkETQRidq8DUEBvlvCsDldeUHlusqA2E4ODi3DNDVDdWHfC8jo9jwWMWGxyo+Il6x4bGB4eviI+KbjbyRGp2qhIgUlZRHKie/3hmTem+53t1XptKiMg0t36+hZbs1tiZf82oKNKgkV7HFbQTq46cTqAEAQIeFJCUYY5ZIulKSlbRB0uWSYiQ9LWmYpBxJ37fWFoeivr6mKSC3FYCbBeWgluXy+vJAcG7a3tGAHBcep9iIWOc5PFYJkQkaGDcwsNz03BSgg/ePC49TXEScosOi2xzz2Vqr3cXVzvB5e8v03r5ybdpXqtx9X2lQ6T4NLduv4ZV5OrsmX0PK9im+pOBAbU2B+gQCNQAA+Oa6PD0YYwZJuk7SBGtttTHmGUkXSJogaZW19k5jzC2SbpH0s66ur6epb6xXUU2RSmpLWnWjaLerRVDLcmV95WEF5LiIA2E4MSpRg+IHBQJwcBiODY9VXERcq+X2AvI39XVhpV5Yt1cvf7pTnu1bNLRsv4aW79esmnxdVL5fiaUHArXCwxU5YoQiJ80gUAMAANeEKlWESYo2xtTLacneK+nnkk72b39M0mr1waBd11inopoiFdcUq7imWIU1hc7r2mIV1RQ121ZUU9TmjXzBPMbTqpU4KSpJg+MHB9Y3BeKmMNxyfVy4E5CNMV30KXRMYUWtXvksVy9k79HnX+Xr2zuz9P9y3lZyU6huCtSTCdQAAKDrdXnasNbuMcbcLWmnpGpJr1trXzfG9LPW5vr3yTXGZLR1vDFmsaTFkjR06NCuKvuINQXnpoDcLCy3EZ7bC85hJkzJUcmBx9FpRyslKkXJkQfWBbcsx4c73S66Y0D+JqrqGvTGl/v1/Lo9endrgSJqq3Vp4Trd9uWbiiwrVtQxxyjl4p8pauLRBGoAABBSoeg6kizpbEnDJZVIetYYc1FHj7fWPiTpIcmZgt2NGg+mtrG2VWBu9VxbpKLqIhXXFquyvrLN8zQF55SoFCVHJWtQ2iClRKUEllMiU5QSfSBIJ0Qk9KrAfDgaGn16d1uBXly3R69/uV9VdY0aHdmguyvXadwHr0rlZYo5/ltK+/GPFTNjRp/9nAAAQPcSiua+b0v6ylqbL0nGmOcknSBpvzFmgL81e4CkvIOdpLPUNNQEwnFwl4w2Q/TBgrMnTCmRKYHwPDh98IHQHPwcmayU6BTFh8cTCA/CWqvsXSV6MXuvXvlsrwoq6pQQFaYLRkRr3pbVinrpRdnqasV9+1SlLV6s6GOOCXXJAAAAzYQiaO+U9C1jTIycriOnSsqSVCnpUkl3+p9fPJKTBwfnplblZn2dW/R9rmqoavM8YZ6wAy3MkckaHD+4eYtz0OvkqGSCcyf5qqBSL6zboxez9yinsEoRYR59e3yGzusvjV39oirueUHW51P8985U2o9+pMjRo0NdMgAAQJtC0Uf7I2PMPyR9KqlB0jo5XUHiJD1jjPmhnDC+8FDn2luxV1evurpZK3R7I2iEe8KVHJWs1KhUJUcla0jCECVHJis1OjXQPSM4PMeFxxGcu0h+ea1e+WyvXli3R+t3l8oY6fgRqfqPk0fp1Kgy1Ty2XGX//KcqvF4lnneuUn/4Q0UMGRLqsgEAAA7KWNvl3Zw7TcLIBHv6705v1T0j+CbBpuXY8FiCczdSWdug17/cp+fX7dX72wrU6LOaMCBB50wZpLMmD1TiV5tU8NDDqnjzTXliYpR0wQVKuexShWe0eY8sAACAq4wxa6210w7rmJ4ctKdNm2azsrJCXQY6qL7Rp3e35uuFdXv1xpf7VV3fqEFJ0Zo/ZaDmZw7SqIw4VX34oQoeelhVa9bIm5io5EsuVsqiRfImJYW6fAAA0IcdSdBm7DO4ylqrT3eW6MXsPXrls1wVVdYpKSZc504dpPlTBunYockysqp4803lPPiQajZsUFh6ujJ+9jMlf3+hPLGxob4EAACAI0LQhiu25VXoxew9ejF7r3YWVSkyzKNvT+in+ZmDdNKYdEWEeWQbGlT2yssqeOgh1W3brvAhQ9T///1KifPnyxMREepLAAAA+EYI2ug0eWU1emn9Xr2YvVcb9pTKY6QTRqbpulNH67Sj+yk+KlyS5KutVfGzz6nwkT+rfs8eRY4erYF3362E009jghkAANBrkGrwjZTX1OtfX+zXi9l79P62AvmsNHFQgv77e+M1b/JAZSREBfZtrKhUydNPqXD5cjXmFyh68mT1+6//UtzJJ8l4PCG8CgAAgM5H0MZhq2vw6Z0t+Xohe4/e+HK/aht8GpISravnjNLZ/psagzUUF6v4b39T0eNPyFdWptgTTlDq3fcoZvpxjAQDAAB6LYI2OsRaq7VfF+v5dXu0ckOuSqrqlRwTru9PG6L5UwZp6tCkVqG5fv9+Ff3lURU/84xsdbXiv/NtpS5erOhJk0J0FQAAAF2HoI2D2rq/XC/4b2rcXVytqHCPvjuhv+ZPGahZo9MV7m3d5aPu669V+MifVfqCM4tj4tzvKfXKK5nFEQAA9CkEbbSyv6xGL2Xv1QvZe/TF3jJ5jDRzdLp++p0x+u7R/RUX2fa3Tc3mzSp86GGVvfqqTFiYkhYuUMoVVyhi8OAuvgIAAIDQI2hDklRWU6/XPt+nF7P36IPthbJWmjw4Ub+cO0FzJw9QRnxUu8dWrVunwgcfUsXq1fLExCj1isuVcumlCktP78IrAAAA6F4I2n1YbUOjVm/O14vZe/TvjXmqa/DpqNQYXXvKaM3PHKgR6XHtHmutVeUHH6jwwYdU9fHH8iYlKe26a51ZHBMTu/AqAAAAuieCdh/j81l9klOkF7L36p8bclVaXa/U2AhdOH2ozs4cqMwhrW9qDGZ9PpWvWqXCBx9SzeefK6xfP/X7+S1KWrhQnpiYLrwSAACA7o2g3Uds3ufc1PhS9l7tKalWdLhXpx3dT2dPGaSZo9LavKkxmK2vV+nKlSp8+BHVbd+u8KFD1f9//p8Szz6bWRwBAADaQNDuxXJLq/VS9l49v26PNu0rl9djNGt0mm46bay+M6GfYtu5qTGYr6ZGJc89p6JH/qz6vXsVOWaMBt5ztxJOYxZHAACAgyEp9TKl1fV6dUOuXsjeo4++KpK1UuaQJN1+1gTNnTxQaXGRHTpPY0WFSp56SoXLH1NjQYGiMzPV79b/VtzJJzPJDAAAQAcQtHuBRp/VG1/u0wvr9urNTXmqa/RpRFqsbjh1jM7OHKhhabEdPlerWRxPPFGp996jmOOYxREAAOBwELR7gdte+lyPr9mptLhILfrWUM3PHKRjBiceVjCu37dPRY8+quJnnvXP4vgd/yyOE12sHAAAoPciaPdwb23K0+NrduryE4fpv84cr7BD3NTYUl1Ojgr//GeVvPCi5PMp8ayzlPqjKxU5cqRLFQMAAPQNBO0erKiyTjf94zON6x+vW84Yd1ghu2bTJhU+9JDKXvuXTFiYkhcu9M/iOMjFigEAAPoOgnYPZa3VL57boLLqev3th9MVGebt0HFVn65T4YMPquLtt+WJjVXqD69QyiWXMIsjAABAJyNo91DPfbpHr32xTz8/Y5zGD0g46L7WWlW+/4EKH3xQVZ98Im9SktKvv07JF17ILI4AAAAuIWj3QLuKqnTbS19o+vAUXTlrRLv7WZ9P5f/+tzOL4xdfOLM4/uLnSlqwgFkcAQAAXEbQ7mEafVb/+ex6SdI9CyfL62k9soitr1fpKytV+PDDqtuxQ+FHDdWAO/5HCfPmMYsjAABAFyFo9zB/fm+HPv6qSHcvnKwhKc1bpX01NSpZsUKFf/6zGvbmKnLcOA269x7Fn3aajLdjfbgBAADQOQjaPcjG3DLd/a8tOu3ofjpv6oHRQXy1tSr6619VtPwxNRYWKnrKFA247TbFzp7NJDMAAAAhQtDuIWobGrXk6WwlRIfrf8+Z1CxA77/zTpU8+ZRiZ85U2o8XK3raNAI2AABAiBG0e4h739iiTfvK9ZfLpik1LjKwvnb7dpU886ySFy1S/1v/O4QVAgAAINjhTSOIkPhoR6EeemeHLpwxVKeM69dsW97d98gTHa20a64OUXUAAABoC0G7myuvqddPn1mvo1Ji9F9njm+2rfKjj1Xx1ltK/fFihSUnh6hCAAAAtIWuI93cr17+Urml1frHT05QbOSBL5f1+ZS3dKnCBg5QysUXh7BCAAAAtIUW7W7stc/36R9rd+vqOaM0dWjzFuuylStV88UXyrjhBnmiokJUIQAAANpD0O6m8spr9IvnN2jSoERdd+roZtt8tbXK++1vFTVhghLmzg1RhQAAADgYgnY3ZK3VLSs2qLK2Qb89f7LCvc2/TMV/+5sa9uYq4+abZTx8CQEAALojUlo39OTHu/Tmpjz9/IxxGpUR32xbQ3GxCpY9qLiTT1bst2aEqEIAAAAcCkG7m8kpqNT/vPKlZo1O0yXHD2u1veBPD8hXXa2Mm27s+uIAAADQYQTtbqSh0aclz2QrIsyjuxZMlsfTfHbHupwcFT/5pJIWLFDkyJEhqhIAAAAdwfB+3cgDq7dr3c4S3feDKeqf2Hokkbx77pUnIkLpTE4DAADQ7dGi3U1s2F2q36/aqnmTB2re5IGttld9+qnK33hDqT+6UmHp6SGoEAAAAIeDoN0N1NQ36oan1yktLlL/c/bEVtuttcr7zVKFZWQo5bLLur5AAAAAHDaCdjdw56ubtD2/UncvnKzEmPBW28v/9S9Vr1+v9Ouvlyc6OgQVAgAA4HARtEPs3a35Wv5Bji4/cZhmjk5rtd1XV6e8e+5V5JgxSpx/dggqBAAAwJHgZsgQKqmq043PrteojDj97PRxbe5T/Pe/q37XLg155BEZr7eLKwQAAMCRokU7hG598QsVVtTpd+dnKiq8dYhuLC1VwQPLFHviiYqbeWIIKgQAAMCRImiHyIvZe/Ty+r264dujNXFQYpv7FCx7UL6yMmXcfFMXVwcAAIBviqAdArml1br1hc81dWiSrjqp7Yln6nbvVvHjjyvx3HMUNXZsF1cIAACAb4qg3cV8Pqsbn12vBp/Vvd/PVJi37S9B/r2/lbxepV93XRdXCAAAgM5A0O5ij32Yo/e3FerWuRM0LC22zX2qP/tMZf/8p1KvuFzh/fp1cYUAAADoDATtLrR1f7nufHWTTh2XoQuOG9LmPtZa7V+6VN7UVKVc8cMurhAAAACdhaDdReoafFryTLZiI8N053nHyBjT5n4Vq1apOmut0q+9Vt64tlu8AQAA0P0xjnYX+cObW/X5njItu+hYpcdHtrmPra9X3t33KGLkSCUtOK+LKwQAAEBnImh3gbVfF+v+t7Zp4bGDdfrE/u3uV/zMM6rLydHgB/4kE8aXBgAAoCej64jLKmsb9NNnsjUwKVq/PGtCu/s1lper4I/3K2bGDMWdfHLXFQgAAABX0GzqsjtWbtTOoio9vfh4xUeFt7tf4cOPqLG4WBk33dRu/20AAAD0HLRou2jVxv168uOdWjx7hKYPT2l3v/rcXBU99pgS5p2l6IlHd2GFAAAAcAtB2yWFFbX62YoNGtc/Xj/9zpiD7pv/u99L1irjhhu6pjgAAAC4jqDtAmutfv7cBpVV1+t3F2QqMszb7r41X36p0pdeUsqllyh84MAurBIAAABuImi74B9rd+v1L/frptPGalz/hHb3cyanuUvexESlLl7chRUCAADAbQTtTrarqEq/evlLfWtEin44c/hB96185x1VrVmjtKuvljc+vosqBAAAQFcgaHeiRp/Vfz6zXkbS3Qsny+Npf/QQ29Cg/XfdpYijjlLy+d/vuiIBAADQJRjerxM9/O4OfZxTpHsWTtbg5JiD7lvy3HOq27Zdg/5wn0xERBdVCAAAgK5Ci3Yn+XJvme55fbPOmNhf504ddNB9fZWVyr/vD4qeOlXx3/52F1UIAACArkSLdieoqW/UT5/JVlJMhH59zqRDTjhT+JdH1VhQoH73/5HJaQAAAHopgnYnuPeNLdq0r1yPXn6cUmIP3g2kfn+eCv/yF8WfcbqiJ0/uogoBAADQ1eg68g19uL1QD7+7Qxd9a6jmjM045P75f7hPtqFBGT/9aRdUBwAAgFAhaH8DZTX1uvHZ9RqWGqtfnDn+kPvXbN6i0ueeV8qFFypiyJAuqBAAAAChQteRb+D2l77QvrIa/eOq4xUTceiPMu/uu+WJi1PaT67qguoAAAAQSrRoH6FXN+TquU/36Oo5ozRlaPIh9694/31Vvvuu0n7yE3mTktwvEAAAACFF0D4CeWU1+sXzG3TM4ERde8qoQ+5vGxuVt/QuhQ8erORFF3ZBhQAAAAg1gvZhstbq5hWfqbq+Ub89P1Ph3kN/hKUvvqTazZuV8dMl8jA5DQAAQJ9A0D5MT3y0U6s35+sXZ47XyPS4Q+7vq65W/u9/r6hjjlH8GWd0QYUAAADoDgjah2FHfoV+vXKjZo9J18XfOqpDxxQ99pga9u9Xv5tvYnIaAACAPoSg3UENjT4teWa9IsI8umvBMR0KzQ0FBSp86GHFf+fbipk2rQuqBAAAQHfB8H4d9KfV27V+V4n+eOEU9UuI6tAx+fffL19dndKZnAYAAKDPoUW7A9bvKtHvV23V/MyBmnvMwA4dU7tjh0qeeVbJ55+vyOHDXa4QAAAA3Q1B+xCq6xq15JlsZcRH6ldnT+zwcXl33yNPdLTSrv4PF6sDAABAd0XQPoQ7X92oHfmVumfhZCVGh3fomMqPP1bFm28qdfFihaWkuFwhAAAAuiOC9kG8vSVfj334tX44c7hOGJXWoWOsz6e8pXcpbMAApVxyscsVAgAAoLsiaLejpKpONz27XqMz4nTTaWM7fFzZyn+q5vPPlXHD9fJEdeymSQAAAPQ+jDrSBmut/uuFz1VcVae/XHacosK9HTrOV1ur/N/+VpETxivhrLNcrhIAAADdGS3abXhp/V6t/CxXN3x7jCYOSuzwccWPP676vXvV7+abZTx8tAAAAH0ZabCFvSXV+u8XPtexRyXrqpNGdvi4huJiFSx7UHEnnaTYb33LxQoBAADQExC0g/h8Vjc+u14+n9Vvv58pr6fjU6YXPPCAfJWVyrjpRhcrBAAAQE9B0A7y6Ac5+mB7oX551gQNTY3p8HF1X3+t4r8/qaQFCxQ5apSLFQIAAKCnIGj7bdlfrt+8tknfHp+h708bcljH5t37W5mICKVfe41L1QEAAKCnIWhLqmvwacnT2YqPDNP/nXuMjOl4l5GqT9ep/F//UuoPr1BYerqLVQIAAKAnYXg/Sb9ftUVf7C3TQxcfq/T4yA4fZ61V3tKlCktPV+rll7tYIQAAAHqaPt+inZVTpAdWb9f504bou0f3P6xjy//1uqqzs5V+/XXyxHS8TzcAAAB6vz4dtCtqG/TTZ9ZrUHK0bj1rwmEda+vqlHfvvYocPVqJ55zjUoUAAADoqfp015E7XvlSu4qr9MyPj1dc5OF9FMVPPaX6nTs15OGHZbwdmzkSAAAAfUefbdF+48v9euqTXbrqpJE6bljKYR3bWFqqgvv/pNgTTlDcrJkuVQgAAICerE8G7YKKWv38uc80fkCClnx7zOEf/+BDaiwrU8bNN7lQHQAAAHqDPtd1xFqrnz+3QWU1DXriykxFhB3e7xp1u/eo+G9/U+L8+YoaN86lKgEAANDT9bkW7WezduuNL/fr5tPGamz/+MM+Pv+3v5W8XqVff50L1QEAAKC36FNBe2dhlX718hc6fkSqrjhx+GEfX71hg8pWrlTK5ZcpvP/hDQUIAACAvqXPBO1Gn9VPn8mWxxjd/f3J8ng6Pvuj5J+c5jdL5U1NVeoPr3SpSgAAAPQWfSZoP/jOdmV9Xaz/N/9oDUqKPuzjK958U1VZWUq/9hp542JdqBAAAAC9SZ8I2l/sLdVv39ii700aoPmZgw77eFtfr7y771HEiBFKWrDAhQoBAADQ2/T6UUdq6hu15OlsJcdE6I75E2XM4XUZkaTiZ59V3VdfafCf/iQT1us/MgAAAHSCXp8a7/7XZm3ZX6HHrpiu5NiIwz6+saJCBX+8XzHTpytuzsmdXh8AAAB6p17ddeSDbQV65L2vdMnxR+mkMelHdI7Chx9RY1GRMm6++YhawwEAANA39dqgXVpdrxufXa8RabH6+Rnjj+gc9bm5Klq+XAlnnaXoiUd3coUAAADozXpt15HbX/pC+8trteInJyg6wntE58j//X2Stcq44fpOrg4AAAC9Xa9s0V75Wa6eX7dH154ySplDko7oHDUbN6r0xReVcsnFCh90+COVAAAAoG/rdUF7f1mN/uuFDZo8JElXzxl1ROew1mr/0qXyJiYqdfHiTq4QAAAAfUGvCtrWWt30j89UU9+o335/ssK9R3Z5le++q6oP1yjtP/5D3oSETq4SAAAAfUGvCtqPr/la72zJ1399b4JGpMcd0TlsQ4Py7rpL4UcNVfIF53dyhQAAAOgres3NkNvzK/Trf27USWPSddGMoUd8npLnn1ft1m0a9Pvfy0Qc/rjbAAAAgNRLWrTrG3366dPZigr3aumCY454vGtfZaXy77tP0VOmKP673+nkKgEAANCX9IoW7fvf2qb1u0v1p0VT1S8h6ojPU/jocjXmFyjjvvuYnAYAAADfSI9v0c7eVaI/vLlN504ZpDMnDTji89Tn5anwz39W/OmnK2bKlE6sEAAAAH1Rjw7aPmu15Ols9U+I0u1nf7OZGwv+8EfZhgZl/HRJJ1UHAACAvqxHdx3ZV1qj4sJK/f3KbykhKvyIz1OzZYtKVqxQysUXKWLokd9ICQAAADTp0S3ahZV1+uGJw3X8yNRvdJ68u++WJy5OqVdd1UmVAQAAoK/r0UE7LjJMN5429hudo/KDD1T5zrtK+/GPFZac3EmVAQAAoK/r0UF7eFqsosK9R3y89fm0/667FT5okJIvWtSJlQEAAKCv69FB+5sqfekl1W7cqPSfLpEnMjLU5QAAAKAX6bNB21ddrfzf/V5RkyYp4cwzQ10OAAAAepk+G7SLHvurGvbtU7+bb2JyGgAAAHS6Phm0GwoLVfjww4o79VTFHHdcqMsBAABAL9Qng3bB/ffLV1OjjP/8z1CXAgAAgF6qzwXt2h1fqfjpZ5R8/vmKHDE81OUAAACglwpJ0DbGJBlj/mGM2WSM2WiMOd4Yk2KMecMYs9X/7Mqg1nn33CNPVJTSrrnajdMDAAAAkkLXov17Sa9Za8dJmixpo6RbJK2y1o6WtMq/3KmqPvlEFatWKXXxYoWlpHT26QEAAICALg/axpgESbMl/VmSrLV11toSSWdLesy/22OS5nfm+1qfT/uX3qWw/v2VcuklnXlqAAAAoJVQtGiPkJQv6VFjzDpjzCPGmFhJ/ay1uZLkf85o62BjzGJjTJYxJis/P7/Db1r2z1dVs2GD0m+4Xp6oqE64DAAAAKB9oQjaYZKmSnrAWjtFUqUOo5uItfYha+00a+209PT0Dh3jq61V/r33KnL8eCXOm3dERQMAAACHIxRBe7ek3dbaj/zL/5ATvPcbYwZIkv85r7PesPjxJ1S/d68zOY2nzw20AgAAgBDo8tRprd0naZcxZqx/1amSvpT0kqRL/esulfRiZ7xfQ3GxCpYtU+xJsxV7/PGdcUoAAADgkMJC9L7XSnrCGBMhaYeky+WE/meMMT+UtFPSws54o8Jly+SrrFS/G2/sjNMBAAAAHRKSoG2tzZY0rY1Np3bm+9Tt3Kmivz+ppPPOU+To0Z15agAAAOCgenWH5bx7fysTHq60a68JdSkAAADoY3pt0K5at07lr72m1CuuUHhGmyMFAgAAAK7plUHbWqu8pXcpLD1dqVdcHupyAAAA0Af1yqBd/vobql63TmnXXStPTEyoywEAAEAf1OuCtq2rU9499yhy9GglnXtuqMsBAABAHxWq4f1cU/zU06rfuVNDHnpQxusNdTkAAADoo3pVi3ZjWZkK7r9fsSccr9hZs0JdDgAAAPqwXhW0Cx96SI1lZcq46SYZY0JdDgAAAPqwXhO063bvUdFf/6bEs89W1PjxoS4HAAAAfVyvCdr5v/udZIzSb7g+1KUAAAAAvSNoV2/4XGWvvKKUyy5TeP/+oS4HAAAA6PlB25mcZqm8KSlK/dGVoS4HAAAAkNQLgnbFW6tV9cknSr/2Gnnj4kJdDgAAACCppwdta5V3112KGD5cSQsWhLoaAAAAIKBHT1jTWFysusoqDf7T/TLh4aEuBwAAAAjo0S3a9Xl5ipk2TXFz5oS6FAAAAKCZHh201dCojJ/dzOQ0AAAA6HZ6dNAOHzpE0ZMmhboMAAAAoJUeHbS9CQmhLgEAAABoU48O2gAAAEB3RdAGAAAAXEDQBgAAAFxA0AYAAABcQNAGAAAAXEDQBgAAAFxA0AYAAABcQNAGAAAAXEDQBgAAAFxA0AYAAABcQNAGAAAAXEDQBgAAAFxA0AYAAABcQNAGAAAAXEDQBgAAAFxA0AYAAABcQNAGAAAAXEDQBgAAAFxA0AYAAABcQNAGAAAAXHDIoG2MmWuMIZADAAAAh6EjAfoCSVuNMUuNMePdLggAAADoDQ4ZtK21F0maImm7pEeNMR8aYxYbY+Jdrw4AAADooTrUJcRaWyZphaSnJA2QdI6kT40x17pYGwAAANBjdaSP9lnGmOclvSkpXNJ0a+0ZkiZLutHl+gAAAIAeKawD+yyU9Ftr7TvBK621VcaYK9wpCwAAAOjZOhK0b5OU27RgjImW1M9am2OtXeVaZQAAAEAP1pE+2s9K8gUtN/rXAQAAAGhHR4J2mLW2rmnB/zrCvZIAAACAnq8jQTvfGDOvacEYc7akAvdKAgAAAHq+jvTRvkrSE8aYP0oyknZJusTVqgAAAIAe7pBB21q7XdK3jDFxkoy1ttz9sgAAAICerSMt2jLGfE/S0ZKijDGSJGvt/3OxLgAAAKBH68iENcsknS/pWjldRxZKOsrlugAAAIAerSM3Q55grb1EUrG19leSjpc0xN2yAAAAgJ6tI0G7xv9cZYwZKKle0nD3SgIAAAB6vo700X7ZGJMk6S5Jn0qykh52sygAAACgpzto0DbGeCStstaWSFphjHlFUpS1trQrigMAAAB6qoN2HbHW+iTdE7RcS8gGAAAADq0jfbRfN8acZ5rG9QMAAABwSB3po/1TSbGSGowxNXKG+LPW2gRXKwMAAAB6sI7MDBnfFYUAAAAAvckhg7YxZnZb662173R+OQAAAEDv0JGuIzcFvY6SNF3SWkmnuFIRAAAA0At0pOvIWcHLxpghkpa6VhEAAADQC3Rk1JGWdkua2NmFAAAAAL1JR/po/0HObJCSE8wzJa13sSYAAACgx+tIH+2soNcNkp601r7vUj0AAABAr9CRoP0PSTXW2kZJMsZ4jTEx1toqd0sDAAAAeq6O9NFeJSk6aDla0r/dKQcAAADoHToStKOstRVNC/7XMe6VBAAAAPR8HQnalcaYqU0LxphjJVW7VxIAAADQ83Wkj/YNkp41xuz1Lw+QdL5rFQEAAAC9QEcmrPnEGDNO0lhJRtIma22965UBAAAAPdghu44YY66WFGut/dxau0FSnDHmP9wvDQAAAOi5OtJH+0fW2pKmBWttsaQfuVYRAAAA0At0JGh7jDGmacEY45UU4V5JAAAAQM/XkZsh/yXpGWPMMjlTsV8l6VVXqwIAAAB6uI4E7Z9JWizpJ3JuhlwnZ+QRAAAAAO04ZNcRa61P0hpJOyRNk3SqpI0u1wUAAAD0aO22aBtjxki6QNIPJBVKelqSrLVzuqY0AAAAoOc6WNeRTZLelXSWtXabJBljlnRJVQAAAEAPd7CuI+dJ2ifpLWPMw8aYU+X00QYAAABwCO0GbWvt89ba8yWNk7Ra0hJJ/YwxDxhjvttF9QEAAAA9Ukduhqy01j5hrZ0rabCkbEm3uF0YAAAA0JN1ZMKaAGttkbX2QWvtKW4VBAAAAPQGhxW0AQAAAHQMQRsAAABwAUEbAAAAcAFBGwAAAHABQRsAAABwAUEbAAAAcAFBGwAAAHABQRsAAABwAUEbAAAAcAFBGwAAAHABQRsAAABwAUEbAAAAcAFBGwAAAHABQRsAAABwAUEbAAAAcAFBGwAAAHABQRsAAABwAUEbAAAAcAFBGwAAAHABQRsAAABwAUEbAAAAcAFBGwAAAHABQRsAAABwAUEbAAAAcAFBGwAAAHABQRsAAABwAUEbAAAAcAFBGwAAAHABQRsAAABwAUEbAAAAcAFBGwAAAHABQRsAAABwAUEbAAAAcAFBGwAAAHABQRsAAABwAUEbAAAAcAFBGwAAAHBByIK2McZrjFlnjHnFv5xijHnDGLPV/5wcqtoAAACAbyqULdrXS9oYtHyLpFXW2tGSVvmXAQAAgB4pJEHbGDNY0vckPRK0+mxJj/lfPyZpfheXBQAAAHSaULVo/07SzZJ8Qev6WWtzJcn/nNHWgcaYxcaYLGNMVn5+vuuFAgAAAEeiy4O2MWaupDxr7dojOd5a+5C1dpq1dlp6enonVwcAAAB0jrAQvOeJkuYZY86UFCUpwRjzuKT9xpgB1tpcY8wASXkhqA0AAADoFF3eom2t/bm1drC1dpikCyS9aa29SNJLki7173appBe7ujYAAACgs3SncbTvlPQdY8xWSd/xLwMAAAA9Uii6jgRYa1dLWu1/XSjp1FDWAwAAAHSW7tSiDQAAAPQaBG0AAADABQRtAAAAwAUEbQAAAMAFBG0AAADABQRtAAAAwAUEbQAAAMAFBG0AAADABQRtAAAAwAUEbQAAAMAFBG0AAADABQRtAAAAwAUEbQAAAMAFBG0AAADABQRtAAAAwAUEbQAAAMAFBG0AAADABQRtAAAAwAUEbQAAAMAFBG0AAADABQRtAAAAwAUEbQAAAMAFBG0AAADABQRtAAAAwAUEbQAAAMAFBG0AAADABQRtAAAAwAUEbQAAAMAFBG0AAADABQRtAAAAwAUEbQAAAMAFBG0AAADABQRtAAAAwAUEbQAAAMAFBG0AAADABQRtAAAAwAUEbQAAAMAFBG0AAADABQRtAAAAwAUEbQAAAMAFBG0AAADABQRtAAAAwAUEbQAAAMAFBG0AAADABQRtAAAAwAUEbQAAAMAFBG0AAADABQRtAAAAwAUEbQAAAMAFBG0AAADABQRtAAAAwAUEbQAAAMAFBG0AAADABQRtAAAAwAUEbQAAAMAFBG0AAADABQRtAAAAwAUEbQAAAMAFBG0AAADABQRtAAAAwAUEbQAAAMAFBG0AAADABQRtAAAAwAUEbQAAAMAFBG0AAADABQRtAAAAwAUEbQAAAMAFBG0AAADABQRtAAAAwAUEbQAAAMAFBG0AAADABQRtAAAAwAUEbQAAAMAFBG0AAADABQRtAAAAwAUEbQAAAMAFBG0AAADABQRtAAAAwAUEbQAAAMAFBG0AAADABQRtAAAAwAUEbQAAAMAFBG0AAADABQRtAAAAwAUEbQAAAMAFBG0AAADABQRtAAAAwAUEbQAAAMAFBG0AAADABQRtAAAAwAUEbQAAAMAFBG0AAADABQRtAAAAwAUEbQAAAMAFBG0AAADABQRtAAAAwAUEbQAAAMAFBG0AAADABQRtAAAAwAUEbQAAAMAFBG0AAADABQRtAAAAwAUEbQAAAMAFBG0AAADABQRtAAAAwAUEbQAAAMAFBG0AAADABQRtAAAAwAUEbQAAAMAFBG0AAADABQRtAAAAwAUEbQAAAMAFBG0AAADABQRtAAAAwAUEbQAAAMAFBG0AAADABQRtAAAAwAUEbQAAAMAFBG0AAADABQRtAAAAwAUEbQAAAMAFXR60jTFDjDFvGWM2GmO+MMZc71+fYox5wxiz1f+c3NW1AQAAAJ0lFC3aDZL+01o7XtK3JF1tjJkg6RZJq6y1oyWt8i8DAAAAPVKXB21rba619lP/63JJGyUNknS2pMf8uz0maX5X1wYAAAB0lpD20TbGDJM0RdJHkvpZa3MlJ4xLymjnmMXGmCxjTFZ+fn6X1QoAAAAcjpAFbWNMnKQVkm6w1pZ19Dhr7UPW2mnW2mnp6enuFQgAAAB8AyEJ2saYcDkh+wlr7XP+1fuNMQP82wdIygtFbQAAAEBnCMWoI0bSnyVttNbeG7TpJUmX+l9fKunFrq4NAAAA6CxhIXjPEyVdLGmDMSbbv+4Xku6U9Iwx5oeSdkpaGILaAAAAgE7R5UHbWvueJNPO5lO7shYAAADALcwMCQAAALiAoA0AAAC4gKANAAAAuICgDQAAALiAoA0AAAC4gKANAAAAuICgDQAAALiAoA0AAAC4gKANAAAAuICgDQAAALiAoA0AAAC4gKANAAAAuICgDQAAALiAoA0AAAC4gKANAAAAuICgDQAAALiAoA0AAAC4gKANAAAAuICgDQAAALiAoA0AAAC4gKANAAAAuICgDQAAALiAoA0AAAC4gKANAAAAuICgDQAAALiAoA0AAAC4gKANAAAAuICgDQAAALiAoA0AAAC4gKANAAAAuICgDQAAALiAoA0AAAC4gKANAAAAuICgDQAAALiAoA0AAAC4gKANAAAAuICgDQAAALiAoA0AAAC4gKANAAAAuICgDQAAALiAoA0AAAC4gKANAAAAuICgDQAAALiAoA0AAAC4gKANAAAAuICgDQAAALiAoA0AAAC4gKANAAAAuICgDQAAALiAoA0AAAC4gKANAAAAuICgDQAAALiAoA0AAAC4gKANAAAAuICgDQAAALiAoA0AAAC4gKANAAAAuCAs1AV0tvr6eu3evVs1NTWhLgUImaioKA0ePFjh4eGhLgUAgD6r1wXt3bt3Kz4+XsOGDZMxJtTlAF3OWqvCwkLt3r1bw4cPD3U5AAD0Wb2u60hNTY1SU1MJ2eizjDFKTU3lrzoAAIRYrwvakgjZ6PP4NwAAQOj1yqANAAAAhBpBu5Pl5ORo4sSJzdbdfvvtuvvuu9s95qWXXtKdd97ZKe+/Zs0azZgxQ5mZmRo/frxuv/32wLbXXntN06dP17hx45SZmanzzz9fO3fulCRddtllGj58uCZPnqwxY8bokksu0Z49ewLHWmt1yimnqKysrEN1nHnmmSopKVFJSYn+9Kc/BdavXr1ac+fO7ZRrXb16tT744INOOVdXWb58ufbu3dtp57vgggu0devWTjsfAADoPATtbmDevHm65ZZbOuVcl156qR566CFlZ2fr888/1/e//31J0ueff65rr71Wjz32mDZt2qTs7GwtWrRIOTk5gWPvuusurV+/Xps3b9aUKVM0Z84c1dXVSZL++c9/avLkyUpISOhQHf/85z+VlJTUKmh3JoK29JOf/ERLly7ttPMBAIDO0+tGHQn2q5e/0Jd7O9YC21ETBibotrOOPuLj77vvPi1btkxhYWGaMGGCnnrqKS1fvlxZWVn64x//qMsuu0wJCQnKysrSvn37tHTpUi1YsEA+n0/XXHON3n77bQ0fPlw+n09XXHGFFixY0Oz8eXl5GjBggCTJ6/VqwoQJkqTf/OY3+sUvfqHx48cH9p03b16bNRpjtGTJEj3//PN69dVXdfbZZ+uJJ57Q4sWLJUlLly5VVFSUrrvuOi1ZskTr16/Xm2++qVWrVunRRx/V448/rmHDhikrK0u33HKLtm/frszMTH3nO9/R9773PVVUVGjBggX6/PPPdeyxx+rxxx+XMUarVq3SjTfeqIaGBh133HF64IEHFBkZGThXWlqasrKydOONN2r58uVatmyZvF6vHn/8cf3hD3/QrFmzAtdw++2366uvvlJubq62bNmie++9V2vWrNGrr76qQYMG6eWXX1Z4ePhB3/PCCy/UW2+9pfr6ej300EP6+c9/rm3btummm27SVVddJcn55eSZZ55RbW2tzjnnHP3qV79STk6OzjjjDM2cOVMffPCBBg0apBdffFErV65UVlaWFi1apOjoaH344YcaP358q2tbvXp1h+ufNWuWLrvsMjU0NCgsrFf/cwYAoMehRbuL3XnnnVq3bp0+++wzLVu2rM19cnNz9d577+mVV14JtHQ/99xzysnJ0YYNG/TII4/oww8/bPPYJUuWaOzYsTrnnHP04IMPBkae+OKLLzR16tTDqnXq1KnatGmTJOn999/XscceK0maPXu23n33XUlSVlaWKioqVF9fr/fee69Z2G263pEjRyo7O1t33XWXJGndunX63e9+py+//FI7duzQ+++/r5qaGl122WV6+umntWHDBjU0NOiBBx5ot7Zhw4bpqquu0pIlS5Sdnd3qfSVp+/btWrlypV588UVddNFFmjNnjjZs2KDo6GitXLnykO85ZMgQffjhh4Ew+49//ENr1qzRL3/5S0nS66+/rq1bt+rjjz9Wdna21q5dq3feeUeStHXrVl199dX64osvlJSUpBUrVmjBggWaNm2annjiCWVnZys6Ovqgn/+h6pckj8ejUaNGaf369Qc9FwAA6Hq9ugnsm7Q8H6n2RntoWn/MMcdo0aJFmj9/vubPn9/mvvPnz5fH49GECRO0f/9+SdJ7772nhQsXyuPxqH///pozZ06bx/7yl7/UokWL9Prrr+vvf/+7nnzySa1evbrZPoWFhTr11FNVVVWlxYsX68Ybb2zzXNbawOuioiLFx8dLko499litXbtW5eXlioyM1NSpU5WVlaV3331X9913X7ufTZPp06dr8ODBkqTMzEzl5OQoPj5ew4cP15gxYyQ5XWDuv/9+3XDDDYc8X3vOOOMMhYeHa9KkSWpsbNTpp58uSZo0aZJycnK0efPmg75nU4v/pEmTVFFRofj4eMXHxysqKkolJSV6/fXX9frrr2vKlCmSpIqKCm3dulVDhw7V8OHDlZmZGfi8grvodFb9TTIyMrR3797AL0IAAKB7oEW7k6Wmpqq4uLjZuqKiIqWlpUmSVq5cqauvvlpr167Vscceq4aGhlbniIyMDLxuCrvBofdQRo4cqZ/85CdatWqV1q9fr8LCQh199NH69NNPAzVmZ2dr8eLFqqioaPc869atC3Q1CQsLk8/nkySFh4dr2LBhevTRR3XCCSdo1qxZeuutt7R9+/ZmXVPaE3x9Xq9XDQ0NB72+4Pc+nLGhm97H4/EoPDw88MuOx+M55Hu2PD645uDjf/7znys7O1vZ2dnatm2bfvjDH7Z7jYd7bYeqv0lNTc0hW8cBAEDXI2h3sri4OA0YMECrVq2S5ITs1157TTNnzpTP59OuXbs0Z84cLV26VCUlJQcNusFmzpypFStWyOfzaf/+/a1aqZusXLkyECC3bt0qr9erpKQk3Xzzzfr1r3+tjRs3Bvatqqpq8xzWWt13333Kzc0NtKKOHTtWO3bsCOwze/Zs3X333Zo9e7ZmzZqlZcuWKTMzs1WLfnx8vMrLyw95fePGjVNOTo62bdsmSfrb3/6mk046SZLTTWTt2rWSpBUrVhz2uY/kPTvitNNO01/+8pfA13DPnj3Ky8s76DEta27v2g7Hli1bdPTRXf/XGwAAcHAEbRf89a9/1R133KHMzEydcsopuu222zRy5Eg1Njbqoosu0qRJkzRlyhQtWbJESUlJHTrneeedp8GDB2vixIn68Y9/rBkzZigxMbHVfn/72980duxYZWZm6uKLL9YTTzwhr9erSZMm6fe//70uueQSjRs3TieeeKI2btyoCy+8MHDsTTfdFBje75NPPtFbb72liIgISdL3vve9ZuF+1qxZys3N1fHHH69+/fopKiqqzX7SqampOvHEEzVx4kTddNNN7V5fVFSUHn30US1cuFCTJk2Sx+MJ3HB422236frrr9esWbPk9XoDx5x11ll6/vnnlZmZGegzfjgO9p4d8d3vflcXXnihjj/+eE2aNEkLFiw4ZPC/7LLLdNVVVykzM1PV1dXtXltH7d+/X9HR0YEbYAEAQPdhDqdLQnczbdo0m5WV1Wzdxo0bO9R9oSeqqKhQXFycCgsLNX36dL3//vvq379/l7x3bm6uLrnkEr3xxhtd8n7omN/+9rdKSEgIdFkJ1pv/LQAA0NWMMWuttdMO55hefTNkbzN37lyVlJSorq5Ot956a5eFbEkaMGCAfvSjH6msrKzDY2nDfUlJSbr44otDXQYAAGgDQbsHaa9fdldpmvwG3cfll18e6hIAAEA76KMNAAAAuICgDQAAALiAoA0AAAC4gKANAAAAuICg3clycnI0ceLEZutuv/123X333e0e89JLL+nOO+/slPdfs2aNZsyYoczMTI0fP1633357YNtrr72m6dOna9y4ccrMzNT555+vnTt3SnLGdx4+fHhgHO1LLrlEe/bsCRxrrdUpp5yisrKyDtVx5plnqqSkRCUlJfrTn/4UWL969WrNnTu3U641FP73f/+3085VV1en2bNntztrJAAA6NkI2t3AvHnzdMstt3TKuS699FI99NBDys7O1ueffx4YKeTzzz/Xtddeq8cee0ybNm1Sdna2Fi1apJycnMCxd911l9avX6/NmzdrypQpmjNnjurq6iRJ//znPzV58uQOD+33z3/+U0lJSa2Cdk/XmUE7IiJCp556qp5++ulOOycAAOg+enfQfvUW6dHvde7j1W8WiO+77z5NmDBBxxxzjC644AJJ0vLly3XNNddIclqWr7vuOp1wwgkaMWKE/vGPf0iSfD6f/uM//kNHH3205s6dqzPPPDOwLVheXl5glkCv16sJEyZIkn7zm9/oF7/4RbMJTObNm6fZs2e3OocxRkuWLFH//v316quvSpKeeOIJnX322ZKkpUuX6r777pMkLVmyRKeccookadWqVbroooskOVOLFxQU6JZbbtH27duVmZkZmBmyoqJCCxYs0Lhx47Ro0SK1NWnSySefrCVLlmj27NkaP368PvnkE5177rkaPXq0/vu//zuw37333quJEydq4sSJ+t3vfifJ+avCuHHjdOWVV2rixIlatGiR/v3vf+vEE0/U6NGj9fHHH0uSKisrdcUVV+i4447TlClT9OKLLwa+Hueee65OP/10jR49WjfffLMk6ZZbblF1dbUyMzMDv6QE//Xi7rvvDvwFoaP1z58/X0888USr6wcAAD1f7w7a3dCdd96pdevW6bPPPtOyZcva3Cc3N1fvvfeeXnnllUBL93PPPaecnBxt2LBBjzzyiD788MM2j12yZInGjh2rc845Rw8++KBqamokSV988YWmTp16WLVOnTpVmzZtkiS9//77OvbYYyVJs2fPDkx5npWVpYqKCtXX1+u9995rNQ37nXfeqZEjRyo7O1t33XWXJGndunX63e9+py+//FI7duzQ+++/3+b7R0RE6J133tFVV12ls88+W/fff78+//xzLV++XIWFhVq7dq0effRRffTRR1qzZo0efvhhrVu3TpK0bds2XX/99frss8+0adMm/f3vf9d7772nu+++O9Aq/etf/1qnnHJKYLr5m266SZWVlZKk7OxsPf3009qwYYOefvpp7dq1S3feeaeio6OVnZ3doXB8qPolaeLEifrkk08O6+sCAAB6ht49Yc0ZndPv+XAYYw66/phjjtGiRYs0f/58zZ8/v81958+fL4/HowkTJmj//v2SpPfee08LFy6Ux+NR//79NWfOnDaP/eUvf6lFixbp9ddf19///nc9+eSTrSa6KSws1KmnnqqqqiotXrxYN954Y5vnCm5pLioqUnx8vCTp2GOP1dq1a1VeXq7IyEhNnTpVWVlZevfddwMt3Qczffp0DR48WJKUmZmpnJwczZw5s9V+8+bNkyRNmjRJRx99dKClfsSIEdq1a5fee+89nXPOOYqNjZUknXvuuXr33Xc1b948DR8+XJMmTZIkHX300Tr11FNljNGkSZMC3WVef/11vfTSS4H+8zU1NYE+66eeeqoSExMlSRMmTNDXX3+tIUOGHPLaDqf+1NRUeb1eRUREqLy8PPD5AgCA3oEW7U6Wmpqq4uLiZuuKioqUlpYmSVq5cqWuvvpqrV27Vscee2ybN8JFRkYGXjeF3ba6V7Rn5MiR+slPfqJVq1Zp/fr1Kiws1NFHH61PP/00UGN2drYWL16sioqKds+zbt26QFeTsLAw+Xw+SVJ4eLiGDRumRx99VCeccIJmzZqlt956S9u3b2/WNaU9wdfn9XrbvRmwaT+Px9PsGI/Ho4aGhoN+Ji33Dz5X0/tZa7VixQplZ2crOztbO3fuDNTfkRqDPxNJgb8edLT+JrW1tYqKimr3WgAAQM9E0O5kcXFxGjBggFatWiXJCdmvvfaaZs6cKZ/Pp127dmnOnDlaunSpSkpKDhp0g82cOVMrVqyQz+fT/v37252OfeXKlYEAunXrVnm9XiUlJenmm2/Wr3/9a23cuDGwb1VVVZvnsNbqvvvuU25urk4//XRJ0tixY7Vjx47APrNnz9bdd9+t2bNna9asWVq2bJkyMzNbtejHx8ervLy8Q9d4uGbPnq0XXnhBVVVVqqys1PPPP9+q68rBnHbaafrDH/4Q+Lyaup0cTHh4uOrr6yVJ/fr1U15engoLC1VbW6tXXnnlsK+hsLBQ6enpCg8PP+xjAQBA90bQdsFf//pX3XHHHcrMzNQpp5yi2267TSNHjlRjY6MuuugiTZo0SVOmTNGSJUuUlJTUoXOed955Gjx4sCZOnKgf//jHmjFjRqBrQ7C//e1vGjt2rDIzM3XxxRfriSeekNfr1aRJk/T73/9el1xyicaNG6cTTzxRGzdu1IUXXhg49qabbgoM79fUbzkiIkKS9L3vfa9ZuJ81a5Zyc3N1/PHHq1+/foqKimoz5KampurEE0/UxIkTAzdDdpapU6fqsssu0/Tp0zVjxgxdeeWVmjJlSoePv/XWW1VfX69jjjlGEydO1K233nrIYxYvXhzo/hMeHq5f/vKXmjFjhubOnatx48Yd9jW89dZbOvPMMw/7OAAA0P2Zw+mS0N1MmzbNZmVlNVu3cePGDnVf6IkqKioUFxenwsJCTZ8+Xe+//7769+/fJe+dm5urSy65RG+88UaXvF9fce655+r//u//NHbs2E4/d2/+twAAQFczxqy11k47nGN6982QvczcuXNVUlKiuro63XrrrV0WsiVpwIAB+tGPfqSysrIOj6WNg6urq9P8+fNdCdkAACD0CNo9SHv9srtK0+Q36BwRERG65JJLQl0GAABwCX20AQAAABcQtAEAAAAXELQBAAAAFxC0AQAAABcQtDtZTk6OJk6c2Gzd7bffHpjmuy0vvfSS7ryz86aLb2hoUFpamn7+85+3u8/y5ct1zTXXdNp7AgAAoDmCdjcwb9483XLLLZ12vtdff11jx47VM888c1hTtwMAAKDz9Orh/X7z8W+0qWhTp55zXMo4/Wz6z474+Pvuu0/Lli1TWFiYJkyYoKeeekrLly9XVlaW/vjHP+qyyy5TQkKCsrKytG/fPi1dulQLFiyQz+fTNddco7ffflvDhw+Xz+fTFVdcoQULFrR6jyeffFLXX3+9HnjgAa1Zs0bHH3+8JOnRRx/V//3f/2nAgAEaM2aMIiMjJUkvv/yy7rjjDtXV1Sk1NVVPPPGE+vXrp9tvv11fffWVcnNztWXLFt17771as2aNXn31VQ0aNEgvv/wyU4cDAAC0gxbtLnbnnXdq3bp1+uyzz7Rs2bI298nNzdV7772nV155JdDS/dxzzyknJ0cbNmzQI488og8//LDNY6urq7Vq1SrNnTtXP/jBD/Tkk08Gznnbbbfp/fff1xtvvKEvv/wycMzMmTO1Zs0arVu3ThdccIGWLl0a2LZ9+3atXLlSL774oi666CLNmTNHGzZsUHR0tFauXNlZHwsAAECv06tbtL9Jy/ORMsYcdP0xxxyjRYsWaf78+Zo/f36b+86fP18ej0cTJkzQ/v37JUnvvfeeFi5cKI/Ho/79+2vOnDltHvvKK69ozpw5iomJ0Xnnnaf/+Z//0W9/+1t99NFHOvnkk5Weni5JOv/887VlyxZJ0u7du3X++ecrNzdXdXV1Gj58eOB8Z5xxhsLDwzVp0iQ1Njbq9NNPlyRNmjRJOTk5h/35AAAA9BW0aHey1NRUFRcXN1tXVFSktLQ0SdLKlSt19dVXa+3atTr22GPV0NDQ6hxNXTokBfpYd7Sv9ZNPPql///vfGjZsmI499lgVFhbqrbfektT+LwHXXnutrrnmGm3YsEEPPvigampqWtXi8XgUHh4eOIfH42mzdgAAADgI2p0sLi5OAwYM0KpVqyQ5Ifu1117TzJkz5fP5tGvXLs2ZM0dLly5VSUmJKioqOnTemTNnasWKFfL5fNq/f3+b07GXlZXpvffe086dO5WTk6OcnBzdf//9evLJJzVjxgytXr1ahYWFqq+v17PPPhs4rrS0VIMGDZIkPfbYY9/8QwAAAABB2w1//etfdccddygzM1OnnHKKbrvtNo0cOVKNjY266KKLNGnSJE2ZMkVLlixRUlJSh8553nnnafDgwZo4caJ+/OMfa8aMGUpMTGy2z3PPPadTTjmlWYv42WefrZdeekkpKSm6/fbbdfzxx+vb3/62pk6dGtjn9ttv18KFCzVr1qxAyzsAAAC+GdOTh3+bNm2azcrKarZu48aNGj9+fIgqcldFRYXi4uJUWFio6dOn6/3331f//v1DXRa6qd78bwEAgK5mjFlrrZ12OMf06pshe5u5c+eqpKREdXV1uvXWWwnZAAAA3RhBuwdpq182AAAAuif6aAMAAAAuIGgDAAAALiBoAwAAAC4gaAMAAAAuIGh3spycHE2cOLHZuttvv1133313u8e89NJLuvPOOzvl/S+77DINHz5ckydP1pgxY3TJJZdoz549nXLuI7F69Wp98MEHbW5bvny5rrnmmi6uCAAAoGsQtLuBefPm6ZZbbum08911111av369Nm/erClTpmjOnDmqq6trtV9jY2OnvWd7Dha03cYU8QAAIJR69fB++/73f1W7cVOnnjNy/Dj1/8Uvjvj4++67T8uWLVNYWJgmTJigp556SsuXL1dWVpb++Mc/6rLLLlNCQoKysrK0b98+LV26VAsWLJDP59M111yjt99+W8OHD5fP59MVV1yhBQsWtPtexhgtWbJEzz//vF599VWdffbZiouL009/+lP961//0j333KOPP/5Yf/nLXyRJV155pW644Qbl5OTo9NNP14wZM7Ru3TqNGTNGf/3rXxUTE6NVq1bpxhtvVENDg4477jg98MADioyM1LBhw5SVlaW0tDRlZWXpxhtv1PLly7Vs2TJ5vV49/vjj+sMf/qBZs2a1WevLL7+sO+64Q3V1dUpNTdUTTzyh9PR0jR07Vh988IHS09Pl8/k0ZswYrVmzRtZaXXXVVdq5c6ck6Xe/+51OPPFE3X777dq7d69ycnKUlpam//qv/9Lll1+uuro6+Xw+rVixQqNHjz7irx8AAEBH0aLdxe68806tW7dOn332mZYtW9bmPrm5uXrvvff0yiuvBFq6n3vuOeXk5GjDhg165JFH9OGHH3b4PadOnapNm5xfOCorKzVx4kR99NFHio6O1qOPPqqPPvpIa9as0cMPP6x169ZJkjZv3qzFixfrs88+U0JCgv70pz+ppqZGl112mZ5++mlt2LBBDQ0NeuCBB9p932HDhumqq67SkiVLlJ2d3W7IlqSZM2dqzZo1WrdunS644AItXbpUHo9HF110kZ544glJ0r///W9NnjxZaWlpuv7667VkyRJ98sknWrFiha688srAudauXasXX3xRf//737Vs2TJdf/31ys7OVlZWlgYPHtzhzw0AAOCb6NUt2t+k5flIGWMOuv6YY47RokWLNH/+fM2fP7/NfefPny+Px6MJEyZo//79kqT33ntPCxculMfjUf/+/TVnzpwO12StDbz2er0677zzAuc855xzFBsbK0k699xz9e6772revHkaMmSITjzxREnSRRddpPvuu0/f+c53NHz4cI0ZM0aSdOmll+r+++/XDTfc0OFa2rN7926df/75ys3NVV1dnYYPHy5JuuKKK3T22Wfrhhtu0F/+8hddfvnlkpzQ/eWXXwaOLysrU3l5uSSnK050dLQk6fjjj9evf/1r7d69W+eeey6t2QAAoMvQot3JUlNTVVxc3GxdUVGR0tLSJEkrV67U1VdfrbVr1+rYY49tsx9xZGRk4HVTSA4Oy4dr3bp1Gj9+vCQpKipKXq/3kOds+QuDMeag+4eFhcnn80mSampqDrvGa6+9Vtdcc402bNigBx98MHCOIUOGqF+/fnrzzTf10Ucf6YwzzpAk+Xw+ffjhh8rOzlZ2drb27Nmj+Ph4SQr84iBJF154oV566SVFR0frtNNO05tvvnnYtQEAABwJgnYni4uL04ABA7Rq1SpJTsh+7bXXNHPmTPl8Pu3atUtz5szR0qVLVVJSooqKig6dd+bMmVqxYoV8Pp/279/foenYrbW67777lJubq9NPP73V9tmzZ+uFF15QVVWVKisr9fzzzwe6d+zcuTPQPeXJJ5/UzJkzNW7cOOXk5Gjbtm2SpL/97W866aSTJDndRNauXStJWrFiReA94uPjAy3NB1NaWqpBgwZJkh577LFm26688kpddNFF+v73vx/4JeG73/2u/vjHPwb2yc7ObvO8O3bs0IgRI3Tddddp3rx5+uyzzw5ZCwAAQGcgaLvgr3/9q+644w5lZmbqlFNO0W233aaRI0eqsbFRF110kSZNmqQpU6ZoyZIlSkpK6tA5zzvvPA0ePFgTJ07Uj3/8Y82YMUOJiYlt7nvTTTcFhvf75JNP9NZbbykiIqLVflOnTtVll12m6dOna8aMGbryyis1ZcoUSdL48eP12GOP6ZhjjlFRUZF+8pOfKCoqSo8++qgWLlyoSZMmyePx6KqrrpIk3Xbbbbr++us1a9asQBiWpLPOOkvPP/+8MjMz9e6777Z7fbfffrsWLlyoWbNmBVr/m8ybN08VFRWBbiOSc1NpVlaWjjnmGE2YMKHd/u5PP/20Jk6cqMzMTG3atEmXXHJJuzUAAAB0JvNNuiSE2rRp02xWVlazdRs3bgx0k+htKioqFBcXp8LCQk2fPl3vv/+++vfv3+nvk5OTo7lz5+rzzz/v9HMfiaysLC1ZsuSgQR2t9eZ/CwAAdDVjzFpr7bTDOaZX3wzZ28ydO1clJSWqq6vTrbfe6krI7m7uvPNOPfDAA4GRRwAAAHoKWrSBXop/CwAAdJ4jadHulX20e/IvD0Bn4N8AAACh1+uCdlRUlAoLCwka6LOstSosLFRUVFSoSwEAoE/rdX20Bw8erN27dys/Pz/UpQAhExUVxSyYAACEWK8L2uHh4YFZBQEAAIBQ6XZdR4wxpxtjNhtjthljbgl1PQAAAMCR6FZB2xjjlXS/pDMkTZD0A2PMhNBWBQAAABy+bhW0JU2XtM1au8NaWyfpKUlnh7gmAAAA4LB1tz7agyTtClreLWlG8A7GmMWSFvsXa40x3WP6QnQnaZIKQl0Euh2+L9AWvi/QFr4v0Jaxh3tAdwvapo11zcbps9Y+JOkhSTLGZB3uwOHo/fi+QFv4vkBb+L5AW/i+QFuMMVmH3qu57tZ1ZLekIUHLgyXtDVEtAAAAwBHrbkH7E0mjjTHDjTERki6Q9FKIawIAAAAOW7fqOmKtbTDGXCPpX5K8kv5irf3iIIc81DWVoYfh+wJt4fsCbeH7Am3h+wJtOezvC8NU5QAAAEDn625dRwAAAIBegaANAAAAuKDHBm2makdLxpghxpi3jDEbjTFfGGOuD3VN6B6MMV5jzDpjzCuhrgXdhzEmyRjzD2PMJv//G8eHuiaEljFmif/nx+fGmCeNMVGhrgmhYYz5izEmL3i+FmNMijHmDWPMVv9z8qHO0yODNlO1ox0Nkv7TWjte0rckXc33Bfyul7Qx1EWg2/m9pNesteMkTRbfI32aMWaQpOskTbPWTpQzKMMFoa0KIbRc0ukt1t0iaZW1drSkVf7lg+qRQVtM1Y42WGtzrbWf+l+Xy/mhOSi0VSHUjDGDJX1P0iOhrgXdhzEmQdJsSX+WJGttnbW2JKRFoTsIkxRtjAmTFCPm8uizrLXvSCpqsfps/f/27ifEqjKM4/j3l0mYUkGSGFZTJC2CSouI3IS2KyqIsKgQcZOLrE32Z9OmRUGUiBJUFIZShJm1CDEsgigMLPtnOxMzxhwXJkaI2NPinqkxZ7gSXs69M98PHM5737nnnedsZp773PfeBzY04w3APd3WGdREe7xW7SZU+keSIWABsLPlUNS+NcBq4K+W41B/uQoYAd5sthW9nmRm20GpPVX1K/AisB8YBn6vqu3tRqU+M6eqhqFT3AMu6XbBoCbaXVu1a+pKMgt4D3i8qo62HY/ak+RO4FBV7Wo7FvWdc4GFwCtVtQD4gzN4G1iTV7Pf9m7gSuBSYGaSh9qNSoNuUBNtW7VrXEmm00myN1XVlrbjUesWAXcl2Udni9niJBvbDUl94gBwoKpG3/XaTCfx1tR1O/BzVY1U1QlgC3BryzGpv/yWZC5Acz7U7YJBTbRt1a7TJAmd/ZY/VdVLbcej9lXV01U1r6qG6Pyd+KSqrFCJqjoI/JLkmmZqCbCnxZDUvv3ALUnOb/6fLMEPyOpUHwLLmvEy4INuF/RVC/Yz9T9atWtqWAQ8DHyfZHcz90xVfdReSJL62KPApqZgsxdY3nI8alFV7UyyGfiazrdYfYOt2KesJG8DtwGzkxwAngWeB95NsoLOC7P7uq5jC3ZJkiTp7BvUrSOSJElSXzPRliRJknrARFuSJEnqARNtSZIkqQdMtCVJkqQeMNGWpAGS5GSS3WOOs9bNMMlQkh/O1nqSNNUN5PdoS9IU9mdV3dB2EJKk7qxoS9IkkGRfkheSfNUcVzfzVyTZkeS75nx5Mz8nyftJvm2O0VbT05K8luTHJNuTzGievyrJnmadd1q6TUkaKCbakjRYZvxn68jSMT87WlU3A+uANc3cOuCtqroO2ASsbebXAp9V1fXAQmC0u+58YH1VXQscAe5t5p8CFjTrPNKbW5OkycXOkJI0QJIcq6pZ48zvAxZX1d4k04GDVXVxksPA3Ko60cwPV9XsJCPAvKo6PmaNIeDjqprfPH4SmF5VzyXZBhwDtgJbq+pYj29VkgaeFW1JmjxqgvFEzxnP8THjk/z7WZ47gPXAjcCuJH7GR5K6MNGWpMlj6Zjzl834C+D+Zvwg8Hkz3gGsBEgyLckFEy2a5Bzgsqr6FFgNXAScVlWXJJ3KioQkDZYZSXaPebytqka/4u+8JDvpFFEeaOZWAW8keQIYAZY3848BryZZQadyvRIYnuB3TgM2JrkQCPByVR05S/cjSZOWe7QlaRJo9mjfVFWH245FktTh1hFJkiSpB6xoS5IkST1gRVuSJEnqARNtSZIkqQdMtCVJkqQeMNGWJEmSesBEW5IkSeqBvwG+anbLu/4wQgAAAABJRU5ErkJggg==\n",
      "text/plain": [
       "<Figure size 864x864 with 1 Axes>"
      ]
     },
     "metadata": {
      "needs_background": "light"
     },
     "output_type": "display_data"
    }
   ],
   "source": [
    "plt.figure(figsize=(12,12))\n",
    "plt.plot(accuracy_list_dnn,label='Using SGD(without momentum)')\n",
    "plt.plot(accuracy_list_momentum,label='Using SGD(with momentum)')\n",
    "plt.plot(accuracy_list_adam,label='Using Adam')\n",
    "plt.plot(accuracy_list_drop,label='Using Dropout layers')\n",
    "plt.title(\"Accuracies for different networks\")\n",
    "plt.xlabel(\"Epochs\")\n",
    "plt.ylabel(\"Accuracy\")\n",
    "plt.xlim((0,10))\n",
    "plt.ylim((0,100))\n",
    "plt.legend()\n",
    "plt.show()"
   ]
  }
 ],
 "metadata": {
  "colab": {
   "collapsed_sections": [],
   "provenance": []
  },
  "kernelspec": {
   "display_name": "Python 3 (ipykernel)",
   "language": "python",
   "name": "python3"
  },
  "language_info": {
   "codemirror_mode": {
    "name": "ipython",
    "version": 3
   },
   "file_extension": ".py",
   "mimetype": "text/x-python",
   "name": "python",
   "nbconvert_exporter": "python",
   "pygments_lexer": "ipython3",
   "version": "3.9.12"
  },
  "widgets": {
   "application/vnd.jupyter.widget-state+json": {
    "0264d5386cc543c6a8517c74a685cb41": {
     "model_module": "@jupyter-widgets/controls",
     "model_module_version": "1.5.0",
     "model_name": "HBoxModel",
     "state": {
      "_dom_classes": [],
      "_model_module": "@jupyter-widgets/controls",
      "_model_module_version": "1.5.0",
      "_model_name": "HBoxModel",
      "_view_count": null,
      "_view_module": "@jupyter-widgets/controls",
      "_view_module_version": "1.5.0",
      "_view_name": "HBoxView",
      "box_style": "",
      "children": [
       "IPY_MODEL_70665105a5b741729bf796b5efde4087",
       "IPY_MODEL_adab188eae71417182bda39bfc7cca0f",
       "IPY_MODEL_1641e62d39c540e1b653b7eed0c3c81e"
      ],
      "layout": "IPY_MODEL_dd431c1cc1704c50ad1ee48fb7f70131"
     }
    },
    "0361e2700fef42c195660d34eeacd591": {
     "model_module": "@jupyter-widgets/controls",
     "model_module_version": "1.5.0",
     "model_name": "HTMLModel",
     "state": {
      "_dom_classes": [],
      "_model_module": "@jupyter-widgets/controls",
      "_model_module_version": "1.5.0",
      "_model_name": "HTMLModel",
      "_view_count": null,
      "_view_module": "@jupyter-widgets/controls",
      "_view_module_version": "1.5.0",
      "_view_name": "HTMLView",
      "description": "",
      "description_tooltip": null,
      "layout": "IPY_MODEL_4585114f65f54b829c54af950fb962cf",
      "placeholder": "​",
      "style": "IPY_MODEL_6ef834a877b7450f8912b9ba1246492c",
      "value": " 28881/28881 [00:00&lt;00:00, 578439.74it/s]"
     }
    },
    "0b7920d07fd8442e9d55b58c4a905ee1": {
     "model_module": "@jupyter-widgets/controls",
     "model_module_version": "1.5.0",
     "model_name": "FloatProgressModel",
     "state": {
      "_dom_classes": [],
      "_model_module": "@jupyter-widgets/controls",
      "_model_module_version": "1.5.0",
      "_model_name": "FloatProgressModel",
      "_view_count": null,
      "_view_module": "@jupyter-widgets/controls",
      "_view_module_version": "1.5.0",
      "_view_name": "ProgressView",
      "bar_style": "success",
      "description": "",
      "description_tooltip": null,
      "layout": "IPY_MODEL_2e27beecb2d34599bc661bac119ca18b",
      "max": 4542,
      "min": 0,
      "orientation": "horizontal",
      "style": "IPY_MODEL_131847510fbe4c4ca3f114650d83ebbe",
      "value": 4542
     }
    },
    "1157636a525a4f71afd8f0e814fe7bbd": {
     "model_module": "@jupyter-widgets/controls",
     "model_module_version": "1.5.0",
     "model_name": "HTMLModel",
     "state": {
      "_dom_classes": [],
      "_model_module": "@jupyter-widgets/controls",
      "_model_module_version": "1.5.0",
      "_model_name": "HTMLModel",
      "_view_count": null,
      "_view_module": "@jupyter-widgets/controls",
      "_view_module_version": "1.5.0",
      "_view_name": "HTMLView",
      "description": "",
      "description_tooltip": null,
      "layout": "IPY_MODEL_7f3dabde89fa4e2fbda87db84e852046",
      "placeholder": "​",
      "style": "IPY_MODEL_4fa9450ed11a407fa625694772ff2eb3",
      "value": " 1648877/1648877 [00:00&lt;00:00, 4412946.30it/s]"
     }
    },
    "131847510fbe4c4ca3f114650d83ebbe": {
     "model_module": "@jupyter-widgets/controls",
     "model_module_version": "1.5.0",
     "model_name": "ProgressStyleModel",
     "state": {
      "_model_module": "@jupyter-widgets/controls",
      "_model_module_version": "1.5.0",
      "_model_name": "ProgressStyleModel",
      "_view_count": null,
      "_view_module": "@jupyter-widgets/base",
      "_view_module_version": "1.2.0",
      "_view_name": "StyleView",
      "bar_color": null,
      "description_width": ""
     }
    },
    "1641e62d39c540e1b653b7eed0c3c81e": {
     "model_module": "@jupyter-widgets/controls",
     "model_module_version": "1.5.0",
     "model_name": "HTMLModel",
     "state": {
      "_dom_classes": [],
      "_model_module": "@jupyter-widgets/controls",
      "_model_module_version": "1.5.0",
      "_model_name": "HTMLModel",
      "_view_count": null,
      "_view_module": "@jupyter-widgets/controls",
      "_view_module_version": "1.5.0",
      "_view_name": "HTMLView",
      "description": "",
      "description_tooltip": null,
      "layout": "IPY_MODEL_74783531182344ad8c6a8166a072dbb7",
      "placeholder": "​",
      "style": "IPY_MODEL_35f6adf729a74bcc844339c899b42c48",
      "value": " 9912422/9912422 [00:00&lt;00:00, 7887602.73it/s]"
     }
    },
    "2a42e551ce16448fbde18268a0a38620": {
     "model_module": "@jupyter-widgets/controls",
     "model_module_version": "1.5.0",
     "model_name": "FloatProgressModel",
     "state": {
      "_dom_classes": [],
      "_model_module": "@jupyter-widgets/controls",
      "_model_module_version": "1.5.0",
      "_model_name": "FloatProgressModel",
      "_view_count": null,
      "_view_module": "@jupyter-widgets/controls",
      "_view_module_version": "1.5.0",
      "_view_name": "ProgressView",
      "bar_style": "success",
      "description": "",
      "description_tooltip": null,
      "layout": "IPY_MODEL_f0ab105850f6412eaec5f1305f63de08",
      "max": 28881,
      "min": 0,
      "orientation": "horizontal",
      "style": "IPY_MODEL_e51e91b32d2f47ac8e41c8e4f7e53ad1",
      "value": 28881
     }
    },
    "2d3d18afcd094e6fb18959ba7175a4ea": {
     "model_module": "@jupyter-widgets/controls",
     "model_module_version": "1.5.0",
     "model_name": "DescriptionStyleModel",
     "state": {
      "_model_module": "@jupyter-widgets/controls",
      "_model_module_version": "1.5.0",
      "_model_name": "DescriptionStyleModel",
      "_view_count": null,
      "_view_module": "@jupyter-widgets/base",
      "_view_module_version": "1.2.0",
      "_view_name": "StyleView",
      "description_width": ""
     }
    },
    "2e27beecb2d34599bc661bac119ca18b": {
     "model_module": "@jupyter-widgets/base",
     "model_module_version": "1.2.0",
     "model_name": "LayoutModel",
     "state": {
      "_model_module": "@jupyter-widgets/base",
      "_model_module_version": "1.2.0",
      "_model_name": "LayoutModel",
      "_view_count": null,
      "_view_module": "@jupyter-widgets/base",
      "_view_module_version": "1.2.0",
      "_view_name": "LayoutView",
      "align_content": null,
      "align_items": null,
      "align_self": null,
      "border": null,
      "bottom": null,
      "display": null,
      "flex": null,
      "flex_flow": null,
      "grid_area": null,
      "grid_auto_columns": null,
      "grid_auto_flow": null,
      "grid_auto_rows": null,
      "grid_column": null,
      "grid_gap": null,
      "grid_row": null,
      "grid_template_areas": null,
      "grid_template_columns": null,
      "grid_template_rows": null,
      "height": null,
      "justify_content": null,
      "justify_items": null,
      "left": null,
      "margin": null,
      "max_height": null,
      "max_width": null,
      "min_height": null,
      "min_width": null,
      "object_fit": null,
      "object_position": null,
      "order": null,
      "overflow": null,
      "overflow_x": null,
      "overflow_y": null,
      "padding": null,
      "right": null,
      "top": null,
      "visibility": null,
      "width": null
     }
    },
    "35f6adf729a74bcc844339c899b42c48": {
     "model_module": "@jupyter-widgets/controls",
     "model_module_version": "1.5.0",
     "model_name": "DescriptionStyleModel",
     "state": {
      "_model_module": "@jupyter-widgets/controls",
      "_model_module_version": "1.5.0",
      "_model_name": "DescriptionStyleModel",
      "_view_count": null,
      "_view_module": "@jupyter-widgets/base",
      "_view_module_version": "1.2.0",
      "_view_name": "StyleView",
      "description_width": ""
     }
    },
    "37fe6d5d6a5e4afcbfa458a47c19b64b": {
     "model_module": "@jupyter-widgets/base",
     "model_module_version": "1.2.0",
     "model_name": "LayoutModel",
     "state": {
      "_model_module": "@jupyter-widgets/base",
      "_model_module_version": "1.2.0",
      "_model_name": "LayoutModel",
      "_view_count": null,
      "_view_module": "@jupyter-widgets/base",
      "_view_module_version": "1.2.0",
      "_view_name": "LayoutView",
      "align_content": null,
      "align_items": null,
      "align_self": null,
      "border": null,
      "bottom": null,
      "display": null,
      "flex": null,
      "flex_flow": null,
      "grid_area": null,
      "grid_auto_columns": null,
      "grid_auto_flow": null,
      "grid_auto_rows": null,
      "grid_column": null,
      "grid_gap": null,
      "grid_row": null,
      "grid_template_areas": null,
      "grid_template_columns": null,
      "grid_template_rows": null,
      "height": null,
      "justify_content": null,
      "justify_items": null,
      "left": null,
      "margin": null,
      "max_height": null,
      "max_width": null,
      "min_height": null,
      "min_width": null,
      "object_fit": null,
      "object_position": null,
      "order": null,
      "overflow": null,
      "overflow_x": null,
      "overflow_y": null,
      "padding": null,
      "right": null,
      "top": null,
      "visibility": null,
      "width": null
     }
    },
    "400a1218b6344b1d868abb270dadda92": {
     "model_module": "@jupyter-widgets/base",
     "model_module_version": "1.2.0",
     "model_name": "LayoutModel",
     "state": {
      "_model_module": "@jupyter-widgets/base",
      "_model_module_version": "1.2.0",
      "_model_name": "LayoutModel",
      "_view_count": null,
      "_view_module": "@jupyter-widgets/base",
      "_view_module_version": "1.2.0",
      "_view_name": "LayoutView",
      "align_content": null,
      "align_items": null,
      "align_self": null,
      "border": null,
      "bottom": null,
      "display": null,
      "flex": null,
      "flex_flow": null,
      "grid_area": null,
      "grid_auto_columns": null,
      "grid_auto_flow": null,
      "grid_auto_rows": null,
      "grid_column": null,
      "grid_gap": null,
      "grid_row": null,
      "grid_template_areas": null,
      "grid_template_columns": null,
      "grid_template_rows": null,
      "height": null,
      "justify_content": null,
      "justify_items": null,
      "left": null,
      "margin": null,
      "max_height": null,
      "max_width": null,
      "min_height": null,
      "min_width": null,
      "object_fit": null,
      "object_position": null,
      "order": null,
      "overflow": null,
      "overflow_x": null,
      "overflow_y": null,
      "padding": null,
      "right": null,
      "top": null,
      "visibility": null,
      "width": null
     }
    },
    "4585114f65f54b829c54af950fb962cf": {
     "model_module": "@jupyter-widgets/base",
     "model_module_version": "1.2.0",
     "model_name": "LayoutModel",
     "state": {
      "_model_module": "@jupyter-widgets/base",
      "_model_module_version": "1.2.0",
      "_model_name": "LayoutModel",
      "_view_count": null,
      "_view_module": "@jupyter-widgets/base",
      "_view_module_version": "1.2.0",
      "_view_name": "LayoutView",
      "align_content": null,
      "align_items": null,
      "align_self": null,
      "border": null,
      "bottom": null,
      "display": null,
      "flex": null,
      "flex_flow": null,
      "grid_area": null,
      "grid_auto_columns": null,
      "grid_auto_flow": null,
      "grid_auto_rows": null,
      "grid_column": null,
      "grid_gap": null,
      "grid_row": null,
      "grid_template_areas": null,
      "grid_template_columns": null,
      "grid_template_rows": null,
      "height": null,
      "justify_content": null,
      "justify_items": null,
      "left": null,
      "margin": null,
      "max_height": null,
      "max_width": null,
      "min_height": null,
      "min_width": null,
      "object_fit": null,
      "object_position": null,
      "order": null,
      "overflow": null,
      "overflow_x": null,
      "overflow_y": null,
      "padding": null,
      "right": null,
      "top": null,
      "visibility": null,
      "width": null
     }
    },
    "4fa9450ed11a407fa625694772ff2eb3": {
     "model_module": "@jupyter-widgets/controls",
     "model_module_version": "1.5.0",
     "model_name": "DescriptionStyleModel",
     "state": {
      "_model_module": "@jupyter-widgets/controls",
      "_model_module_version": "1.5.0",
      "_model_name": "DescriptionStyleModel",
      "_view_count": null,
      "_view_module": "@jupyter-widgets/base",
      "_view_module_version": "1.2.0",
      "_view_name": "StyleView",
      "description_width": ""
     }
    },
    "56ccc8ca1f684bd69d428b2aebfbe06a": {
     "model_module": "@jupyter-widgets/controls",
     "model_module_version": "1.5.0",
     "model_name": "DescriptionStyleModel",
     "state": {
      "_model_module": "@jupyter-widgets/controls",
      "_model_module_version": "1.5.0",
      "_model_name": "DescriptionStyleModel",
      "_view_count": null,
      "_view_module": "@jupyter-widgets/base",
      "_view_module_version": "1.2.0",
      "_view_name": "StyleView",
      "description_width": ""
     }
    },
    "5d89bb2fb7f445b887a2fb7502b790dc": {
     "model_module": "@jupyter-widgets/base",
     "model_module_version": "1.2.0",
     "model_name": "LayoutModel",
     "state": {
      "_model_module": "@jupyter-widgets/base",
      "_model_module_version": "1.2.0",
      "_model_name": "LayoutModel",
      "_view_count": null,
      "_view_module": "@jupyter-widgets/base",
      "_view_module_version": "1.2.0",
      "_view_name": "LayoutView",
      "align_content": null,
      "align_items": null,
      "align_self": null,
      "border": null,
      "bottom": null,
      "display": null,
      "flex": null,
      "flex_flow": null,
      "grid_area": null,
      "grid_auto_columns": null,
      "grid_auto_flow": null,
      "grid_auto_rows": null,
      "grid_column": null,
      "grid_gap": null,
      "grid_row": null,
      "grid_template_areas": null,
      "grid_template_columns": null,
      "grid_template_rows": null,
      "height": null,
      "justify_content": null,
      "justify_items": null,
      "left": null,
      "margin": null,
      "max_height": null,
      "max_width": null,
      "min_height": null,
      "min_width": null,
      "object_fit": null,
      "object_position": null,
      "order": null,
      "overflow": null,
      "overflow_x": null,
      "overflow_y": null,
      "padding": null,
      "right": null,
      "top": null,
      "visibility": null,
      "width": null
     }
    },
    "6181def79c3042ee8bb731515ece986a": {
     "model_module": "@jupyter-widgets/controls",
     "model_module_version": "1.5.0",
     "model_name": "DescriptionStyleModel",
     "state": {
      "_model_module": "@jupyter-widgets/controls",
      "_model_module_version": "1.5.0",
      "_model_name": "DescriptionStyleModel",
      "_view_count": null,
      "_view_module": "@jupyter-widgets/base",
      "_view_module_version": "1.2.0",
      "_view_name": "StyleView",
      "description_width": ""
     }
    },
    "6347b56bdead429ea4a81d3965a68ca4": {
     "model_module": "@jupyter-widgets/base",
     "model_module_version": "1.2.0",
     "model_name": "LayoutModel",
     "state": {
      "_model_module": "@jupyter-widgets/base",
      "_model_module_version": "1.2.0",
      "_model_name": "LayoutModel",
      "_view_count": null,
      "_view_module": "@jupyter-widgets/base",
      "_view_module_version": "1.2.0",
      "_view_name": "LayoutView",
      "align_content": null,
      "align_items": null,
      "align_self": null,
      "border": null,
      "bottom": null,
      "display": null,
      "flex": null,
      "flex_flow": null,
      "grid_area": null,
      "grid_auto_columns": null,
      "grid_auto_flow": null,
      "grid_auto_rows": null,
      "grid_column": null,
      "grid_gap": null,
      "grid_row": null,
      "grid_template_areas": null,
      "grid_template_columns": null,
      "grid_template_rows": null,
      "height": null,
      "justify_content": null,
      "justify_items": null,
      "left": null,
      "margin": null,
      "max_height": null,
      "max_width": null,
      "min_height": null,
      "min_width": null,
      "object_fit": null,
      "object_position": null,
      "order": null,
      "overflow": null,
      "overflow_x": null,
      "overflow_y": null,
      "padding": null,
      "right": null,
      "top": null,
      "visibility": null,
      "width": null
     }
    },
    "6613f08172274199a53bb638b7b6b30f": {
     "model_module": "@jupyter-widgets/base",
     "model_module_version": "1.2.0",
     "model_name": "LayoutModel",
     "state": {
      "_model_module": "@jupyter-widgets/base",
      "_model_module_version": "1.2.0",
      "_model_name": "LayoutModel",
      "_view_count": null,
      "_view_module": "@jupyter-widgets/base",
      "_view_module_version": "1.2.0",
      "_view_name": "LayoutView",
      "align_content": null,
      "align_items": null,
      "align_self": null,
      "border": null,
      "bottom": null,
      "display": null,
      "flex": null,
      "flex_flow": null,
      "grid_area": null,
      "grid_auto_columns": null,
      "grid_auto_flow": null,
      "grid_auto_rows": null,
      "grid_column": null,
      "grid_gap": null,
      "grid_row": null,
      "grid_template_areas": null,
      "grid_template_columns": null,
      "grid_template_rows": null,
      "height": null,
      "justify_content": null,
      "justify_items": null,
      "left": null,
      "margin": null,
      "max_height": null,
      "max_width": null,
      "min_height": null,
      "min_width": null,
      "object_fit": null,
      "object_position": null,
      "order": null,
      "overflow": null,
      "overflow_x": null,
      "overflow_y": null,
      "padding": null,
      "right": null,
      "top": null,
      "visibility": null,
      "width": null
     }
    },
    "6ef834a877b7450f8912b9ba1246492c": {
     "model_module": "@jupyter-widgets/controls",
     "model_module_version": "1.5.0",
     "model_name": "DescriptionStyleModel",
     "state": {
      "_model_module": "@jupyter-widgets/controls",
      "_model_module_version": "1.5.0",
      "_model_name": "DescriptionStyleModel",
      "_view_count": null,
      "_view_module": "@jupyter-widgets/base",
      "_view_module_version": "1.2.0",
      "_view_name": "StyleView",
      "description_width": ""
     }
    },
    "70665105a5b741729bf796b5efde4087": {
     "model_module": "@jupyter-widgets/controls",
     "model_module_version": "1.5.0",
     "model_name": "HTMLModel",
     "state": {
      "_dom_classes": [],
      "_model_module": "@jupyter-widgets/controls",
      "_model_module_version": "1.5.0",
      "_model_name": "HTMLModel",
      "_view_count": null,
      "_view_module": "@jupyter-widgets/controls",
      "_view_module_version": "1.5.0",
      "_view_name": "HTMLView",
      "description": "",
      "description_tooltip": null,
      "layout": "IPY_MODEL_6613f08172274199a53bb638b7b6b30f",
      "placeholder": "​",
      "style": "IPY_MODEL_2d3d18afcd094e6fb18959ba7175a4ea",
      "value": "100%"
     }
    },
    "71bf0e2dbefa4a208b93c0491f4c4791": {
     "model_module": "@jupyter-widgets/controls",
     "model_module_version": "1.5.0",
     "model_name": "HTMLModel",
     "state": {
      "_dom_classes": [],
      "_model_module": "@jupyter-widgets/controls",
      "_model_module_version": "1.5.0",
      "_model_name": "HTMLModel",
      "_view_count": null,
      "_view_module": "@jupyter-widgets/controls",
      "_view_module_version": "1.5.0",
      "_view_name": "HTMLView",
      "description": "",
      "description_tooltip": null,
      "layout": "IPY_MODEL_37fe6d5d6a5e4afcbfa458a47c19b64b",
      "placeholder": "​",
      "style": "IPY_MODEL_56ccc8ca1f684bd69d428b2aebfbe06a",
      "value": "100%"
     }
    },
    "74783531182344ad8c6a8166a072dbb7": {
     "model_module": "@jupyter-widgets/base",
     "model_module_version": "1.2.0",
     "model_name": "LayoutModel",
     "state": {
      "_model_module": "@jupyter-widgets/base",
      "_model_module_version": "1.2.0",
      "_model_name": "LayoutModel",
      "_view_count": null,
      "_view_module": "@jupyter-widgets/base",
      "_view_module_version": "1.2.0",
      "_view_name": "LayoutView",
      "align_content": null,
      "align_items": null,
      "align_self": null,
      "border": null,
      "bottom": null,
      "display": null,
      "flex": null,
      "flex_flow": null,
      "grid_area": null,
      "grid_auto_columns": null,
      "grid_auto_flow": null,
      "grid_auto_rows": null,
      "grid_column": null,
      "grid_gap": null,
      "grid_row": null,
      "grid_template_areas": null,
      "grid_template_columns": null,
      "grid_template_rows": null,
      "height": null,
      "justify_content": null,
      "justify_items": null,
      "left": null,
      "margin": null,
      "max_height": null,
      "max_width": null,
      "min_height": null,
      "min_width": null,
      "object_fit": null,
      "object_position": null,
      "order": null,
      "overflow": null,
      "overflow_x": null,
      "overflow_y": null,
      "padding": null,
      "right": null,
      "top": null,
      "visibility": null,
      "width": null
     }
    },
    "75e6c0f1756d420ea2ebb962235a0424": {
     "model_module": "@jupyter-widgets/controls",
     "model_module_version": "1.5.0",
     "model_name": "HBoxModel",
     "state": {
      "_dom_classes": [],
      "_model_module": "@jupyter-widgets/controls",
      "_model_module_version": "1.5.0",
      "_model_name": "HBoxModel",
      "_view_count": null,
      "_view_module": "@jupyter-widgets/controls",
      "_view_module_version": "1.5.0",
      "_view_name": "HBoxView",
      "box_style": "",
      "children": [
       "IPY_MODEL_b9c112655c624c3c840e21a1ffdf5ed7",
       "IPY_MODEL_7ad821623921425c8cd400673e42cc23",
       "IPY_MODEL_1157636a525a4f71afd8f0e814fe7bbd"
      ],
      "layout": "IPY_MODEL_a404c3ce1eaa4301a914e6dacca6c2b7"
     }
    },
    "7ad821623921425c8cd400673e42cc23": {
     "model_module": "@jupyter-widgets/controls",
     "model_module_version": "1.5.0",
     "model_name": "FloatProgressModel",
     "state": {
      "_dom_classes": [],
      "_model_module": "@jupyter-widgets/controls",
      "_model_module_version": "1.5.0",
      "_model_name": "FloatProgressModel",
      "_view_count": null,
      "_view_module": "@jupyter-widgets/controls",
      "_view_module_version": "1.5.0",
      "_view_name": "ProgressView",
      "bar_style": "success",
      "description": "",
      "description_tooltip": null,
      "layout": "IPY_MODEL_d6a2be5f44804f00b24a1ab9fc1ed549",
      "max": 1648877,
      "min": 0,
      "orientation": "horizontal",
      "style": "IPY_MODEL_d3241ed9486943149bf9386dafbed4fa",
      "value": 1648877
     }
    },
    "7c5489b9aee141d1aef469e791144af2": {
     "model_module": "@jupyter-widgets/base",
     "model_module_version": "1.2.0",
     "model_name": "LayoutModel",
     "state": {
      "_model_module": "@jupyter-widgets/base",
      "_model_module_version": "1.2.0",
      "_model_name": "LayoutModel",
      "_view_count": null,
      "_view_module": "@jupyter-widgets/base",
      "_view_module_version": "1.2.0",
      "_view_name": "LayoutView",
      "align_content": null,
      "align_items": null,
      "align_self": null,
      "border": null,
      "bottom": null,
      "display": null,
      "flex": null,
      "flex_flow": null,
      "grid_area": null,
      "grid_auto_columns": null,
      "grid_auto_flow": null,
      "grid_auto_rows": null,
      "grid_column": null,
      "grid_gap": null,
      "grid_row": null,
      "grid_template_areas": null,
      "grid_template_columns": null,
      "grid_template_rows": null,
      "height": null,
      "justify_content": null,
      "justify_items": null,
      "left": null,
      "margin": null,
      "max_height": null,
      "max_width": null,
      "min_height": null,
      "min_width": null,
      "object_fit": null,
      "object_position": null,
      "order": null,
      "overflow": null,
      "overflow_x": null,
      "overflow_y": null,
      "padding": null,
      "right": null,
      "top": null,
      "visibility": null,
      "width": null
     }
    },
    "7f3dabde89fa4e2fbda87db84e852046": {
     "model_module": "@jupyter-widgets/base",
     "model_module_version": "1.2.0",
     "model_name": "LayoutModel",
     "state": {
      "_model_module": "@jupyter-widgets/base",
      "_model_module_version": "1.2.0",
      "_model_name": "LayoutModel",
      "_view_count": null,
      "_view_module": "@jupyter-widgets/base",
      "_view_module_version": "1.2.0",
      "_view_name": "LayoutView",
      "align_content": null,
      "align_items": null,
      "align_self": null,
      "border": null,
      "bottom": null,
      "display": null,
      "flex": null,
      "flex_flow": null,
      "grid_area": null,
      "grid_auto_columns": null,
      "grid_auto_flow": null,
      "grid_auto_rows": null,
      "grid_column": null,
      "grid_gap": null,
      "grid_row": null,
      "grid_template_areas": null,
      "grid_template_columns": null,
      "grid_template_rows": null,
      "height": null,
      "justify_content": null,
      "justify_items": null,
      "left": null,
      "margin": null,
      "max_height": null,
      "max_width": null,
      "min_height": null,
      "min_width": null,
      "object_fit": null,
      "object_position": null,
      "order": null,
      "overflow": null,
      "overflow_x": null,
      "overflow_y": null,
      "padding": null,
      "right": null,
      "top": null,
      "visibility": null,
      "width": null
     }
    },
    "804e6ab5f17e4f8699d1068c5f5c1590": {
     "model_module": "@jupyter-widgets/controls",
     "model_module_version": "1.5.0",
     "model_name": "ProgressStyleModel",
     "state": {
      "_model_module": "@jupyter-widgets/controls",
      "_model_module_version": "1.5.0",
      "_model_name": "ProgressStyleModel",
      "_view_count": null,
      "_view_module": "@jupyter-widgets/base",
      "_view_module_version": "1.2.0",
      "_view_name": "StyleView",
      "bar_color": null,
      "description_width": ""
     }
    },
    "80abc6f63104466dacfd11f31cd468cd": {
     "model_module": "@jupyter-widgets/controls",
     "model_module_version": "1.5.0",
     "model_name": "HBoxModel",
     "state": {
      "_dom_classes": [],
      "_model_module": "@jupyter-widgets/controls",
      "_model_module_version": "1.5.0",
      "_model_name": "HBoxModel",
      "_view_count": null,
      "_view_module": "@jupyter-widgets/controls",
      "_view_module_version": "1.5.0",
      "_view_name": "HBoxView",
      "box_style": "",
      "children": [
       "IPY_MODEL_daf4706e8e3c427c96552fe4ef6420ec",
       "IPY_MODEL_0b7920d07fd8442e9d55b58c4a905ee1",
       "IPY_MODEL_cdfd60038dd74f97964f3fd05f7677ba"
      ],
      "layout": "IPY_MODEL_d42cd5dd7c774d2bbf658b732e8d0902"
     }
    },
    "9873c85dcb3b45039a2788390bbcb006": {
     "model_module": "@jupyter-widgets/controls",
     "model_module_version": "1.5.0",
     "model_name": "DescriptionStyleModel",
     "state": {
      "_model_module": "@jupyter-widgets/controls",
      "_model_module_version": "1.5.0",
      "_model_name": "DescriptionStyleModel",
      "_view_count": null,
      "_view_module": "@jupyter-widgets/base",
      "_view_module_version": "1.2.0",
      "_view_name": "StyleView",
      "description_width": ""
     }
    },
    "a1dfbfe1e02541059c34e30010838be1": {
     "model_module": "@jupyter-widgets/controls",
     "model_module_version": "1.5.0",
     "model_name": "DescriptionStyleModel",
     "state": {
      "_model_module": "@jupyter-widgets/controls",
      "_model_module_version": "1.5.0",
      "_model_name": "DescriptionStyleModel",
      "_view_count": null,
      "_view_module": "@jupyter-widgets/base",
      "_view_module_version": "1.2.0",
      "_view_name": "StyleView",
      "description_width": ""
     }
    },
    "a31f211cfdaa4b67be1c51cd24f39006": {
     "model_module": "@jupyter-widgets/base",
     "model_module_version": "1.2.0",
     "model_name": "LayoutModel",
     "state": {
      "_model_module": "@jupyter-widgets/base",
      "_model_module_version": "1.2.0",
      "_model_name": "LayoutModel",
      "_view_count": null,
      "_view_module": "@jupyter-widgets/base",
      "_view_module_version": "1.2.0",
      "_view_name": "LayoutView",
      "align_content": null,
      "align_items": null,
      "align_self": null,
      "border": null,
      "bottom": null,
      "display": null,
      "flex": null,
      "flex_flow": null,
      "grid_area": null,
      "grid_auto_columns": null,
      "grid_auto_flow": null,
      "grid_auto_rows": null,
      "grid_column": null,
      "grid_gap": null,
      "grid_row": null,
      "grid_template_areas": null,
      "grid_template_columns": null,
      "grid_template_rows": null,
      "height": null,
      "justify_content": null,
      "justify_items": null,
      "left": null,
      "margin": null,
      "max_height": null,
      "max_width": null,
      "min_height": null,
      "min_width": null,
      "object_fit": null,
      "object_position": null,
      "order": null,
      "overflow": null,
      "overflow_x": null,
      "overflow_y": null,
      "padding": null,
      "right": null,
      "top": null,
      "visibility": null,
      "width": null
     }
    },
    "a404c3ce1eaa4301a914e6dacca6c2b7": {
     "model_module": "@jupyter-widgets/base",
     "model_module_version": "1.2.0",
     "model_name": "LayoutModel",
     "state": {
      "_model_module": "@jupyter-widgets/base",
      "_model_module_version": "1.2.0",
      "_model_name": "LayoutModel",
      "_view_count": null,
      "_view_module": "@jupyter-widgets/base",
      "_view_module_version": "1.2.0",
      "_view_name": "LayoutView",
      "align_content": null,
      "align_items": null,
      "align_self": null,
      "border": null,
      "bottom": null,
      "display": null,
      "flex": null,
      "flex_flow": null,
      "grid_area": null,
      "grid_auto_columns": null,
      "grid_auto_flow": null,
      "grid_auto_rows": null,
      "grid_column": null,
      "grid_gap": null,
      "grid_row": null,
      "grid_template_areas": null,
      "grid_template_columns": null,
      "grid_template_rows": null,
      "height": null,
      "justify_content": null,
      "justify_items": null,
      "left": null,
      "margin": null,
      "max_height": null,
      "max_width": null,
      "min_height": null,
      "min_width": null,
      "object_fit": null,
      "object_position": null,
      "order": null,
      "overflow": null,
      "overflow_x": null,
      "overflow_y": null,
      "padding": null,
      "right": null,
      "top": null,
      "visibility": null,
      "width": null
     }
    },
    "aac041a8118f43b4a0ff7d4e4646dc23": {
     "model_module": "@jupyter-widgets/controls",
     "model_module_version": "1.5.0",
     "model_name": "HBoxModel",
     "state": {
      "_dom_classes": [],
      "_model_module": "@jupyter-widgets/controls",
      "_model_module_version": "1.5.0",
      "_model_name": "HBoxModel",
      "_view_count": null,
      "_view_module": "@jupyter-widgets/controls",
      "_view_module_version": "1.5.0",
      "_view_name": "HBoxView",
      "box_style": "",
      "children": [
       "IPY_MODEL_71bf0e2dbefa4a208b93c0491f4c4791",
       "IPY_MODEL_2a42e551ce16448fbde18268a0a38620",
       "IPY_MODEL_0361e2700fef42c195660d34eeacd591"
      ],
      "layout": "IPY_MODEL_7c5489b9aee141d1aef469e791144af2"
     }
    },
    "adab188eae71417182bda39bfc7cca0f": {
     "model_module": "@jupyter-widgets/controls",
     "model_module_version": "1.5.0",
     "model_name": "FloatProgressModel",
     "state": {
      "_dom_classes": [],
      "_model_module": "@jupyter-widgets/controls",
      "_model_module_version": "1.5.0",
      "_model_name": "FloatProgressModel",
      "_view_count": null,
      "_view_module": "@jupyter-widgets/controls",
      "_view_module_version": "1.5.0",
      "_view_name": "ProgressView",
      "bar_style": "success",
      "description": "",
      "description_tooltip": null,
      "layout": "IPY_MODEL_5d89bb2fb7f445b887a2fb7502b790dc",
      "max": 9912422,
      "min": 0,
      "orientation": "horizontal",
      "style": "IPY_MODEL_804e6ab5f17e4f8699d1068c5f5c1590",
      "value": 9912422
     }
    },
    "b9c112655c624c3c840e21a1ffdf5ed7": {
     "model_module": "@jupyter-widgets/controls",
     "model_module_version": "1.5.0",
     "model_name": "HTMLModel",
     "state": {
      "_dom_classes": [],
      "_model_module": "@jupyter-widgets/controls",
      "_model_module_version": "1.5.0",
      "_model_name": "HTMLModel",
      "_view_count": null,
      "_view_module": "@jupyter-widgets/controls",
      "_view_module_version": "1.5.0",
      "_view_name": "HTMLView",
      "description": "",
      "description_tooltip": null,
      "layout": "IPY_MODEL_a31f211cfdaa4b67be1c51cd24f39006",
      "placeholder": "​",
      "style": "IPY_MODEL_9873c85dcb3b45039a2788390bbcb006",
      "value": "100%"
     }
    },
    "cdfd60038dd74f97964f3fd05f7677ba": {
     "model_module": "@jupyter-widgets/controls",
     "model_module_version": "1.5.0",
     "model_name": "HTMLModel",
     "state": {
      "_dom_classes": [],
      "_model_module": "@jupyter-widgets/controls",
      "_model_module_version": "1.5.0",
      "_model_name": "HTMLModel",
      "_view_count": null,
      "_view_module": "@jupyter-widgets/controls",
      "_view_module_version": "1.5.0",
      "_view_name": "HTMLView",
      "description": "",
      "description_tooltip": null,
      "layout": "IPY_MODEL_6347b56bdead429ea4a81d3965a68ca4",
      "placeholder": "​",
      "style": "IPY_MODEL_a1dfbfe1e02541059c34e30010838be1",
      "value": " 4542/4542 [00:00&lt;00:00, 96578.18it/s]"
     }
    },
    "d3241ed9486943149bf9386dafbed4fa": {
     "model_module": "@jupyter-widgets/controls",
     "model_module_version": "1.5.0",
     "model_name": "ProgressStyleModel",
     "state": {
      "_model_module": "@jupyter-widgets/controls",
      "_model_module_version": "1.5.0",
      "_model_name": "ProgressStyleModel",
      "_view_count": null,
      "_view_module": "@jupyter-widgets/base",
      "_view_module_version": "1.2.0",
      "_view_name": "StyleView",
      "bar_color": null,
      "description_width": ""
     }
    },
    "d42cd5dd7c774d2bbf658b732e8d0902": {
     "model_module": "@jupyter-widgets/base",
     "model_module_version": "1.2.0",
     "model_name": "LayoutModel",
     "state": {
      "_model_module": "@jupyter-widgets/base",
      "_model_module_version": "1.2.0",
      "_model_name": "LayoutModel",
      "_view_count": null,
      "_view_module": "@jupyter-widgets/base",
      "_view_module_version": "1.2.0",
      "_view_name": "LayoutView",
      "align_content": null,
      "align_items": null,
      "align_self": null,
      "border": null,
      "bottom": null,
      "display": null,
      "flex": null,
      "flex_flow": null,
      "grid_area": null,
      "grid_auto_columns": null,
      "grid_auto_flow": null,
      "grid_auto_rows": null,
      "grid_column": null,
      "grid_gap": null,
      "grid_row": null,
      "grid_template_areas": null,
      "grid_template_columns": null,
      "grid_template_rows": null,
      "height": null,
      "justify_content": null,
      "justify_items": null,
      "left": null,
      "margin": null,
      "max_height": null,
      "max_width": null,
      "min_height": null,
      "min_width": null,
      "object_fit": null,
      "object_position": null,
      "order": null,
      "overflow": null,
      "overflow_x": null,
      "overflow_y": null,
      "padding": null,
      "right": null,
      "top": null,
      "visibility": null,
      "width": null
     }
    },
    "d6a2be5f44804f00b24a1ab9fc1ed549": {
     "model_module": "@jupyter-widgets/base",
     "model_module_version": "1.2.0",
     "model_name": "LayoutModel",
     "state": {
      "_model_module": "@jupyter-widgets/base",
      "_model_module_version": "1.2.0",
      "_model_name": "LayoutModel",
      "_view_count": null,
      "_view_module": "@jupyter-widgets/base",
      "_view_module_version": "1.2.0",
      "_view_name": "LayoutView",
      "align_content": null,
      "align_items": null,
      "align_self": null,
      "border": null,
      "bottom": null,
      "display": null,
      "flex": null,
      "flex_flow": null,
      "grid_area": null,
      "grid_auto_columns": null,
      "grid_auto_flow": null,
      "grid_auto_rows": null,
      "grid_column": null,
      "grid_gap": null,
      "grid_row": null,
      "grid_template_areas": null,
      "grid_template_columns": null,
      "grid_template_rows": null,
      "height": null,
      "justify_content": null,
      "justify_items": null,
      "left": null,
      "margin": null,
      "max_height": null,
      "max_width": null,
      "min_height": null,
      "min_width": null,
      "object_fit": null,
      "object_position": null,
      "order": null,
      "overflow": null,
      "overflow_x": null,
      "overflow_y": null,
      "padding": null,
      "right": null,
      "top": null,
      "visibility": null,
      "width": null
     }
    },
    "daf4706e8e3c427c96552fe4ef6420ec": {
     "model_module": "@jupyter-widgets/controls",
     "model_module_version": "1.5.0",
     "model_name": "HTMLModel",
     "state": {
      "_dom_classes": [],
      "_model_module": "@jupyter-widgets/controls",
      "_model_module_version": "1.5.0",
      "_model_name": "HTMLModel",
      "_view_count": null,
      "_view_module": "@jupyter-widgets/controls",
      "_view_module_version": "1.5.0",
      "_view_name": "HTMLView",
      "description": "",
      "description_tooltip": null,
      "layout": "IPY_MODEL_400a1218b6344b1d868abb270dadda92",
      "placeholder": "​",
      "style": "IPY_MODEL_6181def79c3042ee8bb731515ece986a",
      "value": "100%"
     }
    },
    "dd431c1cc1704c50ad1ee48fb7f70131": {
     "model_module": "@jupyter-widgets/base",
     "model_module_version": "1.2.0",
     "model_name": "LayoutModel",
     "state": {
      "_model_module": "@jupyter-widgets/base",
      "_model_module_version": "1.2.0",
      "_model_name": "LayoutModel",
      "_view_count": null,
      "_view_module": "@jupyter-widgets/base",
      "_view_module_version": "1.2.0",
      "_view_name": "LayoutView",
      "align_content": null,
      "align_items": null,
      "align_self": null,
      "border": null,
      "bottom": null,
      "display": null,
      "flex": null,
      "flex_flow": null,
      "grid_area": null,
      "grid_auto_columns": null,
      "grid_auto_flow": null,
      "grid_auto_rows": null,
      "grid_column": null,
      "grid_gap": null,
      "grid_row": null,
      "grid_template_areas": null,
      "grid_template_columns": null,
      "grid_template_rows": null,
      "height": null,
      "justify_content": null,
      "justify_items": null,
      "left": null,
      "margin": null,
      "max_height": null,
      "max_width": null,
      "min_height": null,
      "min_width": null,
      "object_fit": null,
      "object_position": null,
      "order": null,
      "overflow": null,
      "overflow_x": null,
      "overflow_y": null,
      "padding": null,
      "right": null,
      "top": null,
      "visibility": null,
      "width": null
     }
    },
    "e51e91b32d2f47ac8e41c8e4f7e53ad1": {
     "model_module": "@jupyter-widgets/controls",
     "model_module_version": "1.5.0",
     "model_name": "ProgressStyleModel",
     "state": {
      "_model_module": "@jupyter-widgets/controls",
      "_model_module_version": "1.5.0",
      "_model_name": "ProgressStyleModel",
      "_view_count": null,
      "_view_module": "@jupyter-widgets/base",
      "_view_module_version": "1.2.0",
      "_view_name": "StyleView",
      "bar_color": null,
      "description_width": ""
     }
    },
    "f0ab105850f6412eaec5f1305f63de08": {
     "model_module": "@jupyter-widgets/base",
     "model_module_version": "1.2.0",
     "model_name": "LayoutModel",
     "state": {
      "_model_module": "@jupyter-widgets/base",
      "_model_module_version": "1.2.0",
      "_model_name": "LayoutModel",
      "_view_count": null,
      "_view_module": "@jupyter-widgets/base",
      "_view_module_version": "1.2.0",
      "_view_name": "LayoutView",
      "align_content": null,
      "align_items": null,
      "align_self": null,
      "border": null,
      "bottom": null,
      "display": null,
      "flex": null,
      "flex_flow": null,
      "grid_area": null,
      "grid_auto_columns": null,
      "grid_auto_flow": null,
      "grid_auto_rows": null,
      "grid_column": null,
      "grid_gap": null,
      "grid_row": null,
      "grid_template_areas": null,
      "grid_template_columns": null,
      "grid_template_rows": null,
      "height": null,
      "justify_content": null,
      "justify_items": null,
      "left": null,
      "margin": null,
      "max_height": null,
      "max_width": null,
      "min_height": null,
      "min_width": null,
      "object_fit": null,
      "object_position": null,
      "order": null,
      "overflow": null,
      "overflow_x": null,
      "overflow_y": null,
      "padding": null,
      "right": null,
      "top": null,
      "visibility": null,
      "width": null
     }
    }
   }
  }
 },
 "nbformat": 4,
 "nbformat_minor": 1
}
